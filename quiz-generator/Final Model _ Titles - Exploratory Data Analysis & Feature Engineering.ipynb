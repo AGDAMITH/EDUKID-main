{
 "cells": [
  {
   "cell_type": "markdown",
   "metadata": {},
   "source": [
    "# Exploratory Data Analysis"
   ]
  },
  {
   "cell_type": "code",
   "execution_count": 1,
   "metadata": {},
   "outputs": [],
   "source": [
    "# import required libraries\n",
    "import pandas as pd\n",
    "import matplotlib.pyplot as plt\n",
    "import pickle\n",
    "import seaborn as sns\n",
    "sns.set_style(\"whitegrid\")\n",
    "import warnings\n",
    "warnings.filterwarnings(\"ignore\")\n",
    "import altair as alt\n",
    "import re\n",
    "import nltk\n",
    "from nltk.corpus import stopwords\n",
    "from nltk.stem import WordNetLemmatizer\n",
    "from sklearn.feature_extraction.text import TfidfVectorizer\n",
    "from sklearn.model_selection import train_test_split\n",
    "from sklearn.feature_selection import chi2\n",
    "import numpy as np"
   ]
  },
  {
   "cell_type": "code",
   "execution_count": 2,
   "metadata": {},
   "outputs": [
    {
     "data": {
      "text/html": [
       "<div>\n",
       "<style scoped>\n",
       "    .dataframe tbody tr th:only-of-type {\n",
       "        vertical-align: middle;\n",
       "    }\n",
       "\n",
       "    .dataframe tbody tr th {\n",
       "        vertical-align: top;\n",
       "    }\n",
       "\n",
       "    .dataframe thead th {\n",
       "        text-align: right;\n",
       "    }\n",
       "</style>\n",
       "<table border=\"1\" class=\"dataframe\">\n",
       "  <thead>\n",
       "    <tr style=\"text-align: right;\">\n",
       "      <th></th>\n",
       "      <th>Unnamed: 0</th>\n",
       "      <th>Title</th>\n",
       "      <th>Topic</th>\n",
       "    </tr>\n",
       "  </thead>\n",
       "  <tbody>\n",
       "    <tr>\n",
       "      <th>0</th>\n",
       "      <td>0</td>\n",
       "      <td>Types of sets</td>\n",
       "      <td>Sets</td>\n",
       "    </tr>\n",
       "    <tr>\n",
       "      <th>1</th>\n",
       "      <td>1</td>\n",
       "      <td>CBSE Class 2 Maths | CBSE Maths Chapter 5 - Pa...</td>\n",
       "      <td>Symmetry</td>\n",
       "    </tr>\n",
       "    <tr>\n",
       "      <th>2</th>\n",
       "      <td>2</td>\n",
       "      <td>Why Do We Fart? - The Dr. Binocs Show | Best L...</td>\n",
       "      <td>Operations of Whole Number</td>\n",
       "    </tr>\n",
       "    <tr>\n",
       "      <th>3</th>\n",
       "      <td>3</td>\n",
       "      <td>Lesson 12. Triangles and Quadrilaterals | Math...</td>\n",
       "      <td>Number Patterns</td>\n",
       "    </tr>\n",
       "    <tr>\n",
       "      <th>4</th>\n",
       "      <td>4</td>\n",
       "      <td>Triangular Numbers 1, 3, 6, 10, 15 Non-Linear ...</td>\n",
       "      <td>Number Patterns</td>\n",
       "    </tr>\n",
       "  </tbody>\n",
       "</table>\n",
       "</div>"
      ],
      "text/plain": [
       "   Unnamed: 0                                              Title  \\\n",
       "0           0                                      Types of sets   \n",
       "1           1  CBSE Class 2 Maths | CBSE Maths Chapter 5 - Pa...   \n",
       "2           2  Why Do We Fart? - The Dr. Binocs Show | Best L...   \n",
       "3           3  Lesson 12. Triangles and Quadrilaterals | Math...   \n",
       "4           4  Triangular Numbers 1, 3, 6, 10, 15 Non-Linear ...   \n",
       "\n",
       "                        Topic  \n",
       "0                        Sets  \n",
       "1                    Symmetry  \n",
       "2  Operations of Whole Number  \n",
       "3             Number Patterns  \n",
       "4             Number Patterns  "
      ]
     },
     "execution_count": 2,
     "metadata": {},
     "output_type": "execute_result"
    }
   ],
   "source": [
    "df = pd.read_csv('video titles dataset.csv')\n",
    "df.head()"
   ]
  },
  {
   "cell_type": "code",
   "execution_count": 3,
   "metadata": {},
   "outputs": [],
   "source": [
    "df.drop('Unnamed: 0',axis=1,inplace=True)"
   ]
  },
  {
   "cell_type": "code",
   "execution_count": 4,
   "metadata": {},
   "outputs": [
    {
     "data": {
      "text/plain": [
       "Index(['Title', 'Topic'], dtype='object')"
      ]
     },
     "execution_count": 4,
     "metadata": {},
     "output_type": "execute_result"
    }
   ],
   "source": [
    "# check columns\n",
    "df.columns"
   ]
  },
  {
   "cell_type": "code",
   "execution_count": 5,
   "metadata": {},
   "outputs": [
    {
     "data": {
      "text/plain": [
       "Title     True\n",
       "Topic    False\n",
       "dtype: bool"
      ]
     },
     "execution_count": 5,
     "metadata": {},
     "output_type": "execute_result"
    }
   ],
   "source": [
    "# check for missing values in any column\n",
    "df.isnull().any()"
   ]
  },
  {
   "cell_type": "code",
   "execution_count": 6,
   "metadata": {},
   "outputs": [
    {
     "name": "stdout",
     "output_type": "stream",
     "text": [
      "Dataset shape = (1174, 2)\n"
     ]
    }
   ],
   "source": [
    "print(f'Dataset shape = {df.shape}')"
   ]
  },
  {
   "cell_type": "code",
   "execution_count": 7,
   "metadata": {},
   "outputs": [],
   "source": [
    "# Drop null values\n",
    "df.dropna(inplace=True)"
   ]
  },
  {
   "cell_type": "code",
   "execution_count": 8,
   "metadata": {},
   "outputs": [
    {
     "name": "stdout",
     "output_type": "stream",
     "text": [
      "Dataset shape = (1172, 2)\n"
     ]
    }
   ],
   "source": [
    "print(f'Dataset shape = {df.shape}')"
   ]
  },
  {
   "cell_type": "markdown",
   "metadata": {},
   "source": [
    "### Number of titles in each topic"
   ]
  },
  {
   "cell_type": "code",
   "execution_count": 9,
   "metadata": {},
   "outputs": [
    {
     "data": {
      "text/html": [
       "\n",
       "<div id=\"altair-viz-7f09098f44ae406fa4802ef619127d61\"></div>\n",
       "<script type=\"text/javascript\">\n",
       "  (function(spec, embedOpt){\n",
       "    let outputDiv = document.currentScript.previousElementSibling;\n",
       "    if (outputDiv.id !== \"altair-viz-7f09098f44ae406fa4802ef619127d61\") {\n",
       "      outputDiv = document.getElementById(\"altair-viz-7f09098f44ae406fa4802ef619127d61\");\n",
       "    }\n",
       "    const paths = {\n",
       "      \"vega\": \"https://cdn.jsdelivr.net/npm//vega@5?noext\",\n",
       "      \"vega-lib\": \"https://cdn.jsdelivr.net/npm//vega-lib?noext\",\n",
       "      \"vega-lite\": \"https://cdn.jsdelivr.net/npm//vega-lite@4.8.1?noext\",\n",
       "      \"vega-embed\": \"https://cdn.jsdelivr.net/npm//vega-embed@6?noext\",\n",
       "    };\n",
       "\n",
       "    function loadScript(lib) {\n",
       "      return new Promise(function(resolve, reject) {\n",
       "        var s = document.createElement('script');\n",
       "        s.src = paths[lib];\n",
       "        s.async = true;\n",
       "        s.onload = () => resolve(paths[lib]);\n",
       "        s.onerror = () => reject(`Error loading script: ${paths[lib]}`);\n",
       "        document.getElementsByTagName(\"head\")[0].appendChild(s);\n",
       "      });\n",
       "    }\n",
       "\n",
       "    function showError(err) {\n",
       "      outputDiv.innerHTML = `<div class=\"error\" style=\"color:red;\">${err}</div>`;\n",
       "      throw err;\n",
       "    }\n",
       "\n",
       "    function displayChart(vegaEmbed) {\n",
       "      vegaEmbed(outputDiv, spec, embedOpt)\n",
       "        .catch(err => showError(`Javascript Error: ${err.message}<br>This usually means there's a typo in your chart specification. See the javascript console for the full traceback.`));\n",
       "    }\n",
       "\n",
       "    if(typeof define === \"function\" && define.amd) {\n",
       "      requirejs.config({paths});\n",
       "      require([\"vega-embed\"], displayChart, err => showError(`Error loading script: ${err.message}`));\n",
       "    } else if (typeof vegaEmbed === \"function\") {\n",
       "      displayChart(vegaEmbed);\n",
       "    } else {\n",
       "      loadScript(\"vega\")\n",
       "        .then(() => loadScript(\"vega-lite\"))\n",
       "        .then(() => loadScript(\"vega-embed\"))\n",
       "        .catch(showError)\n",
       "        .then(() => displayChart(vegaEmbed));\n",
       "    }\n",
       "  })({\"config\": {\"view\": {\"continuousWidth\": 400, \"continuousHeight\": 300}}, \"layer\": [{\"mark\": {\"type\": \"bar\", \"size\": 50}, \"encoding\": {\"color\": {\"type\": \"nominal\", \"field\": \"Topic\"}, \"tooltip\": [{\"type\": \"quantitative\", \"aggregate\": \"count\", \"title\": \"Number of titles\"}, {\"type\": \"nominal\", \"field\": \"Topic\"}], \"x\": {\"type\": \"nominal\", \"field\": \"Topic\"}, \"y\": {\"type\": \"quantitative\", \"aggregate\": \"count\", \"axis\": {\"title\": \"Number of titles\"}}}, \"selection\": {\"selector001\": {\"type\": \"interval\", \"bind\": \"scales\", \"encodings\": [\"x\", \"y\"]}}}, {\"mark\": {\"type\": \"text\", \"align\": \"center\", \"baseline\": \"bottom\"}, \"encoding\": {\"color\": {\"type\": \"nominal\", \"field\": \"Topic\"}, \"text\": {\"type\": \"quantitative\", \"aggregate\": \"count\"}, \"tooltip\": [{\"type\": \"quantitative\", \"aggregate\": \"count\", \"title\": \"Number of titles\"}, {\"type\": \"nominal\", \"field\": \"Topic\"}], \"x\": {\"type\": \"nominal\", \"field\": \"Topic\"}, \"y\": {\"type\": \"quantitative\", \"aggregate\": \"count\", \"axis\": {\"title\": \"Number of titles\"}}}}], \"data\": {\"name\": \"data-e70209f79b52167623972ba8890c9f49\"}, \"height\": 300, \"title\": \"Number of titles in each category\", \"width\": 700, \"$schema\": \"https://vega.github.io/schema/vega-lite/v4.8.1.json\", \"datasets\": {\"data-e70209f79b52167623972ba8890c9f49\": [{\"Title\": \"Types of sets\", \"Topic\": \"Sets\"}, {\"Title\": \"CBSE Class 2 Maths | CBSE Maths Chapter 5 - Patterns | NCERT | CBSE Syllabus | Maths For Grade 2\", \"Topic\": \"Symmetry\"}, {\"Title\": \"Why Do We Fart? - The Dr. Binocs Show | Best Learning Videos For Kids | Peekaboo Kidz\", \"Topic\": \"Operations of Whole Number\"}, {\"Title\": \"Lesson 12. Triangles and Quadrilaterals | Maths Session for Grade 08\", \"Topic\": \"Number Patterns\"}, {\"Title\": \"Triangular Numbers 1, 3, 6, 10, 15 Non-Linear Pattern Rules\", \"Topic\": \"Number Patterns\"}, {\"Title\": \"Multiples & Factors || Find the factors || Trivial Factors || Maths Activities\", \"Topic\": \"Factors and Multiplication\"}, {\"Title\": \"Factors and Multiples | Class 6 | Maths | CBSE | ICSE | FREE Tutorial\", \"Topic\": \"Factors and Multiplication\"}, {\"Title\": \"Grade 8 - Mathematics - Algebraic Expression 1 / WorksheetCloud Online Lesson\", \"Topic\": \"Algebra Expression\"}, {\"Title\": \"INTRODUCTION TO INTEGERS | GRADE 6\", \"Topic\": \"Directed Numbers\"}, {\"Title\": \"Let\\\\u2019s Learn Good Behaviour | Good Manners For Kids | Good Habits For Kids | Pre School Junior\", \"Topic\": \"Directed Numbers\"}, {\"Title\": \"Math Antics - Order Of Operations\", \"Topic\": \"Operations of Whole Number\"}, {\"Title\": \"Factorising Algebraic Expressions ( factoring / factorizing \", \"Topic\": \"Algebra Expression\"}, {\"Title\": \"Abacus tutorial for beginners - Math and Addition- How to start with Abacus easy way |2.5 yr Toddler\", \"Topic\": \"Operations of Whole Number\"}, {\"Title\": \"Lesson 24. Indices | Maths Session for Grade 06\", \"Topic\": \"Indices\"}, {\"Title\": \"Phonics Chapter 1 : Sounds of Alphabets | Learn Phonics  | Phonics Classroom Teaching\", \"Topic\": \"Directed Numbers\"}, {\"Title\": \"Meet the Math Facts - Multiplication & Division Level 1 (FREE) | Preschool Prep\", \"Topic\": \"Angles\"}, {\"Title\": \"Types of sets\", \"Topic\": \"Sets\"}, {\"Title\": \"Phonics Course Level 1 | Learn Phonics For Kids | Alphabet Sounds | Phonics For Pre School\", \"Topic\": \"Number Patterns\"}, {\"Title\": \"Angles (part 3) | Angles and intersecting lines | Geometry | Khan Academy\", \"Topic\": \"Angles\"}, {\"Title\": \"Singular and Plural | Singular & Plural Nouns | Phonics | Pre School Kindergarte\", \"Topic\": \"Angles\"}, {\"Title\": \"Adding and Subtracting Integers Using a Simple Metho\", \"Topic\": \"Directed Numbers\"}, {\"Title\": \"ore and After Numbers | Mathematics Grade 1 | Periwinkle\", \"Topic\": \"Directed Numbers\"}, {\"Title\": \"Set Builder Notation and Roster Method\", \"Topic\": \"Sets\"}, {\"Title\": \"Place Value Of The Digits In A Number | Mathematics Grade 5 | Periwinkle\", \"Topic\": \"Operations of Whole Number\"}, {\"Title\": \"Sets Exercise 1.3 (Q1, Q2) class 11 Maths Ncert\", \"Topic\": \"Sets\"}, {\"Title\": \"Lesson 8. Directed Numbers | Maths Session for Grade 07\", \"Topic\": \"Directed Numbers\"}, {\"Title\": \"/L Maths Lessons in Sinhala - Number Patterns | Grade 8 Lesson 1 Mathematics in Sinhala | guruthuma\", \"Topic\": \"Number Patterns\"}, {\"Title\": \"Lesson 3. Operations on whole numbers | Maths Session for Grade 07\", \"Topic\": \"Operations of Whole Number\"}, {\"Title\": \"Solving Word Problems Involving Operations | MathDali | Grade 4 Math\", \"Topic\": \"Operations of Whole Number\"}, {\"Title\": \"Earth Science for Kids - Solar System, Weather, Fossils, Volcanoes & More - Rock 'N Learn\", \"Topic\": \"Number Patterns\"}, {\"Title\": \"Types of Angles According to Measures | Mathematics Grade 5 | Periwinkle\\\"\", \"Topic\": \"Angles\"}, {\"Title\": \"LCM and HCF by using Prime Factorization Method |Class 1 to 5|\", \"Topic\": \"Factors and Multiplication\"}, {\"Title\": \"Weather and Climate | Marvel Semester Series Social Studies Grade 3 | Periwinkle\", \"Topic\": \"Directed Numbers\"}, {\"Title\": \"Factors and Multiples - Grade 6 - 11th lesson - English Medium - Sri Lankan National Curriculum\", \"Topic\": \"Factors and Multiplication\"}, {\"Title\": \"xponent rules part 1 | Exponents, radicals, and scientific notation | Pre-Algebra | Khan Academy\", \"Topic\": \"Indices\"}, {\"Title\": \"Factors and Multiples | Mathematics Grade 5 | Periwinkle\", \"Topic\": \"Factors and Multiplication\"}, {\"Title\": \"Learning Even And Odd Numbers | Mathematics Grade 2 | Periwinkle\", \"Topic\": \"Number Patterns\"}, {\"Title\": \"Learn to Find Area and Perimeter of Square and Rectangle | Math | Grade-5 | Tutway |\", \"Topic\": \"Perimeter\"}, {\"Title\": \"Invention Of BRAILLE - Language Of The Blind  | The Dr. Binocs Show | Best Learning Video for Kids\", \"Topic\": \"Algebra Expression\"}, {\"Title\": \"Class 5 || Maths || Are\", \"Topic\": \"Angles\"}, {\"Title\": \"Simple Math Tricks You Weren\\\\u2019t Taught at Schoo\", \"Topic\": \"Operations of Whole Number\"}, {\"Title\": \"MATH Quiz: Are You Smarter than 8th grader? | Can You Pass 8th Grade? - 30 Question\", \"Topic\": \"Algebra Expression\"}, {\"Title\": \"Lesson 1. Number Patterns | Maths Session for Grade 08\", \"Topic\": \"Number Patterns\"}, {\"Title\": \"Class 5 || CBSE || Maths || Let us start learning Mathematics || The Fish Tale\", \"Topic\": \"Symmetry\"}, {\"Title\": \"Lesson 24. Indices | Maths Session for Grade 06\", \"Topic\": \"Indices\"}, {\"Title\": \"Lesson 12. Indices | Maths Session for Grade 09\", \"Topic\": \"Indices\"}, {\"Title\": \"\\\"Reflectional Symmetry and Rotational Symmetry | Don't Memorise\", \"Topic\": \"Symmetry\"}, {\"Title\": \"Fractions I - Grade 8 - 13th lesson - English Medium - Sri Lankan National Curriculum\\\"\", \"Topic\": \"Algebra Expression\"}, {\"Title\": \"Math Antics - Perimeter\", \"Topic\": \"Perimeter\"}, {\"Title\": \"Symmetry - Introduction | Class 6 Maths\", \"Topic\": \"Symmetry\"}, {\"Title\": \"What are Sets? | Set Theory | Don't Memorise\", \"Topic\": \"Sets\"}, {\"Title\": \"Adding/subtracting negative numbers | Pre-Algebra | Khan Academy\", \"Topic\": \"Directed Numbers\"}, {\"Title\": \"Intro to Symmetry (Part 2) | What is Symmetry? | Lines of Symmetry\", \"Topic\": \"Symmetry\"}, {\"Title\": \"Introduction to exponents | Pre-Algebra | Khan Academy\", \"Topic\": \"Indices\"}, {\"Title\": \"Types of sets\", \"Topic\": \"Sets\"}, {\"Title\": \"How to Find Area and Perimeter\", \"Topic\": \"Perimeter\"}, {\"Title\": \"Properties of Whole Numbers - Part 1 | Don't Memorise\", \"Topic\": \"Operations of Whole Number\"}, {\"Title\": \"Solving Algebraic Expressions (Grade 8 Nelson Lesson 8.3 4 9 13\", \"Topic\": \"Algebra Expression\"}, {\"Title\": \"Perimeter and area of a non-standard polygon | Perimeter, area, and volume | Geometry | Khan Academy\", \"Topic\": \"Perimeter\"}, {\"Title\": \"Patterns | Maths for Kids | Kindergarten Maths School Syllabus | Maths For Pre School\", \"Topic\": \"Number Patterns\"}, {\"Title\": \"NCERT Grade 8 || CBSE Class 8 - Algebraic Expressions and Identities Introduction in Tamil\", \"Topic\": \"Algebra Expression\"}, {\"Title\": \"Lesson 4. Factors and Multiples (Part I) | Maths Session for Grade 07\", \"Topic\": \"Symmetry\"}, {\"Title\": \"Intro to Symmetry (Part 1) | What is Symmetry? | Lines of Symmetry\", \"Topic\": \"Symmetry\"}, {\"Title\": \"New Divide Tricks | Division Tricks | Divisibility Rules | Divisibility Rule For 7 | Maths Tricks\", \"Topic\": \"Indices\"}, {\"Title\": \"Sets I | Class 6 | Maths | CBSE | ICSE | FREE Tutorial\", \"Topic\": \"Sets\"}, {\"Title\": \"Algebra as a Pattern\", \"Topic\": \"Algebra Expression\"}, {\"Title\": \"9 Incredible Science Facts You Probably Didn't Learn At School\", \"Topic\": \"Sets\"}, {\"Title\": \"9 Incredible Science Facts You Probably Didn't Learn At School\", \"Topic\": \"Indices\"}, {\"Title\": \"Triangles | Mathematics Grade 5 | Periwinkle\", \"Topic\": \"Perimeter\"}, {\"Title\": \"Introduction to square roots | Numbers and operations | 8th grade | Khan Academy\", \"Topic\": \"Directed Numbers\"}, {\"Title\": \"Algebra Basics: Solving 2-Step Equations - Math Antics\", \"Topic\": \"Algebra Expression\"}, {\"Title\": \"The Pythagorean theorem intro | Right triangles and trigonometry | Geometry | Khan Academy\", \"Topic\": \"Perimeter\"}, {\"Title\": \"Math Antics - Prime Factorization\", \"Topic\": \"Factors and Multiplication\"}, {\"Title\": \"Intro to the number line | Class 6 (India) | Math | Khan Academ\", \"Topic\": \"Operations of Whole Number\"}, {\"Title\": \"Introduction - Data Handling Chapter 5 - NCERT Class 8th Maths Solutions\", \"Topic\": \"Angles\"}, {\"Title\": \"Math Antics - Adding & Subtracting Integers\", \"Topic\": \"Directed Numbers\"}, {\"Title\": \"Phonics Course Level 1 | Learn Phonics For Kids | Alphabet Sounds | Phonics For Pre School\", \"Topic\": \"Perimeter\"}, {\"Title\": \"Health and Physical Education Grade 7 | Let us build a healthy family environment | English Medium\", \"Topic\": \"Operations of Whole Number\"}, {\"Title\": \"Phonics Chapter 1 : Sounds of Alphabets | Learn Phonics  | Phonics Classroom Teaching\", \"Topic\": \"Symmetry\"}, {\"Title\": \"Grade 9 - Mathematics - Indices PART 1 (English Medium)\", \"Topic\": \"Indices\"}, {\"Title\": \"Directed numbers | Addition | Subtraction\", \"Topic\": \"Directed Numbers\"}, {\"Title\": \"Algebra Basics: What Are Polynomials? - Math Antics\", \"Topic\": \"Directed Numbers\"}, {\"Title\": \"Negative Numbers: An Overview\", \"Topic\": \"Directed Numbers\"}, {\"Title\": \"Algebraic Expressions | Class 7 | Maths| CBSE | ICSE | FREE Tutorial\", \"Topic\": \"Algebra Expression\"}, {\"Title\": \"10 Fun Kiddy Riddles That Stump Most Adults\", \"Topic\": \"Number Patterns\"}, {\"Title\": \"Math Antics - Scientific Notation\", \"Topic\": \"Directed Numbers\"}, {\"Title\": \"Introduction to Algebra | Algebra for Beginners | Math | LetsTute\", \"Topic\": \"Algebra Expression\"}, {\"Title\": \"Math Antics - Long Division\", \"Topic\": \"Angles\"}, {\"Title\": \"Lesson 29. Likelihood of an Event Occurring | Maths Session for Grade 07\", \"Topic\": \"Operations of Whole Number\"}, {\"Title\": \"Symmetrical & Non Symmetrical Shapes\", \"Topic\": \"Symmetry\"}, {\"Title\": \"Perimeter | Maths for Kids | Grade 4 | Periwinkle\", \"Topic\": \"Perimeter\"}, {\"Title\": \"Lesson 1. Bilateral Symmetry | Maths Session for Grade 07\", \"Topic\": \"Symmetry\"}, {\"Title\": \"Roman Numerals | Mathematics Grade 5 | Periwinkle\", \"Topic\": \"Operations of Whole Number\"}, {\"Title\": \"Understanding Patterns | Mathematics Grade 1 | Periwinkle\", \"Topic\": \"Number Patterns\"}, {\"Title\": \"Introduction to rational and irrational numbers | Algebra I | Khan Academy\", \"Topic\": \"Number Patterns\"}, {\"Title\": \"Invention Of BRAILLE - Language Of The Blind  | The Dr. Binocs Show | Best Learning Video for Kids\", \"Topic\": \"Algebra Expression\"}, {\"Title\": \"Grade 8 Introduction to Perimeter and Area\", \"Topic\": \"Perimeter\"}, {\"Title\": \"Perimeter and area full chapter | Mathematics | Class 7 | CBSE Syllabus\", \"Topic\": \"Perimeter\"}, {\"Title\": \"Measure Length | Mathematics Grade 1 | Periwinkle\", \"Topic\": \"Perimeter\"}, {\"Title\": \"Lesson 4. Directed Numbers | Maths Session for Grade 08\", \"Topic\": \"Number Patterns\"}, {\"Title\": \"Class 5 || CBSE || Maths || Let us start learning Mathematics || The Fish Tale\", \"Topic\": \"Perimeter\"}, {\"Title\": \"Factors and Multiples made easy |Prime Factorization| Find factors of all numbers| Class 1 to 5 |\", \"Topic\": \"Factors and Multiplication\"}, {\"Title\": \"Introduction To Negative Numbers |  Maths Concept For Kids | Maths Grade 5 | Periwinkle\", \"Topic\": \"Directed Numbers\"}, {\"Title\": \"Going To the Forest | Wild Animals for Kids and More Learning Songs & Nursery Rhymes by ChuChu TV\", \"Topic\": \"Directed Numbers\"}, {\"Title\": \"Volume of a Cuboid | Mathematics Grade 5 | Periwinkle\", \"Topic\": \"Angles\"}, {\"Title\": \"Indices Grade 07\", \"Topic\": \"Indices\"}, {\"Title\": \"Phonics Chapter 10 : Blending Words | Learn Phonics For Kids | Phonics Classroom Teaching Lessons\", \"Topic\": \"Indices\"}, {\"Title\": \"\\\"9 Incredible Science Facts You Probably Didn't Learn At School\", \"Topic\": \"Algebra Expression\"}, {\"Title\": \"Math Antics - Negative Numbers\", \"Topic\": \"Directed Numbers\"}, {\"Title\": \"Abacus Class - Introduction | Learn basics Abacus | Beginners Abacus Lesson 1\", \"Topic\": \"Operations of Whole Number\"}, {\"Title\": \"Perimeter | Maths for Kids | Grade 4 | Periwinkle\", \"Topic\": \"Symmetry\"}, {\"Title\": \"Class 6 Maths - Ratio and Proportion | Ratio\", \"Topic\": \"Indices\"}, {\"Title\": \"Algebra Basics: Laws Of Exponents - Math Antics\", \"Topic\": \"Indices\"}, {\"Title\": \"Math Antics - Basic Probability\", \"Topic\": \"Indices\"}, {\"Title\": \"Grade 8 Math - Lesson 8.5: Solving Equations\", \"Topic\": \"Algebra Expression\"}, {\"Title\": \"Math Antics - Points, Lines, & Planes\", \"Topic\": \"Angles\"}, {\"Title\": \"Maths Symmetry part 1 (Introduction) CBSE Class 6 Mathematics VI\", \"Topic\": \"Symmetry\"}, {\"Title\": \"\\\"Maths Symmetry part 4 (Line Symmetry) CBSE Class 6 Mathematics VI\", \"Topic\": \"Symmetry\"}, {\"Title\": \"Grade 5|| MATHS || Unit 6- LCM and HCF\", \"Topic\": \"Factors and Multiplication\"}, {\"Title\": \"9 Incredible Science Facts You Probably Didn't Learn At Schoo\", \"Topic\": \"Algebra Expression\"}, {\"Title\": \"Q 3 - Ex 2.2 - Linear Equations in One Variable - NCERT Maths Class 8th - Chapter 2\", \"Topic\": \"Perimeter\"}, {\"Title\": \"\\\"How to become a Math Genius.\\\\u2714\\\\ufe0f How do genius people See a math problem! by mathOgenius\", \"Topic\": \"Angles\"}, {\"Title\": \"Introduction to Perimeter | #aumsum #kids #science #education #children\", \"Topic\": \"Perimeter\"}, {\"Title\": \"Phonics Course Level 1 | Learn Phonics For Kids | Alphabet Sounds | Phonics For Pre School\", \"Topic\": \"Indices\"}, {\"Title\": \"Lesson 4. Directed Numbers | Maths Session for Grade 08\", \"Topic\": \"Directed Numbers\"}, {\"Title\": \"Area and Perimeter\", \"Topic\": \"Perimeter\"}, {\"Title\": \"O/L Maths Lessons in Sinhala - Perimeter | Grade 8 Lesson 2 Mathematics in Sinhala | guruthuma\", \"Topic\": \"Perimeter\"}, {\"Title\": \"Reflectional Symmetry and Rotational Symmetry | Don't Memorise\", \"Topic\": \"Symmetry\"}, {\"Title\": \"Introduction to rational and irrational numbers | Algebra I | Khan Academy\", \"Topic\": \"Directed Numbers\"}, {\"Title\": \"Multiple and Factors Part-2 | 5th std Maths Syllabus | Exercises & Activities | Easy to Learn Maths\", \"Topic\": \"Factors and Multiplication\"}, {\"Title\": \"Practice finding patterns in numbers | 3rd grade | Khan Academy\", \"Topic\": \"Number Patterns\"}, {\"Title\": \"Law of indices (all index laws) - Math\", \"Topic\": \"Indices\"}, {\"Title\": \"10 Math Games That'll Boost Your Brain Power By 80%\\\",\", \"Topic\": \"Algebra Expression\"}, {\"Title\": \"Lesson 6. Factors of the Algebraic Expressions | Maths Session for Grade 9\", \"Topic\": \"Algebra Expression\"}, {\"Title\": \"Symmetry - (CBSE Grade: 06 Maths\", \"Topic\": \"Symmetry\"}, {\"Title\": \"Angles - Types and definition - Mathematics for kids\", \"Topic\": \"Angles\"}, {\"Title\": \"What is Reflectional Symmetry | Class 7th Maths\", \"Topic\": \"Symmetry\"}, {\"Title\": \"Year 7 Indices\", \"Topic\": \"Indices\"}, {\"Title\": \"Intro to Angles for Kids: Understanding Angles for Children - FreeSchool Math\\\", \", \"Topic\": \"Angles\"}, {\"Title\": \"Factors and Multiples - Playing with Numbers | Class 6 Maths\", \"Topic\": \"Factors and Multiplication\"}, {\"Title\": \"Reflectional Symmetry and Rotational Symmetry | Don't Memorise\", \"Topic\": \"Symmetry\"}, {\"Title\": \"Math Antics - Points, Lines, & Planes\", \"Topic\": \"Angles\"}, {\"Title\": \"GCF\", \"Topic\": \"Factors and Multiplication\"}, {\"Title\": \"ALGEBRAIC EXPRESSIONS & EQUATIONS | GRADE 6\", \"Topic\": \"Algebra Expression\"}, {\"Title\": \"6th Grade Math Assessment Practice Day 1\", \"Topic\": \"Sets\"}, {\"Title\": \"Lesson 8. Square Root | Maths Session for Grade 08\", \"Topic\": \"Number Patterns\"}, {\"Title\": \"Good Manners in Everyday Life for kids in English | Good Manners Videos For All | Good Habit\", \"Topic\": \"Symmetry\"}, {\"Title\": \"Set Theory - Union Intersection Complement Subset - Class 7 & 8 Math\", \"Topic\": \"Sets\"}, {\"Title\": \"The Pythagorean theorem intro | Right triangles and trigonometry | Geometry | Khan Academy\", \"Topic\": \"Angles\"}, {\"Title\": \"Fractional Exponents\", \"Topic\": \"Indices\"}, {\"Title\": \"Algebra Basics: Solving 2-Step Equations - Math Antics\", \"Topic\": \"Directed Numbers\"}, {\"Title\": \"Grade 2  Maths Number Patterns\", \"Topic\": \"Number Patterns\"}, {\"Title\": \"Simple Math Tricks You Weren\\\\u2019t Taught at School\", \"Topic\": \"Sets\"}, {\"Title\": \"6th Std English || Grammar Time || Parts of Speech || English Grammar || Prose\", \"Topic\": \"Indices\"}, {\"Title\": \"26 FAST MATHS TRICKS YOU MUST KNOW\", \"Topic\": \"Factors and Multiplication\"}, {\"Title\": \"Algebraic Expressions and Identities full lesson | Mathematics | Class 8 | CBSE Syllabus\", \"Topic\": \"Algebra Expression\"}, {\"Title\": \"Understand and Learn the Rules of Positive and Negative Numbers\", \"Topic\": \"Directed Numbers\"}, {\"Title\": \"Indices (Powers)\\\", \", \"Topic\": \"Indices\"}, {\"Title\": \"Laws Of Indices - Part 1 | Algebra | Maths | FuseSchool\", \"Topic\": \"Indices\"}, {\"Title\": \"5th std Maths Syllabus | Mathematics | Money Part -1 | Exercises & Activities\", \"Topic\": \"Perimeter\"}, {\"Title\": \"Factors and Multiples\", \"Topic\": \"Factors and Multiplication\"}, {\"Title\": \"Lesson 4. Directed Numbers | Maths Session for Grade 08\", \"Topic\": \"Number Patterns\"}, {\"Title\": \"Angles - Types and definition - Mathematics for kids\", \"Topic\": \"Angles\"}, {\"Title\": \"Class 5th Shapes and angles chapter 2 Maths\", \"Topic\": \"Angles\"}, {\"Title\": \"Number sets | Fractions | Pre-Algebra | Khan Academy\", \"Topic\": \"Directed Numbers\"}, {\"Title\": \"A Trick for Adding and Subtracting Negative Numbers\", \"Topic\": \"Directed Numbers\"}, {\"Title\": \"Rubi Theresa  Trick to remember trigonometric values|Palm Trick (In English\", \"Topic\": \"Perimeter\"}, {\"Title\": \"Missing value addition and subtraction problems with negative numbers | 7th grade | Khan Academy\", \"Topic\": \"Directed Numbers\"}, {\"Title\": \"26 FAST MATHS TRICKS YOU MUST KNOW\", \"Topic\": \"Indices\"}, {\"Title\": \"INTRODUCTION to SET THEORY - DISCRETE MATHEMATICS\", \"Topic\": \"Sets\"}, {\"Title\": \"Learning about Area | #aumsum #kids #science #education #children\", \"Topic\": \"Perimeter\"}, {\"Title\": \"Lesson 3. Angles | Maths Session for Grade 08\", \"Topic\": \"Number Patterns\"}, {\"Title\": \"Basic addition | Addition and subtraction | Arithmetic | Khan Academy\", \"Topic\": \"Indices\"}, {\"Title\": \"Direct And Indirect Objects | English Grammar & Composition Grade 5 | Periwinkle\", \"Topic\": \"Sets\"}, {\"Title\": \"Negative Numbers: An Overview\", \"Topic\": \"Directed Numbers\"}, {\"Title\": \"Refraction of Ligh\", \"Topic\": \"Angles\"}, {\"Title\": \"Prime factorization | Factors and multiples | Pre-Algebra | Khan Academy\", \"Topic\": \"Factors and Multiplication\"}, {\"Title\": \"Grade 8 Geometry\", \"Topic\": \"Angles\"}, {\"Title\": \"Class 5 || Maths || Decimal Fractions\", \"Topic\": \"Perimeter\"}, {\"Title\": \"Math Antics - Perimeter\", \"Topic\": \"Perimeter\"}, {\"Title\": \"What is a Linear Equation in One Variable? | Don't Memorise\", \"Topic\": \"Algebra Expression\"}, {\"Title\": \"Perimeter for Kids | Math Lesson \", \"Topic\": \"Perimeter\"}, {\"Title\": \"Rounding The Numbers | Mathematics Grade 5 | Periwinkle\", \"Topic\": \"Operations of Whole Number\"}, {\"Title\": \"Regrouping whole numbers | Arithmetic properties | Pre-Algebra | Khan Academy\", \"Topic\": \"Operations of Whole Number\"}, {\"Title\": \"Introduction to transformations | Transformations | Geometry | Khan Academy\", \"Topic\": \"Angles\"}, {\"Title\": \"A Trick for Adding and Subtracting Negative Numbers\", \"Topic\": \"Directed Numbers\"}, {\"Title\": \"Introduction - Mensuration - Chapter 11 - NCERT Class 8th Maths\", \"Topic\": \"Perimeter\"}, {\"Title\": \"Perimeter of a shape | Measurement | Pre-Algebra | Khan Academy\", \"Topic\": \"Perimeter\"}, {\"Title\": \"Lesson 1. Number Patterns | Maths Session for Grade 09\", \"Topic\": \"Number Patterns\"}, {\"Title\": \"Equivalent expressions with distribution and negative numbers | 7th grade | Khan Academy\", \"Topic\": \"Directed Numbers\"}, {\"Title\": \"Math Antics - Perimeter\", \"Topic\": \"Perimeter\"}, {\"Title\": \"Negative numbers introduction | Negative numbers and absolute value | Pre-Algebra | Khan Academy\", \"Topic\": \"Directed Numbers\"}, {\"Title\": \"Factors and Multiples | Mathematics Grade 5 | Periwinkle\", \"Topic\": \"Factors and Multiplication\"}, {\"Title\": \"Writing Roman Numerals | Mathematics Grade 3 | Periwinkle\", \"Topic\": \"Directed Numbers\"}, {\"Title\": \"1st STD Maths CBSE Syllabus | CBSE Maths | Chapter - Bigger Number | Mathematics Lesson -11\", \"Topic\": \"Symmetry\"}, {\"Title\": \"Lesson 5. Algebraic Expressions | Maths Session for Grade 08\", \"Topic\": \"Algebra Expression\"}, {\"Title\": \"Relations and functions | Functions and their graphs | Algebra II | Khan Academy\", \"Topic\": \"Symmetry\"}, {\"Title\": \"Grade 6 maths sinhala 6 \\\\u0dc0\\\\u0dc3\\\\u0dbb \\\\u0daf\\\\u0dd9\\\\u0dc0\\\\u0db1 \\\\u0dc0\\\\u0dcf\\\\u0dbb\\\\u0dba \\\\u0db4\\\\u0dc5\\\\u0db8\\\\u0dd4 \\\\u0db4\\\\u0dcf\\\\u0da9\\\\u0db8  mathematics sinhala ganithaya 6 wasara\", \"Topic\": \"Sets\"}, {\"Title\": \"19 Best Short English Stories for Kids Collection | Infobells\", \"Topic\": \"Symmetry\"}, {\"Title\": \"GCF\", \"Topic\": \"Factors and Multiplication\"}, {\"Title\": \"Introduction to geometric sequences | Sequences, series and induction | Precalculus | Khan Academy\", \"Topic\": \"Number Patterns\"}, {\"Title\": \"Math Antics - Angles & Degrees\", \"Topic\": \"Angles\"}, {\"Title\": \"What is Number Sequencing?\", \"Topic\": \"Number Patterns\"}, {\"Title\": \"Lesson 1 - Multiply Whole Numbers By Fractions (5th Grade Math\", \"Topic\": \"Operations of Whole Number\"}, {\"Title\": \"Ones & Tens | Mathematics Grade 1 | Periwinkle\", \"Topic\": \"Operations of Whole Number\"}, {\"Title\": \"\\\"Q 10, Ex 11.3 - Perimeter and Area - Chapter 11 - Maths Class 7th - NCERT\\\",\", \"Topic\": \"Perimeter\"}, {\"Title\": \"Algebra Basics: What Is Algebra? - Math Antics\", \"Topic\": \"Directed Numbers\"}, {\"Title\": \"Math Antics - Telling Time\", \"Topic\": \"Angles\"}, {\"Title\": \"Triangles | Mathematics Grade 5 | Periwinkle\", \"Topic\": \"Angles\"}, {\"Title\": \"Lesson 5. Indices | Maths Session for Grade 07\", \"Topic\": \"Indices\"}, {\"Title\": \"Lesson 3 - Indices and Logarithms -II |  Maths Session-Term 1 #logarithms #DPEducation #Grade11Maths\", \"Topic\": \"Indices\"}, {\"Title\": \"Grade 06 Science lessons in Sinhala |  Unit 06 | 6 \\\\u0dc0\\\\u0dc3\\\\u0dbb \\\\u0dc0\\\\u0dd2\\\\u0daf\\\\u0dca\\\\u200d\\\\u0dba\\\\u0dcf\\\\u0dc0 06 \\\\u0db4\\\\u0dcf\\\\u0da9\\\\u0db8 | \\\\u0dc1\\\\u0db6\\\\u0dca\\\\u0daf\\\\u0dba \\\\u0dc4\\\\u0dcf \\\\u0d87\\\\u0dc3\\\\u0dd3\\\\u0db8\", \"Topic\": \"Indices\"}, {\"Title\": \"Class 5 || Maths || Fractions   Equivalent Fractions\", \"Topic\": \"Perimeter\"}, {\"Title\": \"How to Remember what you study? | How to Increase your Memory Power? | Study Tips | Letstute\", \"Topic\": \"Angles\"}, {\"Title\": \"Simplifying Exponents With Fractions, Variables, Negative Exponents, Multiplication & Division, Math\", \"Topic\": \"Indices\"}, {\"Title\": \"\\\"5th std Maths Syllabus | Mathematics | Money Part -1 | Exercises & Activities\", \"Topic\": \"Symmetry\"}, {\"Title\": \"Line Of Symmetry | Mathematics Grade 4 | Periwinkle\", \"Topic\": \"Symmetry\"}, {\"Title\": \"Learning Factors | Mathematics Grade 4 | Periwinkle\", \"Topic\": \"Factors and Multiplication\"}, {\"Title\": \"Phonics Chapter 1 : Sounds of Alphabets | Learn Phonics  | Phonics Classroom Teaching\", \"Topic\": \"Perimeter\"}, {\"Title\": \"Finding factors of a number | Factors and multiples | Pre-Algebra | Khan Academy\", \"Topic\": \"Factors and Multiplication\"}, {\"Title\": \"Relationship Of Multiplication And Division | Mathematics Grade 3 | Periwinkle\", \"Topic\": \"Factors and Multiplication\"}, {\"Title\": \"Grade 8 Numeric patterns Part 1\", \"Topic\": \"Number Patterns\"}, {\"Title\": \"Profit and Loss | Mathematics Grade 5 | Periwinkle\", \"Topic\": \"Directed Numbers\"}, {\"Title\": \"Lesson 8. Square Root | Maths Session for Grade 08\", \"Topic\": \"Number Patterns\"}, {\"Title\": \"ors and multiples | Playing with numbers #1 | Class 6 Maths\", \"Topic\": \"Factors and Multiplication\"}, {\"Title\": \"Math patterns example 2 | Applying mathematical reasoning | Pre-Algebra | Khan Academy\", \"Topic\": \"Number Patterns\"}, {\"Title\": \"Lines and Angles | Geometry | Math | Letstute\", \"Topic\": \"Angles\"}, {\"Title\": \"Grade 6 Math #1.1, What are Exponents - How to Read and Write them\", \"Topic\": \"Indices\"}, {\"Title\": \"Everything About Circle Theorems - In 3 minutes\", \"Topic\": \"Angles\"}, {\"Title\": \"Numbers & Place value - Part 2 | 5th std Maths Syllabus | Mathematics\", \"Topic\": \"Operations of Whole Number\"}, {\"Title\": \"Math Antics - Perimeter\", \"Topic\": \"Symmetry\"}, {\"Title\": \"What is ACID RAIN? | Acid Rain | Dr Binocs Show | Kids Learning Video | Peekaboo Kidz\", \"Topic\": \"Perimeter\"}, {\"Title\": \"Learn Subtraction Using Number Line | Mathematics Book B | Periwinkle\\\", \", \"Topic\": \"Directed Numbers\"}, {\"Title\": \"SOLVING ALGEBRAIC EQUATIONS | GRADE 6\", \"Topic\": \"Algebra Expression\"}, {\"Title\": \"Introduction - Mensuration - Chapter 11 - NCERT Class 8th Maths\", \"Topic\": \"Perimeter\"}, {\"Title\": \"Expanded Notation of A Number | Mathematics Grade 4 | Periwinkle\", \"Topic\": \"Operations of Whole Number\"}, {\"Title\": \"Symmetry full chapter | Mathematics | Class 7 | CBSE Syllabus\", \"Topic\": \"Symmetry\"}, {\"Title\": \"ass-7 | Multiplication of Algebraic Expression | Algebraic Expression by ajay sir\", \"Topic\": \"Algebra Expression\"}, {\"Title\": \"apes and Angles Measurement  - Part 1 | 5th std Maths Syllabus | Mathematics\", \"Topic\": \"Factors and Multiplication\"}, {\"Title\": \"Prime and Composite Numbers | Mathematics Grade 4 | Periwinkle\", \"Topic\": \"Factors and Multiplication\"}, {\"Title\": \"What are Real Numbers? | Don't Memorise\", \"Topic\": \"Directed Numbers\"}, {\"Title\": \"Abacus Class - Introduction | Learn basics Abacus | Beginners Abacus Lesson 1\", \"Topic\": \"Indices\"}, {\"Title\": \"https://i.ytimg.com/vi/_n3KZR1DSEo/maxresdefault.jpg\", \"Topic\": \"Angles\"}, {\"Title\": \"Grade 8 Numeric and Geometric Patterns\", \"Topic\": \"Number Patterns\"}, {\"Title\": \"How to classify numbers | Numbers and operations | 8th grade | Khan Academy\", \"Topic\": \"Operations of Whole Number\"}, {\"Title\": \"Class 5 || Maths || Decimal Fractions\", \"Topic\": \"Indices\"}, {\"Title\": \"Grade 8 - Mathematics - Algebraic Equations 1 / WorksheetCloud Video Lesson\", \"Topic\": \"Algebra Expression\"}, {\"Title\": \"Introduction to Perimeter | #aumsum #kids #science #education #children\", \"Topic\": \"Perimeter\"}, {\"Title\": \"What are examples of adjacent angle\", \"Topic\": \"Angles\"}, {\"Title\": \"Finding LCM using prime factorisation\", \"Topic\": \"Indices\"}, {\"Title\": \"Direct And Indirect Objects | English Grammar & Composition Grade 5 | Periwinkle\", \"Topic\": \"Directed Numbers\"}, {\"Title\": \"What is a Universal Set? | Don't Memorise\", \"Topic\": \"Sets\"}, {\"Title\": \"ALGEBRAIC EXPRESSIONS & EQUATIONS | GRADE 6\", \"Topic\": \"Algebra Expression\"}, {\"Title\": \"Factors and Multiples | Mathematics Grade 5 | Periwinkle\", \"Topic\": \"Factors and Multiplication\"}, {\"Title\": \"Perimeter | Mathematics Grade 3 | Periwinkle\", \"Topic\": \"Perimeter\"}, {\"Title\": \"Addition Word Problems | Word Problems on Addition | Maths For Class 2 | Maths Basics CBSE Children\", \"Topic\": \"Operations of Whole Number\"}, {\"Title\": \"Maths Algebraic Expressions part 1 (Introduction) CBSE Class 7  Mathematics VI\", \"Topic\": \"Algebra Expression\"}, {\"Title\": \"Math Antics - What Are Percentages?\", \"Topic\": \"Sets\"}, {\"Title\": \"Grade 8 Lessons 1 - Numbers Patterns\", \"Topic\": \"Number Patterns\"}, {\"Title\": \"Algebraic Expressions\", \"Topic\": \"Algebra Expression\"}, {\"Title\": \"Grade 8 - Mathematics - Algebraic Expression 1 / WorksheetCloud Online Lesson\", \"Topic\": \"Algebra Expression\"}, {\"Title\": \"Highest Common Factor (HCF) | Mathematics Grade 4 | Periwinkle\", \"Topic\": \"Sets\"}, {\"Title\": \"Math Antics - Integer Multiplication & Division\", \"Topic\": \"Directed Numbers\"}, {\"Title\": \"Lesson 2. Place Value | Maths Session for Grade 06\", \"Topic\": \"Indices\"}, {\"Title\": \"Line Of Symmetry | Mathematics Grade 4 | Periwinkle\", \"Topic\": \"Symmetry\"}, {\"Title\": \"Divisibility tests for 2, 3, 4, 5, 6, 9, 10 | Factors and multiples | Pre-Algebra | Khan Academy\", \"Topic\": \"Factors and Multiplication\"}, {\"Title\": \"Symmetry - More Math for Grades 6-8 on the Learning Videos Channel\", \"Topic\": \"Symmetry\"}, {\"Title\": \"Parabola vertex and axis of symmetry | Quadratic equations | Algebra I | Khan Academy\", \"Topic\": \"Symmetry\"}, {\"Title\": \"Fractions Part-2 || 5th std Maths Syllabus || Exercises and Activities || Easy to Learn Maths\", \"Topic\": \"Symmetry\"}, {\"Title\": \"Symmetry - Grade 8 - 11th lesson - English Medium - Sri Lankan National Curriculum\", \"Topic\": \"Symmetry\"}, {\"Title\": \"Local and Self Government | Marvel Semester Series Social Studies Grade 4 | Periwinkle\", \"Topic\": \"Indices\"}, {\"Title\": \"Exterior Angle Theorem For Triangles, Practice Problems - Geometry\", \"Topic\": \"Angles\"}, {\"Title\": \"Basic Division | #aumsum #kids #science #education #children\", \"Topic\": \"Indices\"}, {\"Title\": \"Basic geometry: language and labels | Introduction to Euclidean geometry | Geometry | Khan Academy\", \"Topic\": \"Angles\"}, {\"Title\": \"Grade 8 Numeric patterns Part 1\", \"Topic\": \"Number Patterns\"}, {\"Title\": \"CLASS 8 | MATHS | CHAPTER 3 | E.X. 3.2 | EXTERIOR ANGLE | POLYGON | QUADRILATERALS| PART-2| NCERT\", \"Topic\": \"Angles\"}, {\"Title\": \"Introduction to Perimeter | #aumsum #kids #science #education #children\", \"Topic\": \"Perimeter\"}, {\"Title\": \"Symmetry | Class 7 | Maths| CBSE | ICSE | FREE Tutoria\", \"Topic\": \"Symmetry\"}, {\"Title\": \"Rules Of Divisibility | Mathematics Grade 4 | Periwinkle\", \"Topic\": \"Number Patterns\"}, {\"Title\": \"Factors and Multiples made easy |Prime Factorization| Find factors of all numbers| Class 1 to 5\", \"Topic\": \"Angles\"}, {\"Title\": \"Addition And Subtraction Of Integers | Mathematics Grade 5 | Periwinkle\", \"Topic\": \"Directed Numbers\"}, {\"Title\": \"Math Antics - Factoring\", \"Topic\": \"Factors and Multiplication\"}, {\"Title\": \"Basics of Algebraic Expressions (GMAT/GRE/CAT/Bank PO/SSC CGL) | Don't Memorise\", \"Topic\": \"Algebra Expression\"}, {\"Title\": \"Microorganisms Friend and Foe | Class 8 Science Sprint for Final Exams | Class 8 Science Chapter 2\", \"Topic\": \"Number Patterns\"}, {\"Title\": \"Introduction To Negative Numbers |  Maths Concept For Kids | Maths Grade 5 | Periwinkle\", \"Topic\": \"Directed Numbers\"}, {\"Title\": \"Understanding Elementary Shapes\\\\\\\" Chapter 5 - Introduction - Class 6th Maths\", \"Topic\": \"Sets\"}, {\"Title\": \"Number Patterns | Maths For Class 2 | Maths Basics For CBSE Children\", \"Topic\": \"Number Patterns\"}, {\"Title\": \"w to evaluate expressions with two variables | 6th grade | Khan Academy\", \"Topic\": \"Indices\"}, {\"Title\": \"Factorize algebraic expressions | Factorization class 8 | algebraic expressions class 9 | Factorize\", \"Topic\": \"Algebra Expression\"}, {\"Title\": \"Highest Common Factor (HCF) | Mathematics Grade 4 | Periwinkle\", \"Topic\": \"Factors and Multiplication\"}, {\"Title\": \"Math Antics - Adding & Subtracting Integers\", \"Topic\": \"Directed Numbers\"}, {\"Title\": \"Whole Number Operations | Adding, Subtracting, Multiplying, and Dividing\", \"Topic\": \"Operations of Whole Number\"}, {\"Title\": \"Math Antics - Perimeter\", \"Topic\": \"Sets\"}, {\"Title\": \"Lesson 6. Factors of the Algebraic Expressions | Maths Session for Grade 9\", \"Topic\": \"Algebra Expression\"}, {\"Title\": \"ABC Phonics Numbers Shapes & Colors | Nursery Rhymes Songs for Kindergarten Kids by Little Treehouse\", \"Topic\": \"Indices\"}, {\"Title\": \"Introduction to ratios | Ratios, rates, and percentages | 6th grade | Khan Academy\", \"Topic\": \"Indices\"}, {\"Title\": \"Gravity Visualized\", \"Topic\": \"Angles\"}, {\"Title\": \"Types of Sets Grade 6\", \"Topic\": \"Sets\"}, {\"Title\": \"Squares Of Numbers | Mathematics Grade 5 | Periwinkle\", \"Topic\": \"Factors and Multiplication\"}, {\"Title\": \"Intervals and interval notation | Functions | Algebra I | Khan Academy\", \"Topic\": \"Sets\"}, {\"Title\": \"HCF By Successive Division Method or Continued Division Method | Mathematics Grade 5 | Periwinkle\", \"Topic\": \"Factors and Multiplication\"}, {\"Title\": \"Complementary and supplementary angles | Angles and intersecting lines | Geometry | Khan Academy\", \"Topic\": \"Angles\"}, {\"Title\": \"Lesson 3. Operations on whole numbers | Maths Session for Grade 07\", \"Topic\": \"Operations of Whole Number\"}, {\"Title\": \"5 TIPS TO STUDY WELL IN TAMIL|How to Study for Exams in tamil|SMART STUDY METHODS|almost everything\", \"Topic\": \"Sets\"}, {\"Title\": \"Multiplication Tables upto 1000 in vedic maths | Speed Maths | Vedic Mathematics\", \"Topic\": \"Algebra Expression\"}, {\"Title\": \"Basic Algebra Formulas | Part 1 | (Maths Formulas) | SSC MATHS | Shortcut World | Online CSK\", \"Topic\": \"Algebra Expression\"}, {\"Title\": \"Subtraction for kids - Learn how to subtract - Mathematics for kids \", \"Topic\": \"Operations of Whole Number\"}, {\"Title\": \"Abacus Class - Introduction | Learn basics Abacus | Beginners Abacus Lesson 1\", \"Topic\": \"Directed Numbers\"}, {\"Title\": \"Rubi Theresa  Trick to remember trigonometric values|Palm Trick (In English)\\\", \", \"Topic\": \"Perimeter\"}, {\"Title\": \"Angles | Mathematics Grade 4 | Periwinkle\", \"Topic\": \"Angles\"}, {\"Title\": \"Algebra Trick to save you time (Algebra Tricks)\", \"Topic\": \"Algebra Expression\"}, {\"Title\": \"Magic with numbers | Number tricks | Smart Learning Tube\", \"Topic\": \"Sets\"}, {\"Title\": \"Math Antics - Basic Probability\", \"Topic\": \"Indices\"}, {\"Title\": \"Lesson 4. Directed Numbers | Maths Session for Grade 08\", \"Topic\": \"Number Patterns\"}, {\"Title\": \"Using factors and multiples to figure out days of the week | Pre-Algebra | Khan Academy\", \"Topic\": \"Factors and Multiplication\"}, {\"Title\": \"Lesson 5. Indices | Maths Session for Grade 07\", \"Topic\": \"Indices\"}, {\"Title\": \"Drawing Different Types of Lines | Maths For Class 2 | Maths Basics For CBSE Children\", \"Topic\": \"Angles\"}, {\"Title\": \"Class 5 || Maths || Division\", \"Topic\": \"Perimeter\"}, {\"Title\": \"Lesson 1. Number Patterns | Maths Session for Grade 08\", \"Topic\": \"Number Patterns\"}, {\"Title\": \"Symmetry | Class 7 | Maths| CBSE | ICSE | FREE Tutorial\", \"Topic\": \"Symmetry\"}, {\"Title\": \"9 Incredible Science Facts You Probably Didn't Learn At School\", \"Topic\": \"Indices\"}, {\"Title\": \"Algebra Basics: What Are Polynomials? - Math Antics\", \"Topic\": \"Algebra Expression\"}, {\"Title\": \"Math Videos:  How To Learn Basic Arithmetic Fast - Online Tutorial Lessons\", \"Topic\": \"Operations of Whole Number\"}, {\"Title\": \"Negative Numbers Subtracting (Easy Method\", \"Topic\": \"Directed Numbers\"}, {\"Title\": \"Speed, Distance, Time | Mathematics Grade 5 | Periwinkle\", \"Topic\": \"Angles\"}, {\"Title\": \"Lesson 4. Factors and Multiples (Part I) | Maths Session for Grade 07\", \"Topic\": \"Factors and Multiplication\"}, {\"Title\": \"Factors for the First Time\", \"Topic\": \"Factors and Multiplication\"}, {\"Title\": \"Lesson 6. Solids | Maths Session for Grade 08\", \"Topic\": \"Algebra Expression\"}, {\"Title\": \"Grade 08 - Math ( 8 \\\\u0dc1\\\\u0dca\\\\u200d\\\\u0dbb\\\\u0dda\\\\u0dab\\\\u0dd2\\\\u0dba - \\\\u0d9c\\\\u0dab\\\\u0dd2\\\\u0dad\\\\u0dba ) - \\\\u0dc3\\\\u0d82\\\\u0d9b\\\\u0dca\\\\u200d\\\\u0dba\\\\u0dcf \\\\u0dbb\\\\u0da7\\\\u0dcf - N 06\", \"Topic\": \"Number Patterns\"}, {\"Title\": \"Grade 8 Lessons 1 - Numbers Patterns\", \"Topic\": \"Number Patterns\"}, {\"Title\": \"Mathematics - Grade 5: Union and Intersection of Sets\", \"Topic\": \"Sets\"}, {\"Title\": \"Lesson 7. Factors | Maths Session for Grade 08\", \"Topic\": \"Number Patterns\"}, {\"Title\": \"Lesson 1. Number Patterns | Maths Session for Grade 08\", \"Topic\": \"Number Patterns\"}, {\"Title\": \"Lesson 2. Sets | Maths Session for Grade 07\", \"Topic\": \"Sets\"}, {\"Title\": \"Numbers & Place value - Part 2 | 5th std Maths Syllabus | Mathematics\", \"Topic\": \"Factors and Multiplication\"}, {\"Title\": \"Vinculum | Subtractions | Speed Maths | Vedic Mathematics\", \"Topic\": \"Operations of Whole Number\"}, {\"Title\": \"Science | Grade 7 Science 11th Lesson\", \"Topic\": \"Sets\"}, {\"Title\": \"Introduction to Geometry\", \"Topic\": \"Angles\"}, {\"Title\": \"How to become a Math Genius.\\\\u2714\\\\ufe0f How do genius people See a math problem! by mathOgenius\", \"Topic\": \"Indices\"}, {\"Title\": \"Math Antics - Exponents and Square Roots\", \"Topic\": \"Indices\"}, {\"Title\": \"Order Of Operations - DMAS | Mathematics Grade 4 | Periwinkle\", \"Topic\": \"Operations of Whole Number\"}, {\"Title\": \"Basics of Algebraic Expressions (GMAT/GRE/CAT/Bank PO/SSC CGL) | Don't Memorise\", \"Topic\": \"Algebra Expression\"}, {\"Title\": \"What are variables, expressions, and equations? | Introduction to algebra | Algebra I | Khan Academy\", \"Topic\": \"Indices\"}, {\"Title\": \"Negative and Positive Numbers - Basic Mathematical Operations\", \"Topic\": \"Directed Numbers\"}, {\"Title\": \"Number Patterns - Grade 8 - 1st lesson - English Medium - Sri Lankan National Curriculum\", \"Topic\": \"Number Patterns\"}, {\"Title\": \"01 - Introduction to Physics, Part 1 (Force, Motion & Energy) - Online Physics Course\", \"Topic\": \"Angles\"}, {\"Title\": \"Binomial theorem | Polynomial and rational functions | Algebra II | Khan Academy\", \"Topic\": \"Symmetry\"}, {\"Title\": \"5th std Maths Syllabus | Mathematics | Time Part-1 | Exercises & Activities\", \"Topic\": \"Symmetry\"}, {\"Title\": \"Triangle angle example 3 | Angles and intersecting lines | Geometry | Khan Academy\", \"Topic\": \"Angles\"}, {\"Title\": \"Directed numbers | Addition | Subtractio\", \"Topic\": \"Directed Numbers\"}, {\"Title\": \"Rules Of Divisibility | Mathematics Grade 4 | Periwinkle\", \"Topic\": \"Directed Numbers\"}, {\"Title\": \"Patterns in sequences 2 | Linear equations | Algebra I | Khan Academy\", \"Topic\": \"Number Patterns\"}, {\"Title\": \"Introduction of SET | Chapter 1 | Class 6 | Math Study Nepal\", \"Topic\": \"Sets\"}, {\"Title\": \"Introduction to Algebra | Ap&TS syllabus Class 6 Maths | Full lesson\", \"Topic\": \"Algebra Expression\"}, {\"Title\": \"Number Patterns - Grade 8 - 1st lesson - English Medium - Sri Lankan National Curriculum\", \"Topic\": \"Number Patterns\"}, {\"Title\": \"Place Value - Using Hundreds, Tens, and Ones\", \"Topic\": \"Operations of Whole Number\"}, {\"Title\": \"The Distributive Property In Arithmetic\", \"Topic\": \"Operations of Whole Number\"}, {\"Title\": \"Introduction to decimals | Decimals | 4th grade | Khan Academy\", \"Topic\": \"Operations of Whole Number\"}, {\"Title\": \"Learn 2 to 9 Times Multiplication Tricks | Easy and fast way to learn | Math Tips and Tricks\", \"Topic\": \"Number Patterns\"}, {\"Title\": \"Math Antics - Rounding\", \"Topic\": \"Angles\"}, {\"Title\": \"Math Antics - Ratios And Rates\", \"Topic\": \"Directed Numbers\"}, {\"Title\": \"Addition And Subtraction Of Integers | Mathematics Grade 5 | Periwinkle\", \"Topic\": \"Operations of Whole Number\"}, {\"Title\": \"Negative Numbers Subtracting (Easy Method\", \"Topic\": \"Directed Numbers\"}, {\"Title\": \"Algebra for Beginners | Basics of Algebra\", \"Topic\": \"Algebra Expression\"}, {\"Title\": \"Factors for the First Time\", \"Topic\": \"Factors and Multiplication\"}, {\"Title\": \"Q 1 - Ex 2.2 - Linear Equations in One Variable - NCERT Maths Class 8th - Chapter 2\", \"Topic\": \"Number Patterns\"}, {\"Title\": \"Intro to Symmetry: All About Symmetry for Kids - FreeSchool\", \"Topic\": \"Symmetry\"}, {\"Title\": \"Algebraic Expressions - Class 8 Math\", \"Topic\": \"Algebra Expression\"}, {\"Title\": \"Multiples vs. Factors | What are Multiples and Factors? | Math with Mr. J\", \"Topic\": \"Factors and Multiplication\"}, {\"Title\": \"Multiples vs. Factors | What are Multiples and Factors? | Math with Mr. J\", \"Topic\": \"Factors and Multiplication\"}, {\"Title\": \"Measuring Angles | Mathematics Grade 4 | Periwinkle\", \"Topic\": \"Factors and Multiplication\"}, {\"Title\": \"Math Antics - Integer Multiplication & Division\", \"Topic\": \"Directed Numbers\"}, {\"Title\": \"Simple Tenses - Present, Past and Future | English Grammar & Composition Grade 4 | Periwinkle\", \"Topic\": \"Perimeter\"}, {\"Title\": \"Math Antics - Number Patterns\", \"Topic\": \"Number Patterns\"}, {\"Title\": \"Lesson 5. Algebraic Expressions |  Maths Session for\", \"Topic\": \"Algebra Expression\"}, {\"Title\": \"Rubi Theresa  Trick to remember trigonometric values|Palm Trick (In English)\", \"Topic\": \"Angles\"}, {\"Title\": \"Prime Factorisation | Mathematics Grade 4 | Periwinkle\", \"Topic\": \"Factors and Multiplication\"}, {\"Title\": \"What is Symmetry? - Basics | Line of Symmetry | Don't Memorise\", \"Topic\": \"Symmetry\"}, {\"Title\": \"26 FAST MATHS TRICKS YOU MUST KNOW\", \"Topic\": \"Sets\"}, {\"Title\": \"Recognizing prime and composite numbers | Factors and multiples | Pre-Algebra | Khan Academy\", \"Topic\": \"Factors and Multiplication\"}, {\"Title\": \"Formula of area and perimeter //mathematics  \", \"Topic\": \"Perimeter\"}, {\"Title\": \"Algebra Basics: Solving 2-Step Equations - Math Antics\", \"Topic\": \"Operations of Whole Number\"}, {\"Title\": \"Perimeter of Triangle Square and Rectangle | Mathematics Grade 5 | Periwinkle\\\",\", \"Topic\": \"Perimeter\"}, {\"Title\": \"Relations and functions | Functions and their graphs | Algebra II | Khan Academy\", \"Topic\": \"Sets\"}, {\"Title\": \"Mathematics | Grade 8 |Lesson 01-Number Patterns - Part 01\", \"Topic\": \"Number Patterns\"}, {\"Title\": \"Prime and Composite Numbers\", \"Topic\": \"Factors and Multiplication\"}, {\"Title\": \"Types of Sets Grade 6\", \"Topic\": \"Sets\"}, {\"Title\": \"Phonics Course Level 1 | Learn Phonics For Kids | Alphabet Sounds | Phonics For Pre School\", \"Topic\": \"Symmetry\"}, {\"Title\": \"Introduction to ratios | Ratios, proportions, units, and rates | Pre-Algebra | Khan Academy\", \"Topic\": \"Factors and Multiplication\"}, {\"Title\": \"ck12.org normal distribution problems: z-score | Probability and Statistics | Khan Academy\\\",\", \"Topic\": \"Indices\"}, {\"Title\": \"Negative numbers introduction | Negative numbers and absolute value | Pre-Algebra | Khan Academ\", \"Topic\": \"Directed Numbers\"}, {\"Title\": \"10 SECRET STUDY TIPS TO SCORE HIGHEST IN EXAMS || FASTEST WAY TO COVER ENTIRE SYLLABUS | STUDY HACKS\", \"Topic\": \"Operations of Whole Number\"}, {\"Title\": \"ALGEBRAIC EXPRESSIONS & EQUATIONS | GRADE 6\", \"Topic\": \"Algebra Expression\"}, {\"Title\": \"Phonics Chapter 8 : Recognising AY and OY Sounds | Learn Phonics For Kids | Phonics Lessons\", \"Topic\": \"Number Patterns\"}, {\"Title\": \"Math Antics - Triangles\", \"Topic\": \"Angles\"}, {\"Title\": \"01 - Angles and Angle Measure in Degrees - Part 1 - Types of Angles & What is an Angle?\", \"Topic\": \"Angles\"}, {\"Title\": \"Intersection of Sets, Union of Sets and Venn Diagrams\", \"Topic\": \"Sets\"}, {\"Title\": \"Symmetry | Part 1/3 | English | Class 6\", \"Topic\": \"Symmetry\"}, {\"Title\": \"Angle of Elevation and Depression Word Problems Trigonometry, Finding Sides, Angles, Right Triangles\", \"Topic\": \"Angles\"}, {\"Title\": \"Introduction to order of operations | Arithmetic properties | Pre-Algebra | Khan Academy\", \"Topic\": \"Operations of Whole Number\"}, {\"Title\": \"Multiple and Factors Part-1 | 5th std Maths Syllabus | Exercises & Activities | Easy to Learn Maths\", \"Topic\": \"Factors and Multiplication\"}, {\"Title\": \"Decimals - Meaning | Mathematics Grade 4 | Periwinkle\", \"Topic\": \"Perimeter\"}, {\"Title\": \"Ones & Tens | Mathematics Grade 1 | Periwinkle\", \"Topic\": \"Sets\"}, {\"Title\": \"Angles | Mathematics Grade 5 | Periwin\", \"Topic\": \"Angles\"}, {\"Title\": \"Angles: measuring angles and their names! | Educational Videos for Kids\", \"Topic\": \"Angles\"}, {\"Title\": \"Introduction To Negative Numbers |  Maths Concept For Kids | Maths Grade 5 | Periwinkle\", \"Topic\": \"Operations of Whole Number\"}, {\"Title\": \"Angles Formed by a Transversal with Two Parallel Lines | Don't Memorise\", \"Topic\": \"Angles\"}, {\"Title\": \"dition And Subtraction Of Integers | Mathematics Grade 5 | Periwinkle\", \"Topic\": \"Directed Numbers\"}, {\"Title\": \"Lesson 11. Factors and Multiples | Maths Session for Grade 06\", \"Topic\": \"Factors and Multiplication\"}, {\"Title\": \"The zeroth power | Arithmetic operations | 6th grade | Khan Academy\", \"Topic\": \"Indices\"}, {\"Title\": \"Class 6 Maths Chapter 13 Symmetry Part 1\", \"Topic\": \"Symmetry\"}, {\"Title\": \"Basic Figures Of Geometry | Maths For Kids | Periwinkle\", \"Topic\": \"Angles\"}, {\"Title\": \"Lesson 5. Algebraic Expressions | Maths Session for Grade 08\", \"Topic\": \"Algebra Expression\"}, {\"Title\": \"Subtracting Integers | How to Subtract Positive and Negative Integers\", \"Topic\": \"Directed Numbers\"}, {\"Title\": \"Whole Numbers | Ap&TS syllabus Class 6 Maths | Full lesson\", \"Topic\": \"Operations of Whole Number\"}, {\"Title\": \"Sets in Sinhala | kulaka | \\\\u0d9a\\\\u0dd4\\\\u0dbd\\\\u0d9a | O/L & Grade 10-11 maths | Questions with theory | Siyomaths \\\\ud83c\\\\uddf1\\\\ud83c\\\\uddf0\", \"Topic\": \"Sets\"}, {\"Title\": \"Negative Numbers: An Overview\", \"Topic\": \"Directed Numbers\"}, {\"Title\": \"Finding LCM using prime factorisation\", \"Topic\": \"Sets\"}, {\"Title\": \"Articles | English Grammar & Composition Grade 4 | Periwinkle\", \"Topic\": \"Directed Numbers\"}, {\"Title\": \"Earth Science for Kids - Solar System, Weather, Fossils, Volcanoes & More - Rock 'N Learn\", \"Topic\": \"Sets\"}, {\"Title\": \"9 Incredible Science Facts You Probably Didn't Learn At School\", \"Topic\": \"Algebra Expression\"}, {\"Title\": \"Symmetric Geometry in Tamil\", \"Topic\": \"Symmetry\"}, {\"Title\": \"All About Factors & Multiples \\\\u2716\\\\ufe0f | NCERT Class 6 Maths | Basic Maths |  #VedantuMathemagiciansClass6\", \"Topic\": \"Factors and Multiplication\"}, {\"Title\": \"Reflectional Symmetry and Rotational Symmetry | Don't Memorise\", \"Topic\": \"Symmetry\"}, {\"Title\": \"Number Series Reasoning Tricks - The Easy Way\", \"Topic\": \"Number Patterns\"}, {\"Title\": \"Introduction to square roots | Numbers and operations | 8th grade | Khan Academy\", \"Topic\": \"Indices\"}, {\"Title\": \"Lesson 2. Sets | Maths Session for Grade 07\", \"Topic\": \"Sets\"}, {\"Title\": \"A Trick for Adding and Subtracting Negative Numbers\", \"Topic\": \"Directed Numbers\"}, {\"Title\": \"Part-1 : Rational Numbers | Mathematics | Class 8 | CBSE Syllabus\", \"Topic\": \"Number Patterns\"}, {\"Title\": \"How to become a Math Genius.\\\\u2714\\\\ufe0f How do genius people See a math problem! by mathOgenius\", \"Topic\": \"Operations of Whole Number\"}, {\"Title\": \"Sets: Union, Intersection, Complement\", \"Topic\": \"Sets\"}, {\"Title\": \"Simple Tenses - Present, Past and Future | English Grammar & Composition Grade 4 | Periwinkl\", \"Topic\": \"Sets\"}, {\"Title\": \"How many ways are there to prove the Pythagorean theorem? - Betty Fei\", \"Topic\": \"Indices\"}, {\"Title\": \"Prime Factorization (Intro and Factor Trees\", \"Topic\": \"Factors and Multiplication\"}, {\"Title\": \"10 SECRET STUDY TIPS TO SCORE HIGHEST IN EXAMS || FASTEST WAY TO COVER ENTIRE SYLLABUS | STUDY HACKS\", \"Topic\": \"Perimeter\"}, {\"Title\": \"Lesson 1. Bilateral Symmetry | Maths Session for Grade 07\", \"Topic\": \"Symmetry\"}, {\"Title\": \"Math Antics - Scientific Notation\", \"Topic\": \"Number Patterns\"}, {\"Title\": \"Intro to whole numbers | Class 6 (India) | Math | Khan Academy\", \"Topic\": \"Operations of Whole Number\"}, {\"Title\": \"Math Antics - Multi-Digit Subtraction\", \"Topic\": \"Directed Numbers\"}, {\"Title\": \"Area of a circle | Perimeter, area, and volume | Geometry | Khan Academy\", \"Topic\": \"Perimeter\"}, {\"Title\": \"Algebra for Beginners | Basics of Algebra\", \"Topic\": \"Algebra Expression\"}, {\"Title\": \"Finding factors and multiples | Factors and multiples | Pre-Algebra | Khan Academy\", \"Topic\": \"Factors and Multiplication\"}, {\"Title\": \"Factors and Multiples | Class 6 | Maths | CBSE | ICSE | FREE Tutorial\", \"Topic\": \"Factors and Multiplication\"}, {\"Title\": \"Lesson 10. Indices | Maths Session for Grade 08\", \"Topic\": \"Indices\"}, {\"Title\": \"Least Common Multiple (LCM) | Mathematics Grade 4 | Periwinkle\", \"Topic\": \"Factors and Multiplication\"}, {\"Title\": \"Mathematics | Grade 8 |Lesson 01-Number Patterns - Part 01\", \"Topic\": \"Number Patterns\"}, {\"Title\": \"Lesson 5. Algebraic Expressions | Maths Session for Grade 08\", \"Topic\": \"Number Patterns\"}, {\"Title\": \"\\\"9 Incredible Science Facts You Probably Didn't Learn At School\", \"Topic\": \"Factors and Multiplication\"}, {\"Title\": \"Science for kids | Brilliant Brains | The Nervous System | Experiments for kids | Operation Ouch\", \"Topic\": \"Operations of Whole Number\"}, {\"Title\": \"Algebra Basics: The Distributive Property - Math Antics\", \"Topic\": \"Algebra Expression\"}, {\"Title\": \"Math Antics - Triangles\", \"Topic\": \"Angles\"}, {\"Title\": \"Lesson 2. Perimeter | Maths Session for Grade 08\", \"Topic\": \"Perimeter\"}, {\"Title\": \"Lesson 5. Algebraic Expressions | Maths Session for Grade 08\", \"Topic\": \"Algebra Expression\"}, {\"Title\": \"Four operations Part - 1 | Add, Sub, Multiple & Division | 5th std Maths Syllabus | Mathematics\", \"Topic\": \"Operations of Whole Number\"}, {\"Title\": \"Factors and Multiples made easy |Prime Factorization| Find factors of all numbers| Class 1 to 5\", \"Topic\": \"Factors and Multiplication\"}, {\"Title\": \"6th Grade Math Assessment Practice Day 1\", \"Topic\": \"Sets\"}, {\"Title\": \"Class 6 || Maths || Equations : Word Problems\", \"Topic\": \"Algebra Expression\"}, {\"Title\": \"Playing with Numbers - 1 | Factor & Multiples | Class 6 Maths NCERT Solutions | Sana Khan\", \"Topic\": \"Factors and Multiplication\"}, {\"Title\": \"Math Antics - Number Patterns\", \"Topic\": \"Number Patterns\"}, {\"Title\": \"Math Antics - Angle Basics\", \"Topic\": \"Angles\"}, {\"Title\": \"26 FAST MATHS TRICKS YOU MUST KNOW\", \"Topic\": \"Sets\"}, {\"Title\": \"Algebra: Linear equations 1 | Linear equations | Algebra I | Khan Academy\", \"Topic\": \"Algebra Expression\"}, {\"Title\": \"\\\"Q 3, Ex 11.1 - Perimeter and Area - Chapter 11 - Maths Class 7th - NCERT\", \"Topic\": \"Perimeter\"}, {\"Title\": \"| Sets - 07\", \"Topic\": \"Sets\"}, {\"Title\": \"Intro to Angles for Kids: Understanding Angles for Children - FreeSchool Math\", \"Topic\": \"Angles\"}, {\"Title\": \"Types Of Sets Introduction | ICSE Mathematics | Vedantu Class 6 - 8 | Young Wonders | Priya Ma'am\", \"Topic\": \"Sets\"}, {\"Title\": \"Math Antics - Exponents and Square Roots\", \"Topic\": \"Indices\"}, {\"Title\": \"Multiples | Mathematics Grade 4 | Periwinkle\", \"Topic\": \"Sets\"}, {\"Title\": \"Multiples | Mathematics Grade 4 | Periwinkle\", \"Topic\": \"Factors and Multiplication\"}, {\"Title\": \"Algebra Basics: Laws Of Exponents - Math Antics\", \"Topic\": \"Indices\"}, {\"Title\": \"Exponents and Powers | Class 7 | Maths| CBSE | ICSE | FREE Tutorial\", \"Topic\": \"Indices\"}, {\"Title\": \"Number sets 3 | Fractions | Pre-Algebra | Khan Academy\", \"Topic\": \"Sets\"}, {\"Title\": \"Learn to Read | One Syllable Words | Red Level\", \"Topic\": \"Directed Numbers\"}, {\"Title\": \"Indices - Introduction | Algebra | Maths | FuseSchool\", \"Topic\": \"Indices\"}, {\"Title\": \"Math lesson for Grade 7 - What are Algebraic Expressions\", \"Topic\": \"Algebra Expression\"}, {\"Title\": \"Heart Dissection GCSE A Level Biology NEET Practical Skills\", \"Topic\": \"Operations of Whole Number\"}, {\"Title\": \"Symmetry Part- 2 || 5th std Maths Syllabus || Exercises and Activities || Easy to Learn Maths\", \"Topic\": \"Symmetry\"}, {\"Title\": \"Factorization: what is it and how is it done? | Class 8th Maths\", \"Topic\": \"Algebra Expression\"}, {\"Title\": \"Types of sets\", \"Topic\": \"Sets\"}, {\"Title\": \"Grade 6 Mathematics - Factors and Multiples  (1st & 2nd Lessons) [English Medium\", \"Topic\": \"Factors and Multiplication\"}, {\"Title\": \"Syllables | English Grammar & Composition Grade 3 | Periwinkle\", \"Topic\": \"Number Patterns\"}, {\"Title\": \"Introduction to ratios | Ratios, proportions, units, and rates | Pre-Algebra | Khan Academy\", \"Topic\": \"Indices\"}, {\"Title\": \"26 FAST MATHS TRICKS YOU MUST KNOW\", \"Topic\": \"Operations of Whole Number\"}, {\"Title\": \"Volume of a cone | Perimeter, area, and volume | Geometry | Khan Academy\", \"Topic\": \"Perimeter\"}, {\"Title\": \"JS Math| Addition Negative Number With Algebra Discs\", \"Topic\": \"Directed Numbers\"}, {\"Title\": \"26 FAST MATHS TRICKS YOU MUST KNOW\", \"Topic\": \"Operations of Whole Number\"}, {\"Title\": \"The substitution method | Systems of equations | 8th grade | Khan Academy\", \"Topic\": \"Symmetry\"}, {\"Title\": \"Multiplying Mixed Numbers and Whole Numbers\", \"Topic\": \"Operations of Whole Number\"}, {\"Title\": \"Learn to Find Area and Perimeter of Square and Rectangle | Math | Grade-5 | Tutway |\", \"Topic\": \"Perimeter\"}, {\"Title\": \"Prime and Composite Numbers | Mathematics Grade 4 | Periwinkle\", \"Topic\": \"Factors and Multiplication\"}, {\"Title\": \"Earth Science for Kids - Solar System, Weather, Fossils, Volcanoes & More - Rock 'N Learn\", \"Topic\": \"Sets\"}, {\"Title\": \"Adding and Subtracting Mixed Numbers\", \"Topic\": \"Operations of Whole Number\"}, {\"Title\": \"Points after rotation | Transformations | Geometry | Khan Academy\", \"Topic\": \"Symmetry\"}, {\"Title\": \"Math Antics - The Pythagorean Theorem\", \"Topic\": \"Angles\"}, {\"Title\": \"Lesson 7. Parallel Straight Lines | Maths Session for Grade 07\", \"Topic\": \"Indices\"}, {\"Title\": \"Grade 5 - Mathematics - Multiples, Factors, Primes and Composites / WorksheetCloud Video Lesson\", \"Topic\": \"Factors and Multiplication\"}, {\"Title\": \"First Term Revision Exercise|Maths Session for Grade 08\", \"Topic\": \"Number Patterns\"}, {\"Title\": \"Axis of symmetry | Transformations | Geometry | Khan Academy\", \"Topic\": \"Symmetry\"}, {\"Title\": \"Grade 8 - Mathematics - Algebraic Expression 1 / WorksheetCloud Online Lesson\", \"Topic\": \"Algebra Expression\"}, {\"Title\": \"What is Symmetry? - Basics | Line of Symmetry | Don't Memorise\", \"Topic\": \"Symmetry\"}, {\"Title\": \"Grade 8 - Mathematics - Algebraic Expression 1 / WorksheetCloud Online Lesson\", \"Topic\": \"Algebra Expression\"}, {\"Title\": \"Prime and Composite Numbers | Mathematics Grade 4 | Periwinkle\", \"Topic\": \"Factors and Multiplication\"}, {\"Title\": \"Measuring Angles | Mathematics Grade 4 | Periwinkle\", \"Topic\": \"Angles\"}, {\"Title\": \"Introduction to angles (old) | Angles and intersecting lines | Geometry | Khan Academy\", \"Topic\": \"Angles\"}, {\"Title\": \"Lesson 3. Mathematical Operations on Whole Numbers | Maths Session for Grade 06\", \"Topic\": \"Operations of Whole Number\"}, {\"Title\": \"Factors and Multiples - Grade 6 - 11th lesson - English Medium - Sri Lankan National Curriculum\", \"Topic\": \"Factors and Multiplication\"}, {\"Title\": \"9 Incredible Science Facts You Probably Didn't Learn At School\", \"Topic\": \"Indices\"}, {\"Title\": \"Imaginary roots of negative numbers | Imaginary and complex numbers | Precalculus | Khan Academy\\\", \", \"Topic\": \"Directed Numbers\"}, {\"Title\": \"Math Antics - Area\", \"Topic\": \"Angles\"}, {\"Title\": \"Perimeter and area: the basics | Perimeter, area, and volume | Geometry | Khan Academy\", \"Topic\": \"Perimeter\"}, {\"Title\": \"Introduction to order of operations | Arithmetic properties | Pre-Algebra | Khan Academy\", \"Topic\": \"Number Patterns\"}, {\"Title\": \"10 Math Games That'll Boost Your Brain Power By 80\", \"Topic\": \"Algebra Expression\"}, {\"Title\": \"Area of Square and Rectangle | Mathematics Grade 5 | Periwinkle\", \"Topic\": \"Perimeter\"}, {\"Title\": \"Rational and Irrational Numbers\", \"Topic\": \"Directed Numbers\"}, {\"Title\": \"What is Number Sequencing\", \"Topic\": \"Directed Numbers\"}, {\"Title\": \"NCERT CBSE Class 6 Maths Chapter 13 Symmetry Part 1\", \"Topic\": \"Symmetry\"}, {\"Title\": \"ltiples | Mathematics Grade 4 | Periwinkle\", \"Topic\": \"Factors and Multiplication\"}, {\"Title\": \"Learning about Area | #aumsum #kids #science #education #children\", \"Topic\": \"Angles\"}, {\"Title\": \"Exponent properties involving products | Numbers and operations | 8th grade | Khan Academy\", \"Topic\": \"Indices\"}, {\"Title\": \"Symmetrical & Non Symmetrical Shapes\", \"Topic\": \"Symmetry\"}, {\"Title\": \"Lesson 11. Symmetry | Maths Session for Grade 08\", \"Topic\": \"Symmetry\"}, {\"Title\": \"Factorisation using identities | Part 1/3 | English | Class 8\", \"Topic\": \"Algebra Expression\"}, {\"Title\": \"ce Value And Face Value | Mathematics Grade 2 | Periwinkle\", \"Topic\": \"Operations of Whole Number\"}, {\"Title\": \"Video SparkNotes: Shakespeare's Romeo and Juliet summary\", \"Topic\": \"Symmetry\"}, {\"Title\": \"Equal Parts of a Whole | Mathematics Grade 3 | Periwinkle\", \"Topic\": \"Sets\"}, {\"Title\": \"Math Antics - Proportions\", \"Topic\": \"Operations of Whole Number\"}, {\"Title\": \"Adding and subtracting negative numbers | Pre-Algebra | Khan Academy\", \"Topic\": \"Directed Numbers\"}, {\"Title\": \"Science|Grade 6 Science Lessons in sinhala medium|Science for grade 6|2020|Science Channel Bro\", \"Topic\": \"Indices\"}, {\"Title\": \"Story on Profit and Loss - Raheem's tasty food - Part 1 - English\", \"Topic\": \"Perimeter\"}, {\"Title\": \"Maths Help - 35.  Addition & Subtraction of Directed Numbers\", \"Topic\": \"Directed Numbers\"}, {\"Title\": \"Learn how to Draw Shapes with Names | Easy Drawing | Education drawing for Beginners\", \"Topic\": \"Angles\"}, {\"Title\": \"Understand and Learn the Rules of Positive and Negative Numbers\", \"Topic\": \"Directed Numbers\"}, {\"Title\": \"\\\"9 Incredible Science Facts You Probably Didn't Learn At School\", \"Topic\": \"Perimeter\"}, {\"Title\": \"Lesson 2. Perimeter | Maths Session for Grade 08\", \"Topic\": \"Number Patterns\"}, {\"Title\": \"Math Antics - Number Patterns\", \"Topic\": \"Number Patterns\"}, {\"Title\": \"Factors for the First Time\", \"Topic\": \"Factors and Multiplication\"}, {\"Title\": \"Intersection and union of sets | Probability and Statistics | Khan Academy\", \"Topic\": \"Sets\"}, {\"Title\": \"Fractions & Decimals - Chapter 2 - Introduction - Class 7\", \"Topic\": \"Operations of Whole Number\"}, {\"Title\": \"Angle Pairs 8th Grade Math\", \"Topic\": \"Angles\"}, {\"Title\": \"\\\"\\\\u0dad\\\\u0dad\\\\u0dca\\\\u0db4\\\\u0dbb \\\\u0daf\\\\u0dd9\\\\u0d9a\\\\u0dd9\\\\u0db1\\\\u0dca \\\\u0d9c\\\\u0dd4\\\\u0dab \\\\u0d9a\\\\u0dbb\\\\u0db1\\\\u0dca\\\\u0db1 \\\\u0dbb\\\\u0dc4\\\\u0dc3\\\\u0dca \\\\u0d9a\\\\u0dca\\\\u200d\\\\u0dbb\\\\u0db8 5\\\\u0d9a\\\\u0dca | Math tricks |\\\\u0d9c\\\\u0dab\\\\u0dd2\\\\u0dad \\\\u0dbb\\\\u0dc4\\\\u0dc3\\\\u0dca\", \"Topic\": \"Algebra Expression\"}, {\"Title\": \"Types of Angles According to Positions | Mathematics Grade 5 | Periwinkl\", \"Topic\": \"Angles\"}, {\"Title\": \"2 Letter Words | Two Letter Phonics Words | Sight Words | Pre School Kindergarten\", \"Topic\": \"Angles\"}, {\"Title\": \"Reflectional Symmetry and Rotational Symmetry | Don't Memorise\", \"Topic\": \"Symmetry\"}, {\"Title\": \"\\\"\\\\u0db4\\\\u0dcf\\\\u0da9\\\\u0db8 1 - \\\\u0dc3\\\\u0d82\\\\u0d9b\\\\u0dca\\\\u200d\\\\u0dba\\\\u0dcf \\\\u0dbb\\\\u0da7\\\\u0dcf | 8 \\\\u0dc1\\\\u0dca\\\\u200d\\\\u0dbb\\\\u0dda\\\\u0dab\\\\u0dd2\\\\u0dba \\\\u0dc3\\\\u0db3\\\\u0dc4\\\\u0dcf \\\\u0d9c\\\\u0dab\\\\u0dd2\\\\u0dad \\\\u0dc3\\\\u0dd0\\\\u0dc3\\\\u0dd2\\\\u0dba #DPEducation #Grade8Maths #NumberPatterns\", \"Topic\": \"Number Patterns\"}, {\"Title\": \"Prime and Composite Numbers | Mathematics Grade 4 | Periwinkle\", \"Topic\": \"Indices\"}, {\"Title\": \"Prime and Composite Numbers | Mathematics Grade 4 | Periwinkle\", \"Topic\": \"Operations of Whole Number\"}, {\"Title\": \"Our Solar System and The Universe | Science for Kids | Grade 3 | Periwinkle\", \"Topic\": \"Sets\"}, {\"Title\": \"Introduction to Fractions | #aumsum #kids #science #education #children\", \"Topic\": \"Operations of Whole Number\"}, {\"Title\": \"Understand and Learn the Rules of Positive and Negative Numbers\", \"Topic\": \"Directed Numbers\"}, {\"Title\": \"Properties of Whole Numbers class-6\", \"Topic\": \"Operations of Whole Number\"}, {\"Title\": \"Lesson 1. Number Patterns | Maths Session for Grade 08\", \"Topic\": \"Number Patterns\"}, {\"Title\": \"Maths Algebraic Expressions part 1 (Introduction) CBSE Class 7  Mathematics VII\", \"Topic\": \"Algebra Expression\"}, {\"Title\": \"NCERT Grade 8 || CBSE Class 8 - Algebraic Expressions and Identities Introduction in Tamil\", \"Topic\": \"Algebra Expression\"}, {\"Title\": \"DIY Maths Squares Machine - Maths Working Model | Easy Maths Project For Exhibition | Maths Model\", \"Topic\": \"Symmetry\"}, {\"Title\": \"Introduction to Sets for Roster Method & Set Builder Form | Algebra |  Math | Letstute\", \"Topic\": \"Sets\"}, {\"Title\": \"Line Symmetry and Mirror Symmetry | Types Of Symmetries - Iken Edu\", \"Topic\": \"Symmetry\"}, {\"Title\": \"Lesson 5. Algebraic Expressions |  Maths Session for Grade 09\", \"Topic\": \"Algebra Expression\"}, {\"Title\": \"Symmetrical And Asymmetrical Shapes | Math | Grade-3,4 | Tutway |\", \"Topic\": \"Symmetry\"}, {\"Title\": \"Lesson 1. Perimeter |  Maths Session for Grade 10 #DPEducation #Grade10Maths #perimeter\", \"Topic\": \"Perimeter\"}, {\"Title\": \"Number Patterns Grade 8\", \"Topic\": \"Number Patterns\"}, {\"Title\": \"Simple Tenses - Present, Past and Future | English Grammar & Composition Grade 4 | Periwinkle\", \"Topic\": \"Number Patterns\"}, {\"Title\": \"How to become a Math Genius.\\\\u2714\\\\ufe0f How do genius people See a math problem! by mathOgenius\", \"Topic\": \"Number Patterns\"}, {\"Title\": \"Grade 6 Mathematics - Factors and Multiples  (1st & 2nd Lessons) [English Medium]\", \"Topic\": \"Factors and Multiplication\"}, {\"Title\": \"Math Antics - Prime Factorization\", \"Topic\": \"Factors and Multiplication\"}, {\"Title\": \"Number Patterns\", \"Topic\": \"Number Patterns\"}, {\"Title\": \"Math Antics - Angle Basics\", \"Topic\": \"Angles\"}, {\"Title\": \"Lesson 24. Indices | Maths Session for Grade 06\", \"Topic\": \"Indices\"}, {\"Title\": \"Number patterns: interpreting relationships | Pre-Algebra | Khan Academy\", \"Topic\": \"Number Patterns\"}, {\"Title\": \"What are Sets? | Set Theory | Don't Memorise\", \"Topic\": \"Sets\"}, {\"Title\": \"Divisibility | Mathematics Grade 5 | Periwinkle\", \"Topic\": \"Factors and Multiplication\"}, {\"Title\": \"Learning about Area | #aumsum #kids #science #education #children\", \"Topic\": \"Perimeter\"}, {\"Title\": \"Patterns for Kids\", \"Topic\": \"Number Patterns\"}, {\"Title\": \"Learning Factors | Mathematics Grade 4 | Periwinkle\", \"Topic\": \"Factors and Multiplication\"}, {\"Title\": \"Lesson 2. Perimeter | Maths Session for Grade 08\", \"Topic\": \"Perimeter\"}, {\"Title\": \"Introduction to Algebra | Algebra for Beginners | Math | LetsTute\", \"Topic\": \"Algebra Expression\"}, {\"Title\": \"Multiplying: 2 digit numbers | Multiplication and division | 4th grade | Khan Academy\", \"Topic\": \"Number Patterns\"}, {\"Title\": \"reflexive symmetric transitive relations in hindi | types of relations | Niharika Panda\", \"Topic\": \"Symmetry\"}, {\"Title\": \"Whole Numbers - Introduction | Class 6 Maths\", \"Topic\": \"Operations of Whole Number\"}, {\"Title\": \"The Open Boat by Stephen Crane | English Story | Grade 8 | Periwinkle\", \"Topic\": \"Number Patterns\"}, {\"Title\": \"Intro to Symmetry: All About Symmetry for Kids - FreeSchool\", \"Topic\": \"Symmetry\"}, {\"Title\": \"Lesson 7. Factors | Maths Session for Grade 08\", \"Topic\": \"Algebra Expression\"}, {\"Title\": \"GRADE 7 MATHEMATICS || PROBLEMS INVOLVING SETS\", \"Topic\": \"Sets\"}, {\"Title\": \"Math Antics - Adding & Subtracting Integers\", \"Topic\": \"Directed Numbers\"}, {\"Title\": \"Number Names | Learn Maths | Maths School Syllabus | Maths For School\", \"Topic\": \"Perimeter\"}, {\"Title\": \"Symmetry Lesson\", \"Topic\": \"Symmetry\"}, {\"Title\": \"Place Value And Face Value | Mathematics Grade 2 | Periwinkle\", \"Topic\": \"Operations of Whole Number\"}, {\"Title\": \"Relationship Of Multiplication And Division | Mathematics Grade 3 | Periwinkle\", \"Topic\": \"Operations of Whole Number\"}, {\"Title\": \"Math patterns example 1 | Applying mathematical reasoning | Pre-Algebra | Khan Academy\", \"Topic\": \"Number Patterns\"}, {\"Title\": \"Math lesson for Grade 7 - What are Algebraic Expressions\", \"Topic\": \"Algebra Expression\"}, {\"Title\": \"Factors and Multiples | Mathematics Grade 5 | Periwinkle\", \"Topic\": \"Operations of Whole Number\"}, {\"Title\": \"Relative complement or difference between sets | Probability and Statistics | Khan Academy\", \"Topic\": \"Sets\"}, {\"Title\": \"BASIC MATHS - Multiples and Factors (for Key Stage 2 + 3, GCSEs, and Beginner\", \"Topic\": \"Factors and Multiplication\"}, {\"Title\": \"Measure Length | Mathematics Grade 1 | Periwinkle\", \"Topic\": \"Indices\"}, {\"Title\": \"Ethical Hacking Full Course - Learn Ethical Hacking in 10 Hours | Ethical Hacking Tutorial | Edureka\", \"Topic\": \"Indices\"}, {\"Title\": \"DIY Maths Squares Machine - Maths Working Model | Easy Maths Project For Exhibition | Maths Model\", \"Topic\": \"Sets\"}, {\"Title\": \"MATH Quiz: Are You Smarter than 8th grader? | Can You Pass 8th Grade? - 30 Questions\", \"Topic\": \"Algebra Expression\"}, {\"Title\": \"Math Antics - Negative Numbers\", \"Topic\": \"Directed Numbers\"}, {\"Title\": \"Lesson 5. Algebraic Expressions | Maths Session for Grade 08\", \"Topic\": \"Number Patterns\"}, {\"Title\": \"Properties of Whole Numbers - Part 1 | Don't Memorise\", \"Topic\": \"Operations of Whole Number\"}, {\"Title\": \"Reading 2 Letter Words | 3 Letter Words | 4 Letter Words | 5 Letter Words | Learn Englis\", \"Topic\": \"Symmetry\"}, {\"Title\": \"Rational Numbers\", \"Topic\": \"Number Patterns\"}, {\"Title\": \"Grade 8 Numeric Patterns Part 2\", \"Topic\": \"Number Patterns\"}, {\"Title\": \"How to score Good Marks in Math? | 8 Tips to Study Math | Letstute\", \"Topic\": \"Perimeter\"}, {\"Title\": \"Area | Mathematics Grade 5 | Periwinkle\", \"Topic\": \"Algebra Expression\"}, {\"Title\": \"How to find Multiples and Factors  #3\", \"Topic\": \"Factors and Multiplication\"}, {\"Title\": \"Directed numbers | Multiplication | Division\", \"Topic\": \"Directed Numbers\"}, {\"Title\": \"How to Remember what you study? | How to Increase your Memory Power? | Study Tips | Letstute\", \"Topic\": \"Angles\"}, {\"Title\": \"Adding and Subtracting Integers Using a Simple Method\", \"Topic\": \"Directed Numbers\"}, {\"Title\": \"Addition of Length, Cm, Inches, Metres, Kms | Maths For Class 2 | Maths Basics For CBSE Children\", \"Topic\": \"Operations of Whole Number\"}, {\"Title\": \"Math Antics - Number Patterns\", \"Topic\": \"Number Patterns\"}, {\"Title\": \"Perimeter of Triangle Square and Rectangle | Mathematics Grade 5 | Periwinkle\", \"Topic\": \"Perimeter\"}, {\"Title\": \"Reasoning about factors and multiples\", \"Topic\": \"Factors and Multiplication\"}, {\"Title\": \"Algebra as a Pattern\", \"Topic\": \"Algebra Expression\"}, {\"Title\": \"Perimeter and area: the basics | Perimeter, area, and volume | Geometry | Khan Academy\", \"Topic\": \"Perimeter\"}, {\"Title\": \"Grade 6 maths sinhala lesson 9\", \"Topic\": \"Symmetry\"}, {\"Title\": \"e and Composite Numbers | Mathematics Grade 4 | Periwinkle\", \"Topic\": \"Directed Numbers\"}, {\"Title\": \"Dividing Mixed Numbers | Step by Step | Math with Mr. J\", \"Topic\": \"Operations of Whole Number\"}, {\"Title\": \"Algebraic expressions full chapter | Mathematics | Class 7 | CBSE Syllabus\", \"Topic\": \"Algebra Expression\"}, {\"Title\": \"Math Antics - Rounding\", \"Topic\": \"Operations of Whole Number\"}, {\"Title\": \"Number Patterns Grade 8\", \"Topic\": \"Number Patterns\"}, {\"Title\": \"Algebra Basics: What Is Algebra? - Math Antics\", \"Topic\": \"Sets\"}, {\"Title\": \"Symmetrical And Asymmetrical Shapes | Math | Grade-3,4 | Tutway\", \"Topic\": \"Symmetry\"}, {\"Title\": \"Class 5 || Maths || Shapes || Angles || Types of Angles and measurement\", \"Topic\": \"Angles\"}, {\"Title\": \"Lesson 5. Algebraic Expressions |  Maths Session for Grade 09\", \"Topic\": \"Algebra Expression\"}, {\"Title\": \"Introduction to Fractions | #aumsum #kids #science #education #children\", \"Topic\": \"Perimeter\"}, {\"Title\": \"Lesson 4. Factors and Multiples (Part I) | Maths Session for Grade 07\", \"Topic\": \"Factors and Multiplication\"}, {\"Title\": \"a of a trapezoid | Perimeter, area, and volume | Geometry | Khan Academy\", \"Topic\": \"Perimeter\"}, {\"Title\": \"Symmetry Song for Kids | A Day at Symmetry Land | Lines of Symmetry\", \"Topic\": \"Symmetry\"}, {\"Title\": \"Basic Figures Of Geometry | Maths For Kids | Periwinkle\", \"Topic\": \"Perimeter\"}, {\"Title\": \"Multiples vs. Factors | What are Multiples and Factors? | Math with Mr. J\", \"Topic\": \"Factors and Multiplication\"}, {\"Title\": \"Measurement and Conversion of Capacity | Class 1 to 5\", \"Topic\": \"Symmetry\"}, {\"Title\": \"ABC Flashcards for Toddlers - Learning First Words - Teaching Alphabet for Kids\", \"Topic\": \"Number Patterns\"}, {\"Title\": \"9 Incredible Science Facts You Probably Didn't Learn At School\", \"Topic\": \"Factors and Multiplication\"}, {\"Title\": \"Range, variance and standard deviation as measures of dispersion | Khan Academy\", \"Topic\": \"Indices\"}, {\"Title\": \"Intro to Symmetry: All About Symmetry for Kids - FreeSchool\", \"Topic\": \"Symmetry\"}, {\"Title\": \"The World's Fastest Writer @ Spoorthi Pradhata Reddy\", \"Topic\": \"Indices\"}, {\"Title\": \"Math Antics - Intro To Exponents (aka Indices\", \"Topic\": \"Indices\"}, {\"Title\": \"Adding Integers | How to Add Positive and Negative Integers\", \"Topic\": \"Directed Numbers\"}, {\"Title\": \"Whole Numbers | Class 6 | Maths | CBSE | ICSE | FREE Tutorial\", \"Topic\": \"Operations of Whole Number\"}, {\"Title\": \"Introduction to Sets for Roster Method & Set Builder Form | Algebra |  Math | Letstute\", \"Topic\": \"Sets\"}, {\"Title\": \"Number sets 1 | Fractions | Pre-Algebra | Khan Academy\", \"Topic\": \"Sets\"}, {\"Title\": \"What are Integers? | Number System | Don't Memorise\", \"Topic\": \"Directed Numbers\"}, {\"Title\": \"Basic Division | #aumsum #kids #science #education #children\", \"Topic\": \"Sets\"}, {\"Title\": \"Least common multiple exercise | Factors and multiples | Pre-Algebra | Khan Academy\", \"Topic\": \"Factors and Multiplication\"}, {\"Title\": \"How to Subtract Negative Numbers | Subtracting Negative Numbers\\\"\", \"Topic\": \"Directed Numbers\"}, {\"Title\": \"Conceptual understanding of multiplying fractions and whole numbers | Khan Academy\", \"Topic\": \"Operations of Whole Number\"}, {\"Title\": \"ALGEBRAIC EXPRESSIONS & EQUATIONS | GRADE 6\", \"Topic\": \"Algebra Expression\"}, {\"Title\": \"https://www.youtube.com/embed/CqrYYiffPr0\", \"Topic\": \"Factors and Multiplication\"}, {\"Title\": \"Opposites for Kids | + More Kids Educational Videos, Kid's Learning, Educational Videos for Children\\\"\", \"Topic\": \"Perimeter\"}, {\"Title\": \"Rational Numbers\", \"Topic\": \"Directed Numbers\"}, {\"Title\": \"Indices - Introduction | Algebra | Maths | FuseSchool\", \"Topic\": \"Indices\"}, {\"Title\": \"Angles: measuring angles and their names! | Educational Videos for Kids\", \"Topic\": \"Angles\"}, {\"Title\": \"Tens and Ones | Maths for Kids | Kindergarten Maths School Syllabus | Maths For Pre School\", \"Topic\": \"Perimeter\"}, {\"Title\": \"Nutrition in Plants | Class 7 Science Sprint | Chapter 1 @Vedantu Young Wonder\", \"Topic\": \"Operations of Whole Number\"}, {\"Title\": \"Math Antics - Intro To Exponents (aka Indices)\", \"Topic\": \"Indices\"}, {\"Title\": \"Visually dividing a fraction by a whole number\", \"Topic\": \"Operations of Whole Number\"}, {\"Title\": \"9 Incredible Science Facts You Probably Didn't Learn At School\", \"Topic\": \"Sets\"}, {\"Title\": \"Rotating polygons 180 degrees about their center | Transformations | Geometry | Khan Academy\", \"Topic\": \"Symmetry\"}, {\"Title\": \"How to Remember what you study? | How to Increase your Memory Power? | Study Tips | Letstute\", \"Topic\": \"Indices\"}, {\"Title\": \"Nouns: Singular & Plural | English Grammar & Composition Grade 2 | Periwinkle\", \"Topic\": \"Indices\"}, {\"Title\": \"Directed Number\", \"Topic\": \"Directed Numbers\"}, {\"Title\": \"Learning Factors | Mathematics Grade 4 | Periwinkle\", \"Topic\": \"Factors and Multiplication\"}, {\"Title\": \"Algebra Basics: What Is Algebra? - Math Antics\", \"Topic\": \"Algebra Expression\"}, {\"Title\": \"Symmetry | Class 6 Maths | Introduction to Symmetry | iWiz Kapil Gargi\", \"Topic\": \"Symmetry\"}, {\"Title\": \"Reflection And Rotational Symmetry In Familiar 2D Shapes | Mathematics Grade 5 | Periwinkl\", \"Topic\": \"Symmetry\"}, {\"Title\": \"Number sets | Fractions | Pre-Algebra | Khan Academy\", \"Topic\": \"Sets\"}, {\"Title\": \"How To Find The LCM and HCF Quickly!\\\", \", \"Topic\": \"Factors and Multiplication\"}, {\"Title\": \"Introduction - Symmetry - Chapter 13 - Class 6th Maths\", \"Topic\": \"Symmetry\"}, {\"Title\": \"Angles: measuring angles and their names! | Educational Videos for Kids\", \"Topic\": \"Angles\"}, {\"Title\": \"Basic Figures Of Geometry | Maths For Kids | Periwinkle\\\", \", \"Topic\": \"Angles\"}, {\"Title\": \"Polygons | Mathematics Grade 5 | Periwinkle\", \"Topic\": \"Angles\"}, {\"Title\": \"Math Antics - Area\", \"Topic\": \"Angles\"}, {\"Title\": \"Whole Number Operations | Adding, Subtracting, Multiplying, and Dividing\", \"Topic\": \"Operations of Whole Number\"}, {\"Title\": \"Lesson 11. Factors and Multiples | Maths Session for Grade 06\", \"Topic\": \"Factors and Multiplication\"}, {\"Title\": \"Greatest common factor explained | Factors and multiples | Pre-Algebra | Khan Academy\", \"Topic\": \"Factors and Multiplication\"}, {\"Title\": \"26 FAST MATHS TRICKS YOU MUST KNOW\", \"Topic\": \"Indices\"}, {\"Title\": \"Understanding Patterns | Mathematics Grade 1 | Periwinkle\", \"Topic\": \"Number Patterns\"}, {\"Title\": \"Abacus Class - Introduction | Learn basics Abacus | Beginners Abacus Lesson 1\", \"Topic\": \"Number Patterns\"}, {\"Title\": \"u2705 3 Simple and amazing Questions Only a Genius Can Answer-Intelligence Test (IQ) | part-1\", \"Topic\": \"Perimeter\"}, {\"Title\": \"Indices - Introduction | Algebra | Maths | FuseSchool\", \"Topic\": \"Indices\"}, {\"Title\": \"Frog Dissection--Sixth Grade\", \"Topic\": \"Operations of Whole Number\"}, {\"Title\": \"Grade 7 Science Unit 9 | Light | \\\\u0d86\\\\u0dbd\\\\u0ddd\\\\u0d9a\\\\u0dba\", \"Topic\": \"Sets\"}, {\"Title\": \"Introduction to number systems and binary | Pre-Algebra | Khan Academy\", \"Topic\": \"Number Patterns\"}, {\"Title\": \"Line Of Symmetry | Mathematics Grade 4 | Periwinkle\", \"Topic\": \"Symmetry\"}, {\"Title\": \"Math Antics - The Pythagorean Theore\", \"Topic\": \"Perimeter\"}, {\"Title\": \"Rounding The Numbers | Mathematics Grade 5 | Periwinkle\", \"Topic\": \"Number Patterns\"}, {\"Title\": \"Prime and Composite Numbers | Mathematics Grade 4 | Periwinkle\", \"Topic\": \"Sets\"}, {\"Title\": \"Proof - Sum of Measures of Angles in a Triangle are 180\", \"Topic\": \"Angles\"}, {\"Title\": \"Lesson 2. Sets | Maths Session for Grade 07\", \"Topic\": \"Sets\"}, {\"Title\": \"Types of Angles & It's Measurements\", \"Topic\": \"Angles\"}, {\"Title\": \"9 Incredible Science Facts You Probably Didn't Learn At School\", \"Topic\": \"Factors and Multiplication\"}, {\"Title\": \"Angle measurement and circle arcs | Angles and intersecting lines | Geometry | Khan Academy\", \"Topic\": \"Angles\"}, {\"Title\": \"Mineral Resources | New Sparkle Semester Series Social Studies Grade 4 | Jeevandeep\", \"Topic\": \"Indices\"}, {\"Title\": \"Lesson 3. Operations on whole numbers | Maths Session for Grade 07\", \"Topic\": \"Operations of Whole Number\"}, {\"Title\": \"Factors and Multiples made easy |Prime Factorization| Find factors of all numbers| Class 1 to 5 |\", \"Topic\": \"Factors and Multiplication\"}, {\"Title\": \"Parallel and Perpendicular Lines, Transversals, Alternate Interior Angles, Alternate Exterior Angles\", \"Topic\": \"Angles\"}, {\"Title\": \"06 - What is a Function in Math? (Learn Function Definition, Domain & Range in Algebra)\", \"Topic\": \"Sets\"}, {\"Title\": \"Introduction to multiplying decimals | Decimals | Pre-Algebra | Khan Academy\", \"Topic\": \"Operations of Whole Number\"}, {\"Title\": \"Math Antics - Place Value\", \"Topic\": \"Sets\"}, {\"Title\": \"Math Antics - Common Denominator ECD\", \"Topic\": \"Factors and Multiplication\"}, {\"Title\": \"Lesson 1. Bilateral Symmetry | Maths Session for Grade 07\", \"Topic\": \"Symmetry\"}, {\"Title\": \"Recognizing divisibility | Factors and multiples | Pre-Algebra | Khan Academy\", \"Topic\": \"Factors and Multiplication\"}, {\"Title\": \"Math Antics - Area\", \"Topic\": \"Perimeter\"}, {\"Title\": \"ommon Number Patterns | Mathematics Grade 4 | Periwinkle\", \"Topic\": \"Number Patterns\"}, {\"Title\": \"Grade 7 Science Unit 8 | Earth\", \"Topic\": \"Sets\"}, {\"Title\": \"Maths Help - 35.  Addition & Subtraction of Directed Numbers\", \"Topic\": \"Directed Numbers\"}, {\"Title\": \"Number Patterns Grade 8\", \"Topic\": \"Number Patterns\"}, {\"Title\": \"Math Antics - Factoring\", \"Topic\": \"Operations of Whole Number\"}, {\"Title\": \"Quiz on Symmetry | part 1|\\\",\", \"Topic\": \"Symmetry\"}, {\"Title\": \"Grade 6 - Mathematics - Symmetry: Reflective / WorksheetCloud Video Lesson\", \"Topic\": \"Symmetry\"}, {\"Title\": \"Construction of angle of 15, 30, 45, 60, 75, 90, 105, 120, 135, 150, 165 and 180 degree new\", \"Topic\": \"Angles\"}, {\"Title\": \"Intro to Symmetry (Part 1) | What is Symmetry? | Lines of Symmetry\", \"Topic\": \"Symmetry\"}, {\"Title\": \"Adding and subtracting negative numbers | Pre-Algebra | Khan Academy\", \"Topic\": \"Directed Numbers\"}, {\"Title\": \"Degrees Of Comparison | English Grammar and Composition Grade 4 | Periwinkle\", \"Topic\": \"Number Patterns\"}, {\"Title\": \"Integers - Multiplication, Division, Adding, Subtracting, Rules, Positive & Negative Numbers - Math\", \"Topic\": \"Directed Numbers\"}, {\"Title\": \"Congruent triangles and SSS | Congruence | Geometry | Khan Academy\", \"Topic\": \"Symmetry\"}, {\"Title\": \"Lesson 2. Perimeter | Maths Session for Grade 08\", \"Topic\": \"Perimeter\"}, {\"Title\": \"egers | Class 7 | Maths| CBSE | ICSE | FREE Tutori\", \"Topic\": \"Sets\"}, {\"Title\": \"NCERT Grade 8 || CBSE Class 8 - Algebraic Expressions and Identities Introduction in Tami\", \"Topic\": \"Algebra Expression\"}, {\"Title\": \"Telling Time For Children - Learning the Clock\", \"Topic\": \"Angles\"}, {\"Title\": \"Showing angles have same measure | Angles and intersecting lines | Geometry | Khan Academy\\\"\", \"Topic\": \"Angles\"}, {\"Title\": \"Algebra Basics: Graphing On The Coordinate Plane - Math Antics\", \"Topic\": \"Angles\"}, {\"Title\": \"C.M & H.C.F-1 | Maths tricks | Easy maths tips for kids\", \"Topic\": \"Angles\"}, {\"Title\": \"Negative numbers and number line examples | Pre-Algebra | Khan Academy\", \"Topic\": \"Directed Numbers\"}, {\"Title\": \"Addition of Length, Cm, Inches, Metres, Kms | Maths For Class 2 | Maths Basics For CBSE Children\", \"Topic\": \"Perimeter\"}, {\"Title\": \"Find even and odd number through games / Mathematics\", \"Topic\": \"Directed Numbers\"}, {\"Title\": \"Lesson 11. Symmetry | Maths Session for Grade 08\", \"Topic\": \"Symmetry\"}, {\"Title\": \"Factorization: what is it and how is it done? | Class 8th Maths\", \"Topic\": \"Algebra Expression\"}, {\"Title\": \"Math Antics - Adding & Subtracting Integers\", \"Topic\": \"Indices\"}, {\"Title\": \"9 Incredible Science Facts You Probably Didn't Learn At School\", \"Topic\": \"Factors and Multiplication\"}, {\"Title\": \"Rounding Decimals | Mathematics Grade 5 | Periwinkle\", \"Topic\": \"Operations of Whole Number\"}, {\"Title\": \"Lesson 3. Angles | Maths Session for Grade 08\", \"Topic\": \"Number Patterns\"}, {\"Title\": \"Square Root Tricks | #aumsum #kids #science #education #children\", \"Topic\": \"Perimeter\"}, {\"Title\": \"Patterns with Figures and Shapes | Maths For Class 2 | Maths Basics For CBSE Children\", \"Topic\": \"Number Patterns\"}, {\"Title\": \"9 Incredible Science Facts You Probably Didn't Learn At School\", \"Topic\": \"Perimeter\"}, {\"Title\": \"Math Antics - Volume\", \"Topic\": \"Angles\"}, {\"Title\": \"Maths Symmetry part 3 (Symmetry in Nature) CBSE Class 7  Mathematics VII\", \"Topic\": \"Symmetry\"}, {\"Title\": \"Highest Common Factor (HCF) | Mathematics Grade 4 | Periwinkle\", \"Topic\": \"Factors and Multiplication\"}, {\"Title\": \"Lesson 24. Indices | Maths Session for Grade 06\", \"Topic\": \"Indices\"}, {\"Title\": \"Interactive module: finding factors | Factors and multiples | Pre-Algebra | Khan Academy\", \"Topic\": \"Factors and Multiplication\"}, {\"Title\": \"Adding and Subtracting Integers Using a Simple Method\", \"Topic\": \"Directed Numbers\"}, {\"Title\": \"Learning Factors | Mathematics Grade 4 | Periwinkle\", \"Topic\": \"Factors and Multiplication\"}, {\"Title\": \"Less Than, Greater Than | Maths For Class 2 | Maths Basics For CBSE Children\", \"Topic\": \"Indices\"}, {\"Title\": \"Algebra Basics: Solving 2-Step Equations - Math Antics\", \"Topic\": \"Directed Numbers\"}, {\"Title\": \"Introduction to transformations | Transformations | Geometry | Khan Academy\", \"Topic\": \"Symmetry\"}, {\"Title\": \"ing factors and multiples | Factors and multiples | Pre-Algebra | Khan Academy\", \"Topic\": \"Factors and Multiplication\"}, {\"Title\": \"Introduction to multiplying decimals | Decimals | Pre-Algebra | Khan Academy\", \"Topic\": \"Operations of Whole Number\"}, {\"Title\": \"et\\\\u2019s Learn & Draw Shapes | Learn Shapes For Kids | Shapes Song | Pre School Junior\", \"Topic\": \"Perimeter\"}, {\"Title\": \"Adding Integers | How to Add Positive and Negative Integers\", \"Topic\": \"Directed Numbers\"}, {\"Title\": \"SOLVING ALGEBRAIC EQUATIONS | GRADE 6\\\",\", \"Topic\": \"Algebra Expression\"}, {\"Title\": \"Part-1 : Rational Numbers | Mathematics | Class 8 | CBSE Syllabus\", \"Topic\": \"Algebra Expression\"}, {\"Title\": \"Area and Perimeter\", \"Topic\": \"Perimeter\"}, {\"Title\": \"Class 6 Maths - What are Whole Numbers? With Examples\", \"Topic\": \"Operations of Whole Number\"}, {\"Title\": \"Negative exponents | Exponents, radicals, and scientific notation | Pre-Algebra | Khan Academ\", \"Topic\": \"Directed Numbers\"}, {\"Title\": \"Spherical Mirrors\", \"Topic\": \"Angles\"}, {\"Title\": \"Number Patterns - Grade 8 - 1st lesson - English Medium - Sri Lankan National Curriculum\", \"Topic\": \"Number Patterns\"}, {\"Title\": \"Grade 8 Math - Lesson 8.5: Solving Equations\", \"Topic\": \"Algebra Expression\"}, {\"Title\": \"Algebra Trick to save you time (Algebra Tricks\", \"Topic\": \"Algebra Expression\"}, {\"Title\": \"Grade 08 - Mathematics (English Medium) - Number patterns (Lesson - 01)\\\",\", \"Topic\": \"Number Patterns\"}, {\"Title\": \"Thinking about shapes of distributions | Data and statistics | 6th grade | Khan Academy\", \"Topic\": \"Sets\"}, {\"Title\": \"Reading 2 Letter Words | 3 Letter Words | 4 Letter Words | 5 Letter Words | Learn English\", \"Topic\": \"Number Patterns\"}, {\"Title\": \"Introduction - Algebraic Expressions and Identities - Chapter 9 - NCERT Class 8th Maths\", \"Topic\": \"Algebra Expression\"}, {\"Title\": \"Perimeter | Maths for Kids | Grade 4 | Periwinkle\", \"Topic\": \"Perimeter\"}, {\"Title\": \"Lesson 6. Solids | Maths Session for Grade 08\", \"Topic\": \"Algebra Expression\"}, {\"Title\": \"Multiply a Whole Number by a Decimal | Math with Mr. J\", \"Topic\": \"Operations of Whole Number\"}, {\"Title\": \"Multiples and factors | Samacheer 5th std Maths\", \"Topic\": \"Factors and Multiplication\"}, {\"Title\": \"What is a Linear Equation in One Variable? | Don't Memorise\", \"Topic\": \"Algebra Expression\"}, {\"Title\": \"Finding the rule for the pattern\", \"Topic\": \"Number Patterns\"}, {\"Title\": \"Learn Numbers For Kids | Counting Numbers 1 - 25 | Learn To Write Numbers | Before, After Numbers\", \"Topic\": \"Factors and Multiplication\"}, {\"Title\": \"Rules Of Divisibility | Mathematics Grade 4 | Periwinkle\", \"Topic\": \"Operations of Whole Number\"}, {\"Title\": \"Lesson 2. Perimeter | Maths Session for Grade 08\", \"Topic\": \"Perimeter\"}, {\"Title\": \"International Number System | Mathematics Grade 4 | Periwinkle\", \"Topic\": \"Sets\"}, {\"Title\": \"Lesson 11. Factors and Multiples | Maths Session for Grade 06\", \"Topic\": \"Factors and Multiplication\"}, {\"Title\": \"3 Simple and amazing Questions Only a Genius Can Answer-Intelligence Test (IQ) | part-1\", \"Topic\": \"Indices\"}, {\"Title\": \"Algebra: Linear equations 1 | Linear equations | Algebra I | Khan Academy\", \"Topic\": \"Directed Numbers\"}, {\"Title\": \"Division Story Problems | Mathematics Grade 3 | Periwinkle\\\",\", \"Topic\": \"Operations of Whole Number\"}, {\"Title\": \"Math Antics - Order Of Operations\", \"Topic\": \"Sets\"}, {\"Title\": \"Number Patterns\", \"Topic\": \"Number Patterns\"}, {\"Title\": \"Finding factors and multiples | Factors and multiples | Pre-Algebra | Khan Academy\", \"Topic\": \"Factors and Multiplication\"}, {\"Title\": \"Measure Length | Mathematics Grade 1 | Periwinkle\\\"\", \"Topic\": \"Perimeter\"}, {\"Title\": \"Natural Disasters compilation | The Dr. Binocs Show | Best Learning Videos For Kids | Peekaboo Kidz\", \"Topic\": \"Indices\"}, {\"Title\": \"Order of Operations Song | PEMDAS Rap for 5th Grade\", \"Topic\": \"Operations of Whole Number\"}, {\"Title\": \"Pythagoras Theorem, Fractions, Ratio, Proportion and much more!! | #aumsum #kids #science\", \"Topic\": \"Indices\"}, {\"Title\": \"Math Antics - Order Of Operations\", \"Topic\": \"Operations of Whole Number\"}, {\"Title\": \"Lesson 7. Parallel Straight Lines | Maths Session for Grade 07\", \"Topic\": \"Symmetry\"}, {\"Title\": \"Class 6 | Maths | Symmetry | Mirror Symmetry\", \"Topic\": \"Symmetry\"}, {\"Title\": \"Symmetry full chapter | Mathematics | Class 6 | CBSE Syllabus\", \"Topic\": \"Symmetry\"}, {\"Title\": \"Algebraic Expressions | Class 7 | Maths| CBSE | ICSE | FREE Tutorial\\\",\", \"Topic\": \"Algebra Expression\"}, {\"Title\": \"Math Antics - Triangles\", \"Topic\": \"Perimeter\"}, {\"Title\": \"Math Antics - Adding & Subtracting Integers\", \"Topic\": \"Directed Numbers\"}, {\"Title\": \"Factors for the First Time\", \"Topic\": \"Factors and Multiplication\"}, {\"Title\": \"Four operations Part - 4 | Add, Sub, Multiple & Division | 5th std Maths Syllabus | Mathematics\", \"Topic\": \"Factors and Multiplication\"}, {\"Title\": \"Area | Mathematics Grade 5 | Periwinkle\", \"Topic\": \"Perimeter\"}, {\"Title\": \"Lesson 4. Directed Numbers | Maths Session for Grade 08\", \"Topic\": \"Algebra Expression\"}, {\"Title\": \"Gravity Compilation: Crash Course Kids\", \"Topic\": \"Sets\"}, {\"Title\": \"7 Effective Tips & Tricks In 1 Video | Mathematics study tips | Super Tips to Score 100% in Maths\", \"Topic\": \"Sets\"}, {\"Title\": \"Comparing areas and perimeters of rectangles | Measurement | Pre-Algebra | Khan Academy\", \"Topic\": \"Perimeter\"}, {\"Title\": \"How to Remember what you study? | How to Increase your Memory Power? | Study Tips | Letstute\", \"Topic\": \"Indices\"}, {\"Title\": \"Perimeter | Maths for Kids | Grade 4 | Periwinkle\", \"Topic\": \"Perimeter\"}, {\"Title\": \"Introduction to rational and irrational numbers | Algebra I | Khan Academy\", \"Topic\": \"Sets\"}, {\"Title\": \"Function symmetry introduction | Transformations of functions | Algebra 2 | Khan Academy\", \"Topic\": \"Symmetry\"}, {\"Title\": \"Learn to Find Area and Perimeter of Square and Rectangle | Math | Grade-5 | Tutway\", \"Topic\": \"Perimeter\"}, {\"Title\": \"Reflection and Symmetry | Part 1/3 | English | Class 6\", \"Topic\": \"Symmetry\"}, {\"Title\": \"Introduction to Sets for Roster Method & Set Builder Form | Algebra |  Math | Letstute\", \"Topic\": \"Sets\"}, {\"Title\": \"Grade 6 - Mathematics - Symmetry: Reflective / WorksheetCloud Video Lesson\", \"Topic\": \"Symmetry\"}, {\"Title\": \"Class 5 Maths | NCERT | Chapter 6 | Page 94 | Be My Multiple, I'll be Your Factor\", \"Topic\": \"Factors and Multiplication\"}, {\"Title\": \"Math Antics - Negative Numbers\", \"Topic\": \"Directed Numbers\"}, {\"Title\": \"Kids vocabulary compilation - Words Theme collection\\\\uff5cEnglish educational video for kids\", \"Topic\": \"Indices\"}, {\"Title\": \"Intersection of Sets, Union of Sets and Venn Diagrams\", \"Topic\": \"Sets\"}, {\"Title\": \"Learn Numbers For Kids | Counting Numbers 1 - 25 | Learn To Write Numbers | Before, After Numbers\", \"Topic\": \"Number Patterns\"}, {\"Title\": \"Sigma notation for sums | Sequences, series and induction | Precalculus | Khan Academy\", \"Topic\": \"Number Patterns\"}, {\"Title\": \"Simple Math Tricks You Weren\\\\u2019t Taught at School\", \"Topic\": \"Factors and Multiplication\"}, {\"Title\": \"Microsoft Excel Tutorial for Beginners | Excel Training | Excel Formulas and Functions | Edureka\", \"Topic\": \"Operations of Whole Number\"}, {\"Title\": \"Opposite of a number | Negative numbers | 6th grade | Khan Academy\", \"Topic\": \"Directed Numbers\"}, {\"Title\": \"Grade 7 Math: Introduction to Sets\", \"Topic\": \"Sets\"}, {\"Title\": \"ABC Flashcards for Toddlers - Learning First Words - Teaching Alphabet for Kids\", \"Topic\": \"Indices\"}, {\"Title\": \"Class 4 | CBSE | NCERT | Maths | 2 | Long And Short | T3 | Race | Hindi Video\", \"Topic\": \"Angles\"}, {\"Title\": \"Angles Formed by a Transversal with Two Parallel Lines | Don't Memorise\", \"Topic\": \"Angles\"}, {\"Title\": \"Symmetrical And Asymmetrical Shapes | Math | Grade-3,4 | Tutway |\", \"Topic\": \"Symmetry\"}, {\"Title\": \"Line of reflection example\", \"Topic\": \"Symmetry\"}, {\"Title\": \"Negative Numbers Subtracting (Easy Method)\\\", \", \"Topic\": \"Directed Numbers\"}, {\"Title\": \"Pre School Learning For Kids | Animals, Birds, Animal Sounds, Fruits, Flowers, Vegetables\", \"Topic\": \"Symmetry\"}, {\"Title\": \"Multiplying fractions and whole numbers: two approaches | Fractions | 5th grade | Khan Academy\", \"Topic\": \"Operations of Whole Number\"}, {\"Title\": \"Nursery Rhymes For Kids | Top 20 Action Songs For Children | Nursery Rhymes With Actions\", \"Topic\": \"Factors and Multiplication\"}, {\"Title\": \"Phonics Chapter 1 : Sounds of Alphabets | Learn Phonics  | Phonics Classroom Teaching\", \"Topic\": \"Number Patterns\"}, {\"Title\": \"Finding LCM using prime factorisation\", \"Topic\": \"Factors and Multiplication\"}, {\"Title\": \"at are Multiples of a Number? How are Factors and Multiples related? | Don't Memorise\", \"Topic\": \"Factors and Multiplication\"}, {\"Title\": \"Understanding how positive and negative numbers interact\", \"Topic\": \"Directed Numbers\"}, {\"Title\": \"Introduction To Negative Numbers |  Maths Concept For Kids | Maths Grade 5 | Periwinkle\", \"Topic\": \"Sets\"}, {\"Title\": \"Least Common Multiple (LCM) | Mathematics Grade 4 | Periwinkle\", \"Topic\": \"Factors and Multiplication\"}, {\"Title\": \"Symmetry - (CBSE Grade: 06 Maths\", \"Topic\": \"Symmetry\"}, {\"Title\": \"What are Indices & How to Trade Them?\\\", \", \"Topic\": \"Indices\"}, {\"Title\": \"A Cool Grammar Test That 95% of People Fail\", \"Topic\": \"Angles\"}, {\"Title\": \"Human Body for class 3\", \"Topic\": \"Angles\"}, {\"Title\": \"Introduction to Algebra | Algebra for Beginners | Math | LetsTute\", \"Topic\": \"Algebra Expression\"}, {\"Title\": \"Lesson 6. Factors of the Algebraic Expressions | Maths Session for Grade 9\", \"Topic\": \"Algebra Expression\"}, {\"Title\": \"Math Antics - Scientific Notation\", \"Topic\": \"Directed Numbers\"}, {\"Title\": \"Phonics Chapter 10 : Blending Words | Learn Phonics For Kids | Phonics Classroom Teaching Lessons\", \"Topic\": \"Angles\"}, {\"Title\": \"What are Angles? | Types of Angles| Measure and Draw Angles using a Protractor |Class 1 to 5\", \"Topic\": \"Angles\"}, {\"Title\": \"Perimeter | Class 6 | Maths | CBSE | ICSE | FREE Tutorial\", \"Topic\": \"Perimeter\"}, {\"Title\": \"Nouns - Concrete and Abstract | English Grammar & Composition Grade 4 | Periwinkle\", \"Topic\": \"Directed Numbers\"}, {\"Title\": \"Factors and Multiples | Mathematics Grade 5 | Periwinkle\", \"Topic\": \"Factors and Multiplication\"}, {\"Title\": \"Writing Roman Numerals | Mathematics Grade 3 | Periwinkle\", \"Topic\": \"Number Patterns\"}, {\"Title\": \"Math Antics - Dividing Fractions\", \"Topic\": \"Operations of Whole Number\"}, {\"Title\": \"O/L Maths Lessons in Sinhala - Perimeter | Grade 8 Lesson 2 Mathematics in Sinhala | guruthuma\", \"Topic\": \"Perimeter\"}, {\"Title\": \"Indices - Grade 6 - 24th lesson - English Medium - Sri Lankan National Curriculum\", \"Topic\": \"Indices\"}, {\"Title\": \"Multiples and Factors | Class 5 | Maths | CBSE | ICSE | FREE Tutorial\", \"Topic\": \"Factors and Multiplication\"}, {\"Title\": \"Algebraic Identities Class 8 & Class 9\", \"Topic\": \"Algebra Expression\"}, {\"Title\": \"Laws of Indices - Part 1 | Algebra | Maths | FuseSchool\", \"Topic\": \"Indices\"}, {\"Title\": \"Maths Symmetry part 11 (What is Rotational Symmetry) CBSE Class 7  Mathematics VI\", \"Topic\": \"Symmetry\"}, {\"Title\": \"Angles Formed by a Transversal with Two Parallel Lines | Don't Memorise\", \"Topic\": \"Angles\"}, {\"Title\": \"Factorize algebraic expressions | Factorization class 8 | algebraic expressions class 9 | Factoriz\", \"Topic\": \"Algebra Expression\"}, {\"Title\": \"Direct And Indirect Objects | English Grammar & Composition Grade 5 | Periwinkle\", \"Topic\": \"Number Patterns\"}, {\"Title\": \"Operations of negative numbers without using number lines\", \"Topic\": \"Directed Numbers\"}, {\"Title\": \"Triangle And Square Number Sequence | Mathematics Grade 5 | Periwinkle\", \"Topic\": \"Number Patterns\"}, {\"Title\": \"Sum of interior angles of a polygon | Angles and intersecting lines | Geometry | Khan Academy\", \"Topic\": \"Angles\"}, {\"Title\": \"Abacus Class - Introduction | Learn basics Abacus | Beginners Abacus Lesson 1\", \"Topic\": \"Symmetry\"}, {\"Title\": \"Angles: measuring angles and their names! | Educational Videos for Kids\", \"Topic\": \"Angles\"}, {\"Title\": \"Introduction To Exponents | Exponents and Powers | Algebra | Math | Letstute\", \"Topic\": \"Indices\"}, {\"Title\": \"DEFINED TERMS IN GEOMETRY (Mathematical System) Grade 8 Lesson 2 Third Quarter | ENGLISH Part 1\", \"Topic\": \"Angles\"}, {\"Title\": \"Statistics intro: Mean, median, and mode | Data and statistics | 6th grade | Khan Academy\", \"Topic\": \"Indices\"}, {\"Title\": \"Subtraction With Borrowing | Subtract | Maths For Class 2 | Maths Basics For CBSE Children\", \"Topic\": \"Number Patterns\"}, {\"Title\": \"Basic Figures Of Geometry | Maths For Kids | Periwinkle\", \"Topic\": \"Symmetry\"}, {\"Title\": \"Algebraic expressions and identities full chapter | 8th class maths | CBSE Syllabus Mathematics\", \"Topic\": \"Algebra Expression\"}, {\"Title\": \"Lesson 14. Types of Numbers and Number Patterns | Maths Session for Grade 06\\\",\", \"Topic\": \"Indices\"}, {\"Title\": \"Angle basics | Angles and intersecting lines | Geometry | Khan Academy\", \"Topic\": \"Angles\"}, {\"Title\": \"Division ||  3th std Maths Syllabus || Exercises and Activities || Easy Way to Learn Maths for Kids\", \"Topic\": \"Indices\"}, {\"Title\": \"Introduction to ratios | Ratios, proportions, units, and rates | Pre-Algebra | Khan Academy\", \"Topic\": \"Perimeter\"}, {\"Title\": \"How The Internet Works? | What Is Internet? | Dr Binocs Show | Kids Learning Video | Peekaboo Kidz\", \"Topic\": \"Directed Numbers\"}, {\"Title\": \"Algebraic Expressions\", \"Topic\": \"Algebra Expression\"}, {\"Title\": \"Lesson 5. Algebraic Expressions |  Maths Session for Grade 09\", \"Topic\": \"Algebra Expression\"}, {\"Title\": \"Algebra Basics: What Is Algebra? - Math Antics\", \"Topic\": \"Operations of Whole Number\"}, {\"Title\": \"What is Algebra? | Don't Memoris\", \"Topic\": \"Algebra Expression\"}, {\"Title\": \"Number Patterns Grade 8\", \"Topic\": \"Number Patterns\"}, {\"Title\": \"Introduction - Mensuration - Chapter 11 - NCERT Class 8th Maths\", \"Topic\": \"Perimeter\"}, {\"Title\": \"Rules Of Divisibility | Mathematics Grade 4 | Periwinkle\", \"Topic\": \"Operations of Whole Number\"}, {\"Title\": \"Rules Of Divisibility | Mathematics Grade 4 | Periwinkle\", \"Topic\": \"Indices\"}, {\"Title\": \"Intro to Symmetry: All About Symmetry for Kids - FreeSchool\", \"Topic\": \"Symmetry\"}, {\"Title\": \"Math Antics - Circles, Circumference And Area\", \"Topic\": \"Perimeter\"}, {\"Title\": \"Math Antics - Order Of Operations\", \"Topic\": \"Indices\"}, {\"Title\": \"Lesson 5. Indices | Maths Session for Grade 07\", \"Topic\": \"Indices\"}, {\"Title\": \"Number Patterns - Grade 8 - 1st lesson - English Medium - Sri Lankan National Curriculum\", \"Topic\": \"Number Patterns\"}, {\"Title\": \"Perimeter for Kids | Math Lesson Video\", \"Topic\": \"Perimeter\"}, {\"Title\": \"LCM and GCF word problems | Factors and multiples | Pre-Algebra | Khan Academy\", \"Topic\": \"Factors and Multiplication\"}, {\"Title\": \"Perimeter | Class 6 | Maths | CBSE | ICSE | FREE Tutorial\", \"Topic\": \"Perimeter\"}, {\"Title\": \"Collective Nouns | English Grammar & Composition Grade 3 | Periwinkle\", \"Topic\": \"Sets\"}, {\"Title\": \"Introduction to perimeter | Measurement | Pre-Algebra | Khan Academy\", \"Topic\": \"Perimeter\"}, {\"Title\": \"Triangle inequality theorem | Perimeter, area, and volume | Geometry | Khan Academy\", \"Topic\": \"Perimeter\"}, {\"Title\": \"Pythagoras Theorem, Fractions, Ratio, Proportion and much more!! | #aumsum #kids #science\", \"Topic\": \"Operations of Whole Number\"}, {\"Title\": \"Math Antics - Exponents and Square Roots\", \"Topic\": \"Directed Numbers\"}, {\"Title\": \"Mathematics  Indices  Maths Paradise YouTube Video Channel\", \"Topic\": \"Indices\"}, {\"Title\": \"Ways to represent data | Data and statistics | 6th grade | Khan Academy\", \"Topic\": \"Sets\"}, {\"Title\": \"Whole Numbers | Ap&TS syllabus Class 6 Maths | Full lesson\", \"Topic\": \"Indices\"}, {\"Title\": \"Std 7 Maths I  Chapter 6 I Indices I Practice Set 30 I Finding the square root\", \"Topic\": \"Indices\"}, {\"Title\": \"Lesson 5. Algebraic Expressions | Maths Session for Grade 08\", \"Topic\": \"Algebra Expression\"}, {\"Title\": \"meter of a parallelogram | Perimeter, area, and volume | Geometry | Khan Academy\", \"Topic\": \"Perimeter\"}, {\"Title\": \"Prime and Composite Numbers | Mathematics Grade 4 | Periwinkle\", \"Topic\": \"Indices\"}, {\"Title\": \"Addition of Numbers with Carrying | Maths For Class 2 | Maths Basics For CBSE Children\", \"Topic\": \"Number Patterns\"}, {\"Title\": \"Intersection of Sets, Union of Sets and Venn Diagrams\", \"Topic\": \"Sets\"}, {\"Title\": \"Class 5 || Maths || Multiplication\", \"Topic\": \"Factors and Multiplication\"}, {\"Title\": \"Finding more angles | Angles and intersecting lines | Geometry | Khan Academy\", \"Topic\": \"Angles\"}, {\"Title\": \"Lesson 1. Number Patterns | Maths Session for Grade 08\", \"Topic\": \"Number Patterns\"}, {\"Title\": \"Invention Of BRAILLE - Language Of The Blind  | The Dr. Binocs Show | Best Learning Video for Kids\", \"Topic\": \"Algebra Expression\"}, {\"Title\": \"Intersection of Sets, Union of Sets and Venn Diagrams\", \"Topic\": \"Sets\"}, {\"Title\": \"Learning about Area | #aumsum #kids #science #education #children\", \"Topic\": \"Perimeter\"}, {\"Title\": \"What are Rational Numbers? | Number System Concept | Don't Memorise\", \"Topic\": \"Operations of Whole Number\"}, {\"Title\": \"Number Systems | Mathematics Grade 5 | Periwinkle\", \"Topic\": \"Operations of Whole Number\"}, {\"Title\": \"How to Use the Inverse Method to Solve a Linear Equation? | Don't Memorise\", \"Topic\": \"Algebra Expression\"}, {\"Title\": \"Introduction to arithmetic sequences | Sequences, series and induction | Precalculus | Khan Academy\", \"Topic\": \"Number Patterns\"}, {\"Title\": \"Simple Math Tricks You Weren\\\\u2019t Taught at School\", \"Topic\": \"Sets\"}, {\"Title\": \"Grade 8 Numeric patterns Part 1\", \"Topic\": \"Number Patterns\"}, {\"Title\": \"Algebraic Expressions - Class 8 Math\", \"Topic\": \"Algebra Expression\"}, {\"Title\": \"Digestion in Human Beings 3D CBSE Class 7 Science (www.iDaaLearning.com\", \"Topic\": \"Operations of Whole Number\"}, {\"Title\": \"Weathering | Class 7 Geography | iKen\", \"Topic\": \"Indices\"}, {\"Title\": \"Lesson 1. Number Patterns | Maths Session for Grade 08\", \"Topic\": \"Algebra Expression\"}, {\"Title\": \"Math Antics - Mean, Median and Mode\", \"Topic\": \"Sets\"}, {\"Title\": \"9 Incredible Science Facts You Probably Didn't Learn At School\", \"Topic\": \"Operations of Whole Number\"}, {\"Title\": \"All About Plant Leaf | Types of Leaves | Photosynthesis | Science For Kids | Grade 4 | Periwinkle\", \"Topic\": \"Angles\"}, {\"Title\": \"Angles - Types and definition - Mathematics for kids\", \"Topic\": \"Angles\"}, {\"Title\": \"Phonics Chapter 6 : The Vowel Sounds | Learn Phonics For Kids | Phonics Classroom Teaching Lessons\", \"Topic\": \"Indices\"}, {\"Title\": \"Unitary Method | Mathematics Grade 4 | Periwinkle\", \"Topic\": \"Operations of Whole Number\"}, {\"Title\": \"Lesson 5. Algebraic Expressions | Maths Session for Grade 08\", \"Topic\": \"Algebra Expression\"}, {\"Title\": \"Area | Mathematics Grade 5 | Periwinkle\", \"Topic\": \"Angles\"}, {\"Title\": \"Which are the Different Types of Angles? | Don't Memorise\", \"Topic\": \"Angles\"}, {\"Title\": \"Algebraic Expressions\", \"Topic\": \"Algebra Expression\"}, {\"Title\": \"Sets in Sinhala | kulaka | \\\\u0d9a\\\\u0dd4\\\\u0dbd\\\\u0d9a | O/L & Grade 10-11 maths | Questions with theory | Siyomaths \\\\ud83c\\\\uddf1\\\\ud83c\\\\uddf0\", \"Topic\": \"Sets\"}, {\"Title\": \"Math Antics - Angle Basics\", \"Topic\": \"Angles\"}, {\"Title\": \"Concept Of Multiplication | Mathematics Grade 1 | Periwinkl\", \"Topic\": \"Factors and Multiplication\"}, {\"Title\": \"INTRODUCTION TO SETS || GRADE 7 MATHEMATICS Q1\", \"Topic\": \"Sets\"}, {\"Title\": \"Introduction to ratios | Ratios, proportions, units, and rates | Pre-Algebra | Khan Academy\", \"Topic\": \"Sets\"}, {\"Title\": \"Pre School Learning For Kids | Animals, Birds, Animal Sounds, Fruits, Flowers, Vegetables\", \"Topic\": \"Factors and Multiplication\"}, {\"Title\": \"Roman Numerals | Mathematics Grade 5 | Periwinkle\", \"Topic\": \"Number Patterns\"}, {\"Title\": \"INTRODUCTION TO INTEGERS | GRADE 6\", \"Topic\": \"Directed Numbers\"}, {\"Title\": \"Math Antics - Long Division\", \"Topic\": \"Perimeter\"}, {\"Title\": \"Q 3, Ex 11.2 - Perimeter and Area - Chapter 11 - Maths Class 7th - NCERT\", \"Topic\": \"Perimeter\"}, {\"Title\": \"Learn Numbers For Kids | Counting Numbers 1 - 25 | Learn To Write Numbers | Before, After Numbers\", \"Topic\": \"Angles\"}, {\"Title\": \"Part-1 : Algebraic Expressions & Identities | Mathematics | Class 8 | CBSE Syllabus\", \"Topic\": \"Algebra Expression\"}, {\"Title\": \"What are Rational Numbers? | Number System Concept | Don't Memorise\", \"Topic\": \"Directed Numbers\"}, {\"Title\": \"Point, Line, Line Segment, Ray, Angle | Mathematics Grade 3 | Periwinkle\", \"Topic\": \"Angles\"}, {\"Title\": \"Class-7 | Multiplication of Algebraic Expression | Algebraic Expression by ajay sir\", \"Topic\": \"Algebra Expression\"}, {\"Title\": \"01 - What is Absolute Value and Negative Numbers\", \"Topic\": \"Directed Numbers\"}, {\"Title\": \"Symmetrical & Non Symmetrical Shapes\", \"Topic\": \"Symmetry\"}, {\"Title\": \"Angles - Types and definition - Mathematics for kids\", \"Topic\": \"Angles\"}, {\"Title\": \"Full Lesson : Algebraic Expressions | Mathematics | Class 8 | AP&TS Syllabus\", \"Topic\": \"Algebra Expression\"}, {\"Title\": \"Whole Numbers, Unit 1, Mathematics Class 4th\", \"Topic\": \"Operations of Whole Number\"}, {\"Title\": \"Pre School Learning For Kids | Animals, Birds, Animal Sounds, Fruits, Flowers, Vegetables\", \"Topic\": \"Perimeter\"}, {\"Title\": \"Factorisation using identities | Part 1/3 | English | Class 8\\\",\", \"Topic\": \"Algebra Expression\"}, {\"Title\": \"Triangle angle example 1 | Angles and intersecting lines | Geometry | Khan Academy\", \"Topic\": \"Angles\"}, {\"Title\": \"Addition of Fractions | Mathematics Grade 5 | Periwinkle\", \"Topic\": \"Operations of Whole Number\"}, {\"Title\": \"Learning Factors | Mathematics Grade 4 | Periwinkle\", \"Topic\": \"Indices\"}, {\"Title\": \"Factors and Multiples - 07\", \"Topic\": \"Sets\"}, {\"Title\": \"6th maths Term-3 Ch-4 Symmetry | Introduction | Samacheer 2021\", \"Topic\": \"Symmetry\"}, {\"Title\": \"Understand and Learn the Rules of Positive and Negative Numbers\", \"Topic\": \"Directed Numbers\"}, {\"Title\": \"Area | Mathematics Grade 5 | Periwinkle\", \"Topic\": \"Perimeter\"}, {\"Title\": \"Prime Factorisation | Mathematics Grade 5 | Periwinkle\", \"Topic\": \"Factors and Multiplication\"}, {\"Title\": \"Math Antics - Long Division\", \"Topic\": \"Angles\"}, {\"Title\": \"Greatest common factor exercise | Factors and multiples | Pre-Algebra | Khan Academy\", \"Topic\": \"Factors and Multiplication\"}, {\"Title\": \"Whole Numbers | Class 6 | Maths | CBSE | ICSE | FREE Tutorial\", \"Topic\": \"Operations of Whole Number\"}, {\"Title\": \"Numeric and geometric patterns\", \"Topic\": \"Number Patterns\"}, {\"Title\": \"Baby Jenny Has Fun Learning to Swim with Wolfoo - Kids Stories About Baby Jenny | Wolfoo Channel\", \"Topic\": \"Angles\"}, {\"Title\": \"Subtracting Integers | How to Subtract Positive and Negative Integers\", \"Topic\": \"Directed Numbers\"}, {\"Title\": \"Dividing Whole Numbers and Applications 4\", \"Topic\": \"Operations of Whole Number\"}, {\"Title\": \"Adding/subtracting negative numbers | Pre-Algebra | Khan Academy\", \"Topic\": \"Directed Numbers\"}, {\"Title\": \"Identifying symmetrical figures  | Math | 4th grade | Khan Academy\", \"Topic\": \"Symmetry\"}, {\"Title\": \"INTRODUCTION TO INTEGERS | GRADE 6\", \"Topic\": \"Sets\"}, {\"Title\": \"Math Antics - Angle Basics\", \"Topic\": \"Angles\"}, {\"Title\": \"Math Antics - Order Of Operations\", \"Topic\": \"Perimeter\"}, {\"Title\": \"Grade 8 - Mathematics - Algebraic Expression 1 / WorksheetCloud Online Lesson\", \"Topic\": \"Algebra Expression\"}, {\"Title\": \"What is Symmetry? || Symmetry || Grade 6\", \"Topic\": \"Symmetry\"}, {\"Title\": \"Patterns in sequences 1 | Linear equations | Algebra I | Khan Academy\", \"Topic\": \"Number Patterns\"}, {\"Title\": \"Perimeter | Class 6 | Maths | CBSE | ICSE | FREE Tutorial\", \"Topic\": \"Perimeter\"}, {\"Title\": \"Maths Symmetry part 1 (Introduction) CBSE Class 6 Mathematics VI\", \"Topic\": \"Symmetry\"}, {\"Title\": \"\\\"4 Types of Angles\", \"Topic\": \"Angles\"}, {\"Title\": \"Phonics Chapter 1 : Sounds of Alphabets | Learn Phonics  | Phonics Classroom Teaching\", \"Topic\": \"Indices\"}, {\"Title\": \"Lesson 4. Factors and Multiples (Part I) | Maths Session for Grade 07\", \"Topic\": \"Factors and Multiplication\"}, {\"Title\": \"Area | Mathematics Grade 5 | Periwinkle\", \"Topic\": \"Perimeter\"}, {\"Title\": \"Introduction to Fractions | #aumsum #kids #science #education #children\", \"Topic\": \"Sets\"}, {\"Title\": \"Lesson 7. Factors | Maths Session for Grade 08\", \"Topic\": \"Algebra Expression\"}, {\"Title\": \"Phonics chapter 4 : sounds of alphabets | learn phonics for kids | Nachiketa Pre primary school-kids\", \"Topic\": \"Indices\"}, {\"Title\": \"Understand and Learn the Rules of Positive and Negative Numbers\", \"Topic\": \"Directed Numbers\"}, {\"Title\": \"Perimeter | Maths for Kids | Grade 4 | Periwinkle\", \"Topic\": \"Symmetry\"}, {\"Title\": \"How to Use the Inverse Method to Solve a Linear Equation? | Don't Memorise\", \"Topic\": \"Algebra Expression\"}, {\"Title\": \"Decimals - Review | Mathematics Grade 5 | Periwinkle\", \"Topic\": \"Perimeter\"}, {\"Title\": \"Air, Water And Weather | Science Grade 3 | Periwinkle\", \"Topic\": \"Indices\"}, {\"Title\": \"Multiples vs. Factors | What are Multiples and Factors? | Math with Mr. J\", \"Topic\": \"Factors and Multiplication\"}, {\"Title\": \"Part-1 : Rational Numbers | Mathematics | Class 8 | CBSE Syllabu\", \"Topic\": \"Directed Numbers\"}, {\"Title\": \"Algebra Basics: Laws Of Exponents - Math Antics\", \"Topic\": \"Operations of Whole Number\"}, {\"Title\": \"Clauses | English Grammar & Composition Grade 5 | Periwinkle\", \"Topic\": \"Directed Numbers\"}, {\"Title\": \"Prime factorization exercise | Factors and multiples | Pre-Algebra | Khan Academy\", \"Topic\": \"Factors and Multiplication\"}, {\"Title\": \"ALGEBRAIC EXPRESSIONS & EQUATIONS | GRADE 6\", \"Topic\": \"Algebra Expression\"}, {\"Title\": \"Grade 7 Math Q1 Ep1: Sets\", \"Topic\": \"Sets\"}, {\"Title\": \"3 Types of Rocks | #aumsum #kids #science #education #children\", \"Topic\": \"Angles\"}, {\"Title\": \"Simple Math Tricks You Weren\\\\u2019t Taught at School\", \"Topic\": \"Perimeter\"}, {\"Title\": \"Negative exponents | Exponents, radicals, and scientific notation | Pre-Algebra | Khan Academy\", \"Topic\": \"Indices\"}, {\"Title\": \"Area and Perimeter for Kids || How To Find Perimeter || Maths Concept for kids || Telugu\", \"Topic\": \"Perimeter\"}, {\"Title\": \"Integers | Ap&TS syllabus Class 6 Maths | Full lesson\", \"Topic\": \"Indices\"}, {\"Title\": \"How to become a Math Genius.\\\\u2714\\\\ufe0f How do genius people See a math problem! by mathOgenius\", \"Topic\": \"Algebra Expression\"}, {\"Title\": \"Learn Numbers For Kids | Counting Numbers 1 - 25 | Learn To Write Numbers | Before, After Numbers\", \"Topic\": \"Directed Numbers\"}, {\"Title\": \"What is a Universal Set? | Don't Memorise\", \"Topic\": \"Sets\"}, {\"Title\": \"Adding Integers | How to Add Positive and Negative Integers\", \"Topic\": \"Directed Numbers\"}, {\"Title\": \"Tens and Ones | Maths for Kids | Kindergarten Maths School Syllabus | Maths For Pre School\", \"Topic\": \"Directed Numbers\"}, {\"Title\": \"Rounding The Numbers | Mathematics Grade 5 | Periwinkle\", \"Topic\": \"Operations of Whole Number\"}, {\"Title\": \"What is Algebra? | Don't Memorise\", \"Topic\": \"Algebra Expression\"}, {\"Title\": \"Line of symmetry (2D shapes) : used \\\\\\\"paper-cut-out shape\\\\\\\" to explain\", \"Topic\": \"Symmetry\"}, {\"Title\": \"STD-8 PERIMETER & AREA OF COMBINED SHAPES (TN\", \"Topic\": \"Perimeter\"}, {\"Title\": \"Quadrilaterals | Mathematics Grade 5 | Periwinkle\", \"Topic\": \"Angles\"}, {\"Title\": \"u2705 3 Simple and amazing Questions Only a Genius Can Answer-Intelligence Test (IQ) | part-\", \"Topic\": \"Perimeter\"}, {\"Title\": \"Lesson 1. Perimeter |  Maths Session for Grade 10 #DPEducation #Grade10Maths #perimeter\", \"Topic\": \"Perimeter\"}, {\"Title\": \"Number sets 1 | Fractions | Pre-Algebra | Khan Academy\", \"Topic\": \"Operations of Whole Number\"}, {\"Title\": \"General term of a number pattern(Grade 8 - Mathematics\", \"Topic\": \"Number Patterns\"}, {\"Title\": \"Math Antics - Order Of Operations\", \"Topic\": \"Number Patterns\"}, {\"Title\": \"Algebra Grade 8 Tutorial\", \"Topic\": \"Algebra Expression\"}, {\"Title\": \"Cylinder volume and surface area | Perimeter, area, and volume | Geometry | Khan Academy\", \"Topic\": \"Angles\"}, {\"Title\": \"Grade 7 Science Unit 5 | Acids and Bases\", \"Topic\": \"Sets\"}, {\"Title\": \"Parts of Speech | English Grammar & Composition Grade 4 | Periwinkle\", \"Topic\": \"Number Patterns\"}, {\"Title\": \"Symmetry - (CBSE Grade: 06 Maths)\", \"Topic\": \"Symmetry\"}, {\"Title\": \"Angles | Mathematics Grade 5 | Periwinkle\", \"Topic\": \"Angles\"}, {\"Title\": \"ograph and Bar Graphs | Mathematics Grade 5 | Periwinkle\", \"Topic\": \"Factors and Multiplication\"}, {\"Title\": \"Symmetry full chapter | Mathematics | Class 6 | CBSE Syllabus\", \"Topic\": \"Symmetry\"}, {\"Title\": \"Science | Grade 6 Science 5th Lesson - \\\\u0d85\\\\u0dcf\\\\u0dbd\\\\u0dd9\\\\u0dcf\\\\u0dca\\\\u0d9a\\\\u0dba \\\\u0dc4\\\\u0dcf \\\\u0db4\\\\u0dd9\\\\u0db1\\\\u0dd3\\\\u0db8 | Light and Vision | 6 \\\\u0dc0\\\\u0dc3\\\\u0dbb \\\\u0dc0\\\\u0dd2\\\\u0daf\\\\u0dca\\\\u200d\\\\u0dba\\\\u0dcf\\\\u0dc0 Sinhala\", \"Topic\": \"Symmetry\"}, {\"Title\": \"Algebra Basics: What Is Algebra? - Math Antics\", \"Topic\": \"Angles\"}, {\"Title\": \"Prime numbers | Factors and multiples | Pre-Algebra | Khan Academy\", \"Topic\": \"Factors and Multiplication\"}, {\"Title\": \"Q 3 - Ex 13.2 - Symmetry - NCERT Maths Class 6th - Chapter 11\", \"Topic\": \"Symmetry\"}, {\"Title\": \"Level 1 Exponents\", \"Topic\": \"Indices\"}, {\"Title\": \"Best English Stories Compilation For Kids | 17 Short Moral Stories Collection | Periwinkle\", \"Topic\": \"Sets\"}, {\"Title\": \"Operations on Decimal Numbers | Class 1 to 5 Mat\", \"Topic\": \"Operations of Whole Number\"}, {\"Title\": \"Adding and Subtracting Integers Using a Simple Method\", \"Topic\": \"Directed Numbers\"}, {\"Title\": \"Measuring angles in degrees | Angles and intersecting lines | Geometry | Khan Academy\", \"Topic\": \"Angles\"}, {\"Title\": \"7 Effective Tips & Tricks In 1 Video | Mathematics study tips | Super Tips to Score 100% in Math\", \"Topic\": \"Algebra Expression\"}, {\"Title\": \"Lesson 4. Directed Numbers | Maths Session for Grade 08\\\",\", \"Topic\": \"Directed Numbers\"}, {\"Title\": \"Finding LCM using prime factorisation\", \"Topic\": \"Factors and Multiplication\"}, {\"Title\": \"Number Patterns Grade 8\", \"Topic\": \"Number Patterns\"}, {\"Title\": \"Introduction to rational and irrational numbers | Algebra I | Khan Academy\", \"Topic\": \"Operations of Whole Number\"}, {\"Title\": \"Maths Help - 35.  Addition & Subtraction of Directed Numbers\", \"Topic\": \"Directed Numbers\"}, {\"Title\": \"Grade 6  - Mathematics - Rotational Symmetry - WorksheetCloud Video Lesson\", \"Topic\": \"Symmetry\"}, {\"Title\": \"Pre School Learning For Kids | Animals, Birds, Animal Sounds, Fruits, Flowers, Vegetables\", \"Topic\": \"Indices\"}, {\"Title\": \"What Is Matter? - The Dr. Binocs Show | Best Learning Videos For Kids | Peekaboo Kidz\", \"Topic\": \"Perimeter\"}, {\"Title\": \"Dividing positive and negative numbers | Pre-Algebra | Khan Academy\", \"Topic\": \"Directed Numbers\"}, {\"Title\": \"Grade 8 Geometry\", \"Topic\": \"Perimeter\"}, {\"Title\": \"Basic fractional exponents | Exponent expressions and equations | Algebra I | Khan Academy\", \"Topic\": \"Indices\"}, {\"Title\": \"What are Exponents? | Don't Memorise\", \"Topic\": \"Indices\"}, {\"Title\": \"Algebraic Expressions - Class 8 Math\", \"Topic\": \"Algebra Expression\"}, {\"Title\": \"Grade 6 Science Lesson Sinhala medium|Science Channel Bro\", \"Topic\": \"Sets\"}, {\"Title\": \"u0dad\\\\u0dad\\\\u0dca\\\\u0db4\\\\u0dbb \\\\u0daf\\\\u0dd9\\\\u0d9a\\\\u0dd9\\\\u0db1\\\\u0dca \\\\u0d9c\\\\u0dd4\\\\u0dab \\\\u0d9a\\\\u0dbb\\\\u0db1\\\\u0dca\\\\u0db1 \\\\u0dbb\\\\u0dc4\\\\u0dc3\\\\u0dca \\\\u0d9a\\\\u0dca\\\\u200d\\\\u0dbb\\\\u0db8 5\\\\u0d9a\\\\u0dca | Math tricks |\\\\u0d9c\\\\u0dab\\\\u0dd2\\\\u0dad \\\\u0dbb\\\\u0dc4\\\\u0dc3\\\\u0dca\", \"Topic\": \"Algebra Expression\"}, {\"Title\": \"Introduction to square roots | Numbers and operations | 8th grade | Khan Academy\", \"Topic\": \"Operations of Whole Number\"}, {\"Title\": \"Introduction - Algebraic Expressions and Identities - Chapter 9 - NCERT Class 8th Maths\", \"Topic\": \"Algebra Expression\"}, {\"Title\": \"u2705 3 Simple and amazing Questions Only a Genius Can Answer-Intelligence Test (IQ) | part-1\", \"Topic\": \"Perimeter\"}, {\"Title\": \"Algebra - How To Solve Equations Quickly\", \"Topic\": \"Directed Numbers\"}, {\"Title\": \"Multiples | Mathematics Grade 4 | Periwinkle\", \"Topic\": \"Factors and Multiplication\"}, {\"Title\": \"Prime and Composite Numbers | Mathematics Grade 4 | Periwinkle\", \"Topic\": \"Directed Numbers\"}, {\"Title\": \"4th Std Maths | Perimeter and Area | Square Paper | Comparing Perimeter & Area || Maths Activities\", \"Topic\": \"Perimeter\"}, {\"Title\": \"u0db6\\\\u0dd4\\\\u0daf\\\\u0dca\\\\u0db0\\\\u0dd2\\\\u0db8\\\\u0dad\\\\u0dd4\\\\u0db1\\\\u0dca\\\\u0da7 \\\\u0db4\\\\u0db8\\\\u0db1\\\\u0dba\\\\u0dd2 \\\\u0dc0\\\\u0dd2\\\\u0dc3\\\\u0daf\\\\u0db1\\\\u0dca\\\\u0db1 \\\\u0db4\\\\u0dd4\\\\u0dbd\\\\u0dd4\\\\u0dc0\\\\u0db1\\\\u0dca | Sinhala Brainy Quiz\", \"Topic\": \"Indices\"}, {\"Title\": \"Number Systems | Mathematics Grade 5 | Periwinkle\", \"Topic\": \"Sets\"}, {\"Title\": \"Perimeter and area: the basics | Perimeter, area, and volume | Geometry | Khan Academy\", \"Topic\": \"Perimeter\"}, {\"Title\": \"Introduction to Fractions | #aumsum #kids #science #education #children\", \"Topic\": \"Factors and Multiplication\"}, {\"Title\": \"English Grammar for Reading and Speaking Part 02 | Learn English Grammar For Kids | English Grammar\", \"Topic\": \"Symmetry\"}, {\"Title\": \"Let\\\\u2019s Learn About Vegetables | Learn Vegetables For Kids | Pre School Junior | Vegetables Song\", \"Topic\": \"Perimeter\"}, {\"Title\": \"ctors and Multiples - Playing with Numbers | Class 6 Maths\", \"Topic\": \"Factors and Multiplication\"}, {\"Title\": \"Lesson 3. Operations on whole numbers | Maths Session for Grade 07\", \"Topic\": \"Operations of Whole Number\"}, {\"Title\": \"Cubes Of Numbers | Mathematics Grade 5 | Periwinkle\", \"Topic\": \"Sets\"}, {\"Title\": \"Grade 7 maths lessons sinhala lesson 2\", \"Topic\": \"Sets\"}, {\"Title\": \"Algebra Basics: What Is Algebra? - Math Antics\", \"Topic\": \"Algebra Expression\"}, {\"Title\": \"Intro to Symmetry (Part 1) | What is Symmetry? | Lines of Symmetry\", \"Topic\": \"Symmetry\"}, {\"Title\": \"Lesson 11. Symmetry | Maths Session for Grade 08\", \"Topic\": \"Symmetry\"}, {\"Title\": \"Algebra Basics: The Distributive Property - Math Antics\", \"Topic\": \"Operations of Whole Number\"}, {\"Title\": \"O/L Science short lessons || science mart \", \"Topic\": \"Indices\"}, {\"Title\": \"Abacus Class 1||easy learning Abacus||learning Abacus in tamil||Free abacus class\\\"\", \"Topic\": \"Operations of Whole Number\"}, {\"Title\": \"Rational Numbers\", \"Topic\": \"Operations of Whole Number\"}, {\"Title\": \"Division Properties | Mathematics Grade 3 | Periwinkle\", \"Topic\": \"Indices\"}, {\"Title\": \"Factors and Multiples | Mathematics Grade 5 | Periwinkle\", \"Topic\": \"Factors and Multiplication\"}, {\"Title\": \"Fractions I - Grade 8 - 13th lesson - English Medium - Sri Lankan National Curriculum\", \"Topic\": \"Algebra Expression\"}, {\"Title\": \"Symmetrical And Asymmetrical Shapes | Math | Grade-3,4 | Tutway |\", \"Topic\": \"Symmetry\"}, {\"Title\": \"Word Problems Addition and Subtraction of Capacities, Litres, Millilitres | Maths For Class 2\", \"Topic\": \"Operations of Whole Number\"}, {\"Title\": \"Lesson 3. Mathematical Operations on Whole Numbers | Maths Session for Grade 06\", \"Topic\": \"Operations of Whole Number\"}, {\"Title\": \"Introduction to limits | Limits | Differential Calculus | Khan Academy\", \"Topic\": \"Number Patterns\"}, {\"Title\": \"Q 2, Ex 11.1 - Perimeter and Area - Chapter 11 - Maths Class 7th - NCERT\", \"Topic\": \"Perimeter\"}, {\"Title\": \"Measure Length | Mathematics Grade 1 | Periwinkl\", \"Topic\": \"Operations of Whole Number\"}, {\"Title\": \"Multiplying positive and negative numbers | Pre-Algebra | Khan Academy\", \"Topic\": \"Directed Numbers\"}, {\"Title\": \"Ratio | Mathematics Grade 5 | Periwinkle\", \"Topic\": \"Sets\"}, {\"Title\": \"Subtraction With Borrowing | Subtract | Maths For Class 2 | Maths Basics For CBSE Children\", \"Topic\": \"Indices\"}, {\"Title\": \"Introduction to Exponents | #aumsum #kids #science #education #children\", \"Topic\": \"Indices\"}, {\"Title\": \"Area of parallelograms intuition | Algebra I | High School Math | Khan Academy\", \"Topic\": \"Perimeter\"}, {\"Title\": \"Math Antics - Area\", \"Topic\": \"Perimeter\"}, {\"Title\": \"Sets: Union, Intersection, Complement\", \"Topic\": \"Sets\"}, {\"Title\": \"Index Notation Exponent or Power | Mathematics Grade 5 | Periwinkle\", \"Topic\": \"Indices\"}, {\"Title\": \"CARTESIAN COORDINATE SYSTEM || GRADE 8 MATHEMATICS Q1\", \"Topic\": \"Perimeter\"}, {\"Title\": \"Introduction to Sets for Roster Method & Set Builder Form | Algebra |  Math | Letstute\", \"Topic\": \"Sets\"}, {\"Title\": \"GMSA Weekends : Aug 08, 2021\", \"Topic\": \"Indices\"}, {\"Title\": \"How to classify numbers | Numbers and operations | 8th grade | Khan Academy\", \"Topic\": \"Directed Numbers\"}, {\"Title\": \"Find measure of vertical angles | Angles and intersecting lines | Geometry | Khan Academy\", \"Topic\": \"Angles\"}, {\"Title\": \"Challenging perimeter problem | Perimeter, area, and volume | Geometry | Khan Academy\", \"Topic\": \"Perimeter\"}, {\"Title\": \"Lesson 10. Indices | Maths Session for Grade 08\", \"Topic\": \"Indices\"}, {\"Title\": \"Learn The Clock | Telling the Time | Pebbles Learning Videos\", \"Topic\": \"Indices\"}, {\"Title\": \"Lesson 5. Algebraic Expressions |  Maths Session for Grade 09\", \"Topic\": \"Algebra Expression\"}, {\"Title\": \"Circle And Its Construction | Mathematics Grade 5 | Periwinkle\", \"Topic\": \"Sets\"}, {\"Title\": \"Class 6 - Mathematics - Chapter 1 - Lecture 1 Introduction to sets - Allied Schools\", \"Topic\": \"Sets\"}, {\"Title\": \"Finding the rule for the pattern\", \"Topic\": \"Number Patterns\"}, {\"Title\": \"Math Antics - Place Value\", \"Topic\": \"Operations of Whole Number\"}, {\"Title\": \"LCM by Prime Factorisation Method | Mathematics Grade 4 | Periwinkle\", \"Topic\": \"Factors and Multiplication\"}, {\"Title\": \"Class 6 Maths Chapter 13 Symmetry Part 1\", \"Topic\": \"Symmetry\"}, {\"Title\": \"FASTEST WAY TO COVER THE SYLLABUS | 5 STUDY STRATEGIES | HOW TO STUDY IN EXAM TIME | MOTIVATION\", \"Topic\": \"Sets\"}, {\"Title\": \"Perimeter | Maths for Kids | Grade 4 | Periwinkle\", \"Topic\": \"Perimeter\"}, {\"Title\": \"Problem solving Venn Diagrams- 3 sets HL\", \"Topic\": \"Sets\"}, {\"Title\": \"Algebraic Expressions | Class 7 | Maths| CBSE | ICSE | FREE Tutorial\", \"Topic\": \"Algebra Expression\"}, {\"Title\": \"Number Patterns - Grade 8 - 1st lesson - English Medium - Sri Lankan National Curriculum\", \"Topic\": \"Number Patterns\"}, {\"Title\": \"Introduction - Rotational Symmetry - NCERT Class 7th Maths Solutions\", \"Topic\": \"Symmetry\"}, {\"Title\": \"NCERT Exercise 13.2 : Question 1 - Symmetry | Class 6 Maths\", \"Topic\": \"Symmetry\"}, {\"Title\": \"Algebra Basics: What Is Algebra? - Math Antics\", \"Topic\": \"Directed Numbers\"}, {\"Title\": \"Reflection And Rotational Symmetry In Familiar 2D Shapes | Mathematics Grade 5 | Periwinkle\", \"Topic\": \"Symmetry\"}, {\"Title\": \"Factorising Algebraic Expressions ( factoring / factorizing \", \"Topic\": \"Algebra Expression\"}, {\"Title\": \"What are Multiples of a Number? How are Factors and Multiples related? | Don't Memorise\", \"Topic\": \"Factors and Multiplication\"}, {\"Title\": \"Laws of Indices - Part 1 | Algebra | Maths | FuseSchool\", \"Topic\": \"Indices\"}, {\"Title\": \"Statistics intro: Mean, median, and mode | Data and statistics | 6th grade | Khan Academy\", \"Topic\": \"Sets\"}, {\"Title\": \"Introduction to rational and irrational numbers | Algebra I | Khan Academ\", \"Topic\": \"Directed Numbers\"}, {\"Title\": \"Volume of a Cube | Mathematics Grade 5 | Periwinkle\", \"Topic\": \"Angles\"}, {\"Title\": \"Whole Number Operations | Adding, Subtracting, Multiplying, and Dividing\", \"Topic\": \"Operations of Whole Number\"}, {\"Title\": \"Cylinder volume and surface area | Perimeter, area, and volume | Geometry | Khan Academy\", \"Topic\": \"Perimeter\"}, {\"Title\": \"Measuring Angles | Mathematics Grade 4 | Periwinkle\", \"Topic\": \"Angles\"}, {\"Title\": \"Lesson 12. Algebraic Expressions | Maths Session for Grade 07\", \"Topic\": \"Algebra Expression\"}, {\"Title\": \"Patterns and sequences 8th Grade Math\", \"Topic\": \"Number Patterns\"}, {\"Title\": \"Prime and Composite Numbers | Mathematics Grade 4 | Periwinkle\", \"Topic\": \"Number Patterns\"}, {\"Title\": \"Area | Mathematics Grade 5 | Periwinkle\", \"Topic\": \"Algebra Expression\"}, {\"Title\": \"Order of operations: PEMDAS | Arithmetic properties | Pre-Algebra | Khan Academy\", \"Topic\": \"Operations of Whole Number\"}, {\"Title\": \"Factors and Multiples made easy |Prime Factorization| Find factors of all numbers| Class 1 to 5\", \"Topic\": \"Factors and Multiplication\"}, {\"Title\": \"Squares Of Numbers | Mathematics Grade 5 | Periwinkle\", \"Topic\": \"Number Patterns\"}, {\"Title\": \"Sets Basics - Introduction | Don't Memorise\", \"Topic\": \"Sets\"}, {\"Title\": \"Constructing quadrilateral based on symmetry | Transformations | Geometry | Khan Academy\", \"Topic\": \"Symmetry\"}, {\"Title\": \"Math Antics - Scientific Notation\", \"Topic\": \"Indices\"}, {\"Title\": \"Properties of HCF and LCM | Learn with BYJU'S\", \"Topic\": \"Factors and Multiplication\"}, {\"Title\": \"TN 9th STD Maths || Set Languages || Introduction  || New Syllabus -2018\", \"Topic\": \"Operations of Whole Number\"}, {\"Title\": \"Algebraic Expressions - Chapter 12 - Introduction - NCERT Class 7th Maths Solutions\", \"Topic\": \"Algebra Expression\"}, {\"Title\": \"What is a Sequence? (GMAT/GRE/CAT/Bank PO/SSC CGL) | Don't Memorise\", \"Topic\": \"Number Patterns\"}, {\"Title\": \"Ascending Order, Descending Order, Join The Dots | Maths For Class 2 | Maths Basics For CBSE\", \"Topic\": \"Number Patterns\"}, {\"Title\": \"CERT Grade 8 || CBSE Class 8 - Algebraic Expressions and Identities Introduction in Tami\", \"Topic\": \"Algebra Expression\"}, {\"Title\": \"Grade 8 Numeric Patterns Part 2\", \"Topic\": \"Number Patterns\"}, {\"Title\": \"The REAL Answer To The Viral Chinese Math Problem \\\\\\\"How Old Is The Captain?\", \"Topic\": \"Angles\"}, {\"Title\": \"Number Counting | Counting in Tens and Ones | Maths For Class 2 | Maths Basics For CBSE Children\", \"Topic\": \"Operations of Whole Number\"}, {\"Title\": \"Laws of Indices - Part 1 | Algebra | Maths | FuseSchool\", \"Topic\": \"Indices\"}, {\"Title\": \"Math Antics - Polygons\", \"Topic\": \"Angles\"}, {\"Title\": \"Symmetry | Class 7 | Maths| CBSE | ICSE | FREE Tutorial\", \"Topic\": \"Symmetry\"}, {\"Title\": \"\\\"Q 2 - Ex 2.2 - Linear Equations in One Variable - NCERT Maths Class 8th - Chapter 2\", \"Topic\": \"Perimeter\"}, {\"Title\": \"Math Antics - Volume\", \"Topic\": \"Perimeter\"}, {\"Title\": \"Math Antics - Number Patterns\", \"Topic\": \"Sets\"}, {\"Title\": \"How to Subtract Negative Numbers | Subtracting Negative Numbers\", \"Topic\": \"Directed Numbers\"}, {\"Title\": \"Understanding Patterns | Mathematics Grade 1 | Periwinkle\", \"Topic\": \"Symmetry\"}, {\"Title\": \"How to Divide a Decimal by a Decimal | Math with Mr. J\", \"Topic\": \"Operations of Whole Number\"}, {\"Title\": \"Patterns with Numbers | Maths For Class 2 | Maths Basics For CBSE Children\", \"Topic\": \"Number Patterns\"}, {\"Title\": \"Indices with Example\", \"Topic\": \"Indices\"}, {\"Title\": \"Order of Operations | PEMDAS | 5th Grade Math (Part 1\", \"Topic\": \"Operations of Whole Number\"}, {\"Title\": \"NCERT Grade 7 || CBSE Class 7 - Symmetry Introduction in Tamil\", \"Topic\": \"Symmetry\"}, {\"Title\": \"Rules Of Divisibility | Mathematics Grade 4 | Periwinkle\", \"Topic\": \"Sets\"}, {\"Title\": \"Area of an equilateral triangle | Perimeter, area, and volume | Geometry | Khan Academy\", \"Topic\": \"Perimeter\"}, {\"Title\": \"Introduction to Fractions | #aumsum #kids #science #education #children\", \"Topic\": \"Operations of Whole Number\"}, {\"Title\": \"Understand Points, Lines, Rays, Segments & Angles in Geometry  - [7]\\\",\", \"Topic\": \"Angles\"}, {\"Title\": \"Perimeter, And Area Of Triangle | Grade-4,5 | Tutway\", \"Topic\": \"Perimeter\"}, {\"Title\": \"Angle Pairs 8th Grade Math\", \"Topic\": \"Angles\"}, {\"Title\": \"Symmetry Part- 1 || 5th std Maths Syllabus || Exercises and Activities || Easy to Learn Math\", \"Topic\": \"Symmetry\"}, {\"Title\": \"Math Antics - Adding & Subtracting Integers\", \"Topic\": \"Directed Numbers\"}, {\"Title\": \"What are Multiples of a Number? How are Factors and Multiples related? | Don't Memorise\\\", \", \"Topic\": \"Factors and Multiplication\"}, {\"Title\": \"Properties of Whole Numbers - Part 1 | Don't Memorise\", \"Topic\": \"Operations of Whole Number\"}, {\"Title\": \"Patterns and sequences 8th Grade Math\", \"Topic\": \"Number Patterns\"}, {\"Title\": \"Earth Science for Kids - Solar System, Weather, Fossils, Volcanoes & More - Rock 'N Learn\", \"Topic\": \"Sets\"}, {\"Title\": \"Learning Factors | Mathematics Grade 4 | Periwinkle\", \"Topic\": \"Sets\"}, {\"Title\": \"Math Antics - Perimeter\", \"Topic\": \"Perimeter\"}, {\"Title\": \"Math Antics - Number Patterns\", \"Topic\": \"Operations of Whole Number\"}, {\"Title\": \"Measuring Angles | Mathematics Grade 4 | Periwinkle\", \"Topic\": \"Indices\"}, {\"Title\": \"u2730 Symmetry craft ideas | Maths | How to make a symmetry paper crafts | Mathematics |\", \"Topic\": \"Symmetry\"}, {\"Title\": \"Introduction to Sets for Roster Method & Set Builder Form | Algebra |  Math | Letstute\", \"Topic\": \"Sets\"}, {\"Title\": \"Symmetry | Rotational Symmetry | Class 6\", \"Topic\": \"Symmetry\"}, {\"Title\": \"Fractions - Lowest Terms | Mathematics Grade 4 | Periwinkle\", \"Topic\": \"Angles\"}, {\"Title\": \"Math Antics - Ratios And Rates\", \"Topic\": \"Angles\"}, {\"Title\": \"Lesson 1. Circles | Maths Session for Grade 06\", \"Topic\": \"Indices\"}]}}, {\"mode\": \"vega-lite\"});\n",
       "</script>"
      ],
      "text/plain": [
       "alt.LayerChart(...)"
      ]
     },
     "execution_count": 9,
     "metadata": {},
     "output_type": "execute_result"
    }
   ],
   "source": [
    "bars = alt.Chart(df).mark_bar(size=50).encode(\n",
    "    x=alt.X(\"Topic\"),\n",
    "    y=alt.Y(\"count():Q\", axis=alt.Axis(title='Number of titles')),\n",
    "    tooltip=[alt.Tooltip('count()', title='Number of titles'), 'Topic'],\n",
    "    color='Topic'\n",
    "\n",
    ")\n",
    "\n",
    "text = bars.mark_text(\n",
    "    align='center',\n",
    "    baseline='bottom',\n",
    ").encode(\n",
    "    text='count()'\n",
    ")\n",
    "\n",
    "(bars + text).interactive().properties(\n",
    "    height=300, \n",
    "    width=700,\n",
    "    title = \"Number of titles in each category\",\n",
    ")"
   ]
  },
  {
   "cell_type": "markdown",
   "metadata": {},
   "source": [
    "### % of transcripts in each topic"
   ]
  },
  {
   "cell_type": "code",
   "execution_count": 10,
   "metadata": {},
   "outputs": [
    {
     "data": {
      "text/html": [
       "\n",
       "<div id=\"altair-viz-653ffae5fcd04037a61645412e80f853\"></div>\n",
       "<script type=\"text/javascript\">\n",
       "  (function(spec, embedOpt){\n",
       "    let outputDiv = document.currentScript.previousElementSibling;\n",
       "    if (outputDiv.id !== \"altair-viz-653ffae5fcd04037a61645412e80f853\") {\n",
       "      outputDiv = document.getElementById(\"altair-viz-653ffae5fcd04037a61645412e80f853\");\n",
       "    }\n",
       "    const paths = {\n",
       "      \"vega\": \"https://cdn.jsdelivr.net/npm//vega@5?noext\",\n",
       "      \"vega-lib\": \"https://cdn.jsdelivr.net/npm//vega-lib?noext\",\n",
       "      \"vega-lite\": \"https://cdn.jsdelivr.net/npm//vega-lite@4.8.1?noext\",\n",
       "      \"vega-embed\": \"https://cdn.jsdelivr.net/npm//vega-embed@6?noext\",\n",
       "    };\n",
       "\n",
       "    function loadScript(lib) {\n",
       "      return new Promise(function(resolve, reject) {\n",
       "        var s = document.createElement('script');\n",
       "        s.src = paths[lib];\n",
       "        s.async = true;\n",
       "        s.onload = () => resolve(paths[lib]);\n",
       "        s.onerror = () => reject(`Error loading script: ${paths[lib]}`);\n",
       "        document.getElementsByTagName(\"head\")[0].appendChild(s);\n",
       "      });\n",
       "    }\n",
       "\n",
       "    function showError(err) {\n",
       "      outputDiv.innerHTML = `<div class=\"error\" style=\"color:red;\">${err}</div>`;\n",
       "      throw err;\n",
       "    }\n",
       "\n",
       "    function displayChart(vegaEmbed) {\n",
       "      vegaEmbed(outputDiv, spec, embedOpt)\n",
       "        .catch(err => showError(`Javascript Error: ${err.message}<br>This usually means there's a typo in your chart specification. See the javascript console for the full traceback.`));\n",
       "    }\n",
       "\n",
       "    if(typeof define === \"function\" && define.amd) {\n",
       "      requirejs.config({paths});\n",
       "      require([\"vega-embed\"], displayChart, err => showError(`Error loading script: ${err.message}`));\n",
       "    } else if (typeof vegaEmbed === \"function\") {\n",
       "      displayChart(vegaEmbed);\n",
       "    } else {\n",
       "      loadScript(\"vega\")\n",
       "        .then(() => loadScript(\"vega-lite\"))\n",
       "        .then(() => loadScript(\"vega-embed\"))\n",
       "        .catch(showError)\n",
       "        .then(() => displayChart(vegaEmbed));\n",
       "    }\n",
       "  })({\"config\": {\"view\": {\"continuousWidth\": 400, \"continuousHeight\": 300}}, \"layer\": [{\"mark\": {\"type\": \"bar\", \"size\": 50}, \"encoding\": {\"color\": {\"type\": \"nominal\", \"field\": \"Topic\"}, \"x\": {\"type\": \"nominal\", \"field\": \"Topic\"}, \"y\": {\"type\": \"quantitative\", \"axis\": {\"format\": \".0%\", \"title\": \"% of Titles\"}, \"field\": \"PercentOfTotal\"}}, \"selection\": {\"selector002\": {\"type\": \"interval\", \"bind\": \"scales\", \"encodings\": [\"x\", \"y\"]}}, \"transform\": [{\"window\": [{\"op\": \"sum\", \"field\": \"id\", \"as\": \"TotalArticles\"}], \"frame\": [null, null]}, {\"calculate\": \"datum.id / datum.TotalArticles\", \"as\": \"PercentOfTotal\"}]}, {\"mark\": {\"type\": \"text\", \"align\": \"center\", \"baseline\": \"bottom\"}, \"encoding\": {\"color\": {\"type\": \"nominal\", \"field\": \"Topic\"}, \"text\": {\"type\": \"quantitative\", \"field\": \"PercentOfTotal\", \"format\": \".1%\"}, \"x\": {\"type\": \"nominal\", \"field\": \"Topic\"}, \"y\": {\"type\": \"quantitative\", \"axis\": {\"format\": \".0%\", \"title\": \"% of Titles\"}, \"field\": \"PercentOfTotal\"}}, \"transform\": [{\"window\": [{\"op\": \"sum\", \"field\": \"id\", \"as\": \"TotalArticles\"}], \"frame\": [null, null]}, {\"calculate\": \"datum.id / datum.TotalArticles\", \"as\": \"PercentOfTotal\"}]}], \"data\": {\"name\": \"data-78439611e99b3340cd69d9fc24a59cd8\"}, \"height\": 300, \"title\": \"% of titles in each topic\", \"width\": 700, \"$schema\": \"https://vega.github.io/schema/vega-lite/v4.8.1.json\", \"datasets\": {\"data-78439611e99b3340cd69d9fc24a59cd8\": [{\"Topic\": \"Algebra Expression\", \"id\": 119}, {\"Topic\": \"Angles\", \"id\": 119}, {\"Topic\": \"Directed Numbers\", \"id\": 116}, {\"Topic\": \"Factors and Multiplication\", \"id\": 118}, {\"Topic\": \"Indices\", \"id\": 120}, {\"Topic\": \"Number Patterns\", \"id\": 116}, {\"Topic\": \"Operations of Whole Number\", \"id\": 115}, {\"Topic\": \"Perimeter\", \"id\": 120}, {\"Topic\": \"Sets\", \"id\": 111}, {\"Topic\": \"Symmetry\", \"id\": 118}]}}, {\"mode\": \"vega-lite\"});\n",
       "</script>"
      ],
      "text/plain": [
       "alt.LayerChart(...)"
      ]
     },
     "execution_count": 10,
     "metadata": {},
     "output_type": "execute_result"
    }
   ],
   "source": [
    "df['id'] = 1\n",
    "df2 = pd.DataFrame(df.groupby('Topic').count()['id']).reset_index()\n",
    "\n",
    "bars = alt.Chart(df2).mark_bar(size=50).encode(\n",
    "    x=alt.X('Topic'),\n",
    "    y=alt.Y('PercentOfTotal:Q', axis=alt.Axis(format='.0%', title='% of Titles')),\n",
    "    color='Topic'\n",
    ").transform_window(\n",
    "    TotalArticles='sum(id)',\n",
    "    frame=[None, None]\n",
    ").transform_calculate(\n",
    "    PercentOfTotal=\"datum.id / datum.TotalArticles\"\n",
    ")\n",
    "\n",
    "text = bars.mark_text(\n",
    "    align='center',\n",
    "    baseline='bottom',\n",
    "    #dx=5  # Nudges text to right so it doesn't appear on top of the bar\n",
    ").encode(\n",
    "    text=alt.Text('PercentOfTotal:Q', format='.1%')\n",
    ")\n",
    "\n",
    "(bars + text).interactive().properties(\n",
    "    height=300, \n",
    "    width=700,\n",
    "    title = \"% of titles in each topic\",\n",
    ")"
   ]
  },
  {
   "cell_type": "markdown",
   "metadata": {},
   "source": [
    "<b>The classes are approximately balanced.So, no need to oversampling or undersampling to balance the classes<b/>"
   ]
  },
  {
   "cell_type": "markdown",
   "metadata": {},
   "source": [
    "### News length by topic"
   ]
  },
  {
   "cell_type": "code",
   "execution_count": 11,
   "metadata": {},
   "outputs": [
    {
     "data": {
      "text/html": [
       "<div>\n",
       "<style scoped>\n",
       "    .dataframe tbody tr th:only-of-type {\n",
       "        vertical-align: middle;\n",
       "    }\n",
       "\n",
       "    .dataframe tbody tr th {\n",
       "        vertical-align: top;\n",
       "    }\n",
       "\n",
       "    .dataframe thead th {\n",
       "        text-align: right;\n",
       "    }\n",
       "</style>\n",
       "<table border=\"1\" class=\"dataframe\">\n",
       "  <thead>\n",
       "    <tr style=\"text-align: right;\">\n",
       "      <th></th>\n",
       "      <th>Title</th>\n",
       "      <th>Topic</th>\n",
       "      <th>Title Length</th>\n",
       "    </tr>\n",
       "  </thead>\n",
       "  <tbody>\n",
       "    <tr>\n",
       "      <th>0</th>\n",
       "      <td>Types of sets</td>\n",
       "      <td>Sets</td>\n",
       "      <td>13</td>\n",
       "    </tr>\n",
       "    <tr>\n",
       "      <th>1</th>\n",
       "      <td>CBSE Class 2 Maths | CBSE Maths Chapter 5 - Pa...</td>\n",
       "      <td>Symmetry</td>\n",
       "      <td>96</td>\n",
       "    </tr>\n",
       "    <tr>\n",
       "      <th>2</th>\n",
       "      <td>Why Do We Fart? - The Dr. Binocs Show | Best L...</td>\n",
       "      <td>Operations of Whole Number</td>\n",
       "      <td>85</td>\n",
       "    </tr>\n",
       "    <tr>\n",
       "      <th>3</th>\n",
       "      <td>Lesson 12. Triangles and Quadrilaterals | Math...</td>\n",
       "      <td>Number Patterns</td>\n",
       "      <td>68</td>\n",
       "    </tr>\n",
       "    <tr>\n",
       "      <th>4</th>\n",
       "      <td>Triangular Numbers 1, 3, 6, 10, 15 Non-Linear ...</td>\n",
       "      <td>Number Patterns</td>\n",
       "      <td>59</td>\n",
       "    </tr>\n",
       "  </tbody>\n",
       "</table>\n",
       "</div>"
      ],
      "text/plain": [
       "                                               Title  \\\n",
       "0                                      Types of sets   \n",
       "1  CBSE Class 2 Maths | CBSE Maths Chapter 5 - Pa...   \n",
       "2  Why Do We Fart? - The Dr. Binocs Show | Best L...   \n",
       "3  Lesson 12. Triangles and Quadrilaterals | Math...   \n",
       "4  Triangular Numbers 1, 3, 6, 10, 15 Non-Linear ...   \n",
       "\n",
       "                        Topic  Title Length  \n",
       "0                        Sets            13  \n",
       "1                    Symmetry            96  \n",
       "2  Operations of Whole Number            85  \n",
       "3             Number Patterns            68  \n",
       "4             Number Patterns            59  "
      ]
     },
     "execution_count": 11,
     "metadata": {},
     "output_type": "execute_result"
    }
   ],
   "source": [
    "df.drop('id',axis=1,inplace=True)\n",
    "df['Title Length'] = df['Title'].str.len()\n",
    "df.head()"
   ]
  },
  {
   "cell_type": "code",
   "execution_count": 12,
   "metadata": {},
   "outputs": [
    {
     "data": {
      "image/png": "[encoded data removed]",
      "text/plain": [
       "<Figure size 921.6x432 with 1 Axes>"
      ]
     },
     "metadata": {},
     "output_type": "display_data"
    }
   ],
   "source": [
    "plt.figure(figsize=(12.8,6))\n",
    "sns.distplot(df['Title Length']).set_title('Title length distribution');"
   ]
  },
  {
   "cell_type": "markdown",
   "metadata": {},
   "source": [
    "<b> Take 95% percentiles to remove skewness. Then, it will be easy for training the model</b> "
   ]
  },
  {
   "cell_type": "code",
   "execution_count": 13,
   "metadata": {},
   "outputs": [
    {
     "data": {
      "text/html": [
       "<div>\n",
       "<style scoped>\n",
       "    .dataframe tbody tr th:only-of-type {\n",
       "        vertical-align: middle;\n",
       "    }\n",
       "\n",
       "    .dataframe tbody tr th {\n",
       "        vertical-align: top;\n",
       "    }\n",
       "\n",
       "    .dataframe thead th {\n",
       "        text-align: right;\n",
       "    }\n",
       "</style>\n",
       "<table border=\"1\" class=\"dataframe\">\n",
       "  <thead>\n",
       "    <tr style=\"text-align: right;\">\n",
       "      <th></th>\n",
       "      <th>Title</th>\n",
       "      <th>Topic</th>\n",
       "      <th>Title Length</th>\n",
       "    </tr>\n",
       "  </thead>\n",
       "  <tbody>\n",
       "    <tr>\n",
       "      <th>0</th>\n",
       "      <td>Types of sets</td>\n",
       "      <td>Sets</td>\n",
       "      <td>13</td>\n",
       "    </tr>\n",
       "    <tr>\n",
       "      <th>1</th>\n",
       "      <td>CBSE Class 2 Maths | CBSE Maths Chapter 5 - Pa...</td>\n",
       "      <td>Symmetry</td>\n",
       "      <td>96</td>\n",
       "    </tr>\n",
       "    <tr>\n",
       "      <th>2</th>\n",
       "      <td>Why Do We Fart? - The Dr. Binocs Show | Best L...</td>\n",
       "      <td>Operations of Whole Number</td>\n",
       "      <td>85</td>\n",
       "    </tr>\n",
       "    <tr>\n",
       "      <th>3</th>\n",
       "      <td>Lesson 12. Triangles and Quadrilaterals | Math...</td>\n",
       "      <td>Number Patterns</td>\n",
       "      <td>68</td>\n",
       "    </tr>\n",
       "    <tr>\n",
       "      <th>4</th>\n",
       "      <td>Triangular Numbers 1, 3, 6, 10, 15 Non-Linear ...</td>\n",
       "      <td>Number Patterns</td>\n",
       "      <td>59</td>\n",
       "    </tr>\n",
       "  </tbody>\n",
       "</table>\n",
       "</div>"
      ],
      "text/plain": [
       "                                               Title  \\\n",
       "0                                      Types of sets   \n",
       "1  CBSE Class 2 Maths | CBSE Maths Chapter 5 - Pa...   \n",
       "2  Why Do We Fart? - The Dr. Binocs Show | Best L...   \n",
       "3  Lesson 12. Triangles and Quadrilaterals | Math...   \n",
       "4  Triangular Numbers 1, 3, 6, 10, 15 Non-Linear ...   \n",
       "\n",
       "                        Topic  Title Length  \n",
       "0                        Sets            13  \n",
       "1                    Symmetry            96  \n",
       "2  Operations of Whole Number            85  \n",
       "3             Number Patterns            68  \n",
       "4             Number Patterns            59  "
      ]
     },
     "execution_count": 13,
     "metadata": {},
     "output_type": "execute_result"
    }
   ],
   "source": [
    "quantile_95 = df['Title Length'].quantile(0.95)\n",
    "df_1 = df[df['Title Length'] < quantile_95]\n",
    "df_1.head()"
   ]
  },
  {
   "cell_type": "code",
   "execution_count": 14,
   "metadata": {},
   "outputs": [
    {
     "data": {
      "image/png": "[encoded data removed]",
      "text/plain": [
       "<Figure size 921.6x432 with 1 Axes>"
      ]
     },
     "metadata": {},
     "output_type": "display_data"
    }
   ],
   "source": [
    "plt.figure(figsize=(12.8,6))\n",
    "sns.distplot(df_1['Title Length']).set_title('Title length distribution');"
   ]
  },
  {
   "cell_type": "markdown",
   "metadata": {},
   "source": [
    "# Feature Engineering"
   ]
  },
  {
   "cell_type": "markdown",
   "metadata": {},
   "source": [
    "The next step is to create features from the raw text so we can train the machine learning models. The steps followed are:\n",
    "\n",
    "1. **Text Cleaning and Preparation**: cleaning of special characters, downcasing, punctuation signs. possessive pronouns and stop words removal and lemmatization. \n",
    "2. **Label coding**: creation of a dictionary to map each category to a code.\n",
    "3. **Train-test split**: to test the models on unseen data.\n",
    "4. **Text representation**: use of TF-IDF scores to represent text."
   ]
  },
  {
   "cell_type": "markdown",
   "metadata": {},
   "source": [
    "## 1. Text cleaning and preparation"
   ]
  },
  {
   "cell_type": "markdown",
   "metadata": {},
   "source": [
    "### 1.1. Replace \\n and \\t"
   ]
  },
  {
   "cell_type": "code",
   "execution_count": 15,
   "metadata": {},
   "outputs": [],
   "source": [
    "df_1['Title Parsed'] = df_1['Title'].str.replace(\"\\r\", \" \")\n",
    "df_1['Title Parsed'] = df_1['Title Parsed'].str.replace(\"\\n\", \" \")"
   ]
  },
  {
   "cell_type": "markdown",
   "metadata": {},
   "source": [
    "### 1.2. Convert to lowercase"
   ]
  },
  {
   "cell_type": "code",
   "execution_count": 16,
   "metadata": {},
   "outputs": [],
   "source": [
    "df_1['Title Parsed'] = df_1['Title Parsed'].str.lower()"
   ]
  },
  {
   "cell_type": "markdown",
   "metadata": {},
   "source": [
    "### 1.3. Remove punctuation signs"
   ]
  },
  {
   "cell_type": "code",
   "execution_count": 17,
   "metadata": {},
   "outputs": [],
   "source": [
    "punctuation_signs = list(\"?:!.,;-$&^*%(){}[]/><@#~`|+_=“”…’−‘\")\n",
    "for punct_sign in punctuation_signs:\n",
    "    df_1['Title Parsed'] = df_1['Title Parsed'].str.replace(punct_sign, '')"
   ]
  },
  {
   "cell_type": "markdown",
   "metadata": {},
   "source": [
    "### 1.4. Remove possessive pronouns"
   ]
  },
  {
   "cell_type": "code",
   "execution_count": 18,
   "metadata": {},
   "outputs": [],
   "source": [
    "df_1['Title Parsed'] = df_1['Title Parsed'].str.replace(\"'s\", \"\")"
   ]
  },
  {
   "cell_type": "markdown",
   "metadata": {},
   "source": [
    "### 1.5. Remove numbers"
   ]
  },
  {
   "cell_type": "code",
   "execution_count": 19,
   "metadata": {},
   "outputs": [],
   "source": [
    "digits = list(\"1234567890\")\n",
    "for digit in digits:\n",
    "    df_1['Title Parsed'] = df_1['Title Parsed'].str.replace(digit, '')"
   ]
  },
  {
   "cell_type": "markdown",
   "metadata": {},
   "source": [
    "### 1.6. Remove single quote and double quote"
   ]
  },
  {
   "cell_type": "code",
   "execution_count": 20,
   "metadata": {},
   "outputs": [],
   "source": [
    "df_1['Title Parsed'] = df_1['Title Parsed'].str.replace(\"'\", \"\")\n",
    "df_1['Title Parsed'] = df_1['Title Parsed'].str.replace('\"', '')"
   ]
  },
  {
   "cell_type": "markdown",
   "metadata": {},
   "source": [
    "### 1.7 Lemmatization"
   ]
  },
  {
   "cell_type": "code",
   "execution_count": 21,
   "metadata": {},
   "outputs": [
    {
     "name": "stdout",
     "output_type": "stream",
     "text": [
      "------------------------------------------------------------\n"
     ]
    },
    {
     "name": "stderr",
     "output_type": "stream",
     "text": [
      "[nltk_data] Downloading package punkt to\n",
      "[nltk_data]     /Users/ameshmjayaweera/nltk_data...\n",
      "[nltk_data]   Package punkt is already up-to-date!\n",
      "[nltk_data] Downloading package wordnet to\n",
      "[nltk_data]     /Users/ameshmjayaweera/nltk_data...\n",
      "[nltk_data]   Package wordnet is already up-to-date!\n"
     ]
    },
    {
     "data": {
      "text/plain": [
       "True"
      ]
     },
     "execution_count": 21,
     "metadata": {},
     "output_type": "execute_result"
    }
   ],
   "source": [
    "# Downloading punkt and wordnet from NLTK\n",
    "nltk.download('punkt')\n",
    "print(\"------------------------------------------------------------\")\n",
    "nltk.download('wordnet')"
   ]
  },
  {
   "cell_type": "code",
   "execution_count": 22,
   "metadata": {},
   "outputs": [],
   "source": [
    "# Saving the lemmatizer into an object\n",
    "wordnet_lemmatizer = WordNetLemmatizer()"
   ]
  },
  {
   "cell_type": "code",
   "execution_count": 23,
   "metadata": {},
   "outputs": [],
   "source": [
    "nrows = len(df_1)\n",
    "lemmatized_text_list = []\n",
    "\n",
    "for row in range(0, nrows):\n",
    "    \n",
    "    # Create an empty list containing lemmatized words\n",
    "    lemmatized_list = []\n",
    "    \n",
    "    # Save the text and its words into an object\n",
    "    text = df_1.iloc[row]['Title Parsed']\n",
    "    text_words = text.split(\" \")\n",
    "\n",
    "    # Iterate through every word to lemmatize\n",
    "    for word in text_words:\n",
    "        lemmatized_list.append(wordnet_lemmatizer.lemmatize(word, pos=\"v\"))\n",
    "        \n",
    "    # Join the list\n",
    "    lemmatized_text = \" \".join(lemmatized_list)\n",
    "    \n",
    "    # Append to the list containing the texts\n",
    "    lemmatized_text_list.append(lemmatized_text)"
   ]
  },
  {
   "cell_type": "code",
   "execution_count": 24,
   "metadata": {},
   "outputs": [],
   "source": [
    "df_1['Title Parsed'] = lemmatized_text_list"
   ]
  },
  {
   "cell_type": "markdown",
   "metadata": {},
   "source": [
    "### 1.8. Remove Stop words"
   ]
  },
  {
   "cell_type": "code",
   "execution_count": 25,
   "metadata": {},
   "outputs": [
    {
     "name": "stderr",
     "output_type": "stream",
     "text": [
      "[nltk_data] Downloading package stopwords to\n",
      "[nltk_data]     /Users/ameshmjayaweera/nltk_data...\n",
      "[nltk_data]   Package stopwords is already up-to-date!\n"
     ]
    },
    {
     "data": {
      "text/plain": [
       "True"
      ]
     },
     "execution_count": 25,
     "metadata": {},
     "output_type": "execute_result"
    }
   ],
   "source": [
    "# Downloading the stop words list\n",
    "nltk.download('stopwords')"
   ]
  },
  {
   "cell_type": "code",
   "execution_count": 26,
   "metadata": {},
   "outputs": [],
   "source": [
    "# Loading the stop words in english\n",
    "stop_words = list(stopwords.words('english'))"
   ]
  },
  {
   "cell_type": "code",
   "execution_count": 27,
   "metadata": {},
   "outputs": [],
   "source": [
    "# remove stop words\n",
    "for stop_word in stop_words:\n",
    "    regex_stopword = r\"\\b\" + stop_word + r\"\\b\"\n",
    "    df_1['Title Parsed'] = df_1['Title Parsed'].str.replace(regex_stopword, '')"
   ]
  },
  {
   "cell_type": "markdown",
   "metadata": {},
   "source": [
    "### 1.9 Remove extra spaces"
   ]
  },
  {
   "cell_type": "code",
   "execution_count": 28,
   "metadata": {},
   "outputs": [],
   "source": [
    "df_1['Title Parsed'] = df_1['Title Parsed'].str.split()"
   ]
  },
  {
   "cell_type": "code",
   "execution_count": 29,
   "metadata": {},
   "outputs": [],
   "source": [
    "df_1['Title Parsed'] = df_1['Title Parsed'].str.join(\" \")"
   ]
  },
  {
   "cell_type": "code",
   "execution_count": 30,
   "metadata": {},
   "outputs": [
    {
     "data": {
      "text/plain": [
       "Title           False\n",
       "Topic           False\n",
       "Title Length    False\n",
       "Title Parsed    False\n",
       "dtype: bool"
      ]
     },
     "execution_count": 30,
     "metadata": {},
     "output_type": "execute_result"
    }
   ],
   "source": [
    "# check for missing values in any column\n",
    "df_1.isnull().any()"
   ]
  },
  {
   "cell_type": "markdown",
   "metadata": {},
   "source": [
    "### 1.10 Common Words"
   ]
  },
  {
   "cell_type": "code",
   "execution_count": 31,
   "metadata": {},
   "outputs": [
    {
     "name": "stdout",
     "output_type": "stream",
     "text": [
      "['Sets', 'Symmetry', 'Operations of Whole Number', 'Number Patterns', 'Factors and Multiplication', 'Algebra Expression', 'Directed Numbers', 'Indices', 'Angles', 'Perimeter']\n"
     ]
    }
   ],
   "source": [
    "topics = list(df_1['Topic'].unique())\n",
    "print(f'{topics}')"
   ]
  },
  {
   "cell_type": "code",
   "execution_count": 32,
   "metadata": {},
   "outputs": [],
   "source": [
    "topics_as_dict = dict()\n",
    "for topic in topics:\n",
    "    sentences_as_set = set()\n",
    "    sentences = df_1[df_1['Topic'] == topic]['Title Parsed'].to_list()\n",
    "    for sent in sentences:\n",
    "        sentences_as_set.update(set(sent.split()))\n",
    "    topics_as_dict[topic] = sentences_as_set"
   ]
  },
  {
   "cell_type": "code",
   "execution_count": 33,
   "metadata": {},
   "outputs": [
    {
     "name": "stdout",
     "output_type": "stream",
     "text": [
      "Size of common words = 18\n"
     ]
    }
   ],
   "source": [
    "# find common words between all topics\n",
    "common_words = topics_as_dict['Directed Numbers']\n",
    "for topic,words_set in topics_as_dict.items():\n",
    "    if topic == 'Directed Numbers':\n",
    "        continue\n",
    "    common_words = common_words.intersection(words_set)\n",
    "    \n",
    "print(f'Size of common words = {len(common_words)}')"
   ]
  },
  {
   "cell_type": "code",
   "execution_count": 34,
   "metadata": {},
   "outputs": [
    {
     "data": {
      "text/plain": [
       "{'academy',\n",
       " 'antic',\n",
       " 'cbse',\n",
       " 'chapter',\n",
       " 'class',\n",
       " 'grade',\n",
       " 'introduction',\n",
       " 'khan',\n",
       " 'learn',\n",
       " 'lesson',\n",
       " 'math',\n",
       " 'mathematics',\n",
       " 'maths',\n",
       " 'number',\n",
       " 'part',\n",
       " 'periwinkle',\n",
       " 'school',\n",
       " 'th'}"
      ]
     },
     "execution_count": 34,
     "metadata": {},
     "output_type": "execute_result"
    }
   ],
   "source": [
    "common_words"
   ]
  },
  {
   "cell_type": "code",
   "execution_count": 35,
   "metadata": {},
   "outputs": [],
   "source": [
    "common_words_file = open('common words - title.txt','w+')\n",
    "for common_word in common_words:\n",
    "    common_words_file.write(f'{common_word}\\n')\n",
    "common_words_file.close()"
   ]
  },
  {
   "cell_type": "code",
   "execution_count": 36,
   "metadata": {},
   "outputs": [
    {
     "name": "stdout",
     "output_type": "stream",
     "text": [
      "1105\n"
     ]
    }
   ],
   "source": [
    "size = len(df_1)\n",
    "print(size)"
   ]
  },
  {
   "cell_type": "code",
   "execution_count": 37,
   "metadata": {},
   "outputs": [
    {
     "data": {
      "text/plain": [
       "(1105, 5)"
      ]
     },
     "execution_count": 37,
     "metadata": {},
     "output_type": "execute_result"
    }
   ],
   "source": [
    "df_1.reset_index(inplace=True)\n",
    "df_1.shape"
   ]
  },
  {
   "cell_type": "code",
   "execution_count": 38,
   "metadata": {},
   "outputs": [],
   "source": [
    "df_1.drop('index',axis=1,inplace=True)"
   ]
  },
  {
   "cell_type": "code",
   "execution_count": 39,
   "metadata": {},
   "outputs": [
    {
     "data": {
      "text/html": [
       "<div>\n",
       "<style scoped>\n",
       "    .dataframe tbody tr th:only-of-type {\n",
       "        vertical-align: middle;\n",
       "    }\n",
       "\n",
       "    .dataframe tbody tr th {\n",
       "        vertical-align: top;\n",
       "    }\n",
       "\n",
       "    .dataframe thead th {\n",
       "        text-align: right;\n",
       "    }\n",
       "</style>\n",
       "<table border=\"1\" class=\"dataframe\">\n",
       "  <thead>\n",
       "    <tr style=\"text-align: right;\">\n",
       "      <th></th>\n",
       "      <th>Title</th>\n",
       "      <th>Topic</th>\n",
       "      <th>Title Length</th>\n",
       "      <th>Title Parsed</th>\n",
       "    </tr>\n",
       "  </thead>\n",
       "  <tbody>\n",
       "    <tr>\n",
       "      <th>0</th>\n",
       "      <td>Types of sets</td>\n",
       "      <td>Sets</td>\n",
       "      <td>13</td>\n",
       "      <td>type set</td>\n",
       "    </tr>\n",
       "    <tr>\n",
       "      <th>1</th>\n",
       "      <td>CBSE Class 2 Maths | CBSE Maths Chapter 5 - Pa...</td>\n",
       "      <td>Symmetry</td>\n",
       "      <td>96</td>\n",
       "      <td>cbse class maths cbse maths chapter pattern nc...</td>\n",
       "    </tr>\n",
       "    <tr>\n",
       "      <th>2</th>\n",
       "      <td>Why Do We Fart? - The Dr. Binocs Show | Best L...</td>\n",
       "      <td>Operations of Whole Number</td>\n",
       "      <td>85</td>\n",
       "      <td>fart dr binocs show best learn videos kid peek...</td>\n",
       "    </tr>\n",
       "    <tr>\n",
       "      <th>3</th>\n",
       "      <td>Lesson 12. Triangles and Quadrilaterals | Math...</td>\n",
       "      <td>Number Patterns</td>\n",
       "      <td>68</td>\n",
       "      <td>lesson triangles quadrilaterals maths session ...</td>\n",
       "    </tr>\n",
       "    <tr>\n",
       "      <th>4</th>\n",
       "      <td>Triangular Numbers 1, 3, 6, 10, 15 Non-Linear ...</td>\n",
       "      <td>Number Patterns</td>\n",
       "      <td>59</td>\n",
       "      <td>triangular number nonlinear pattern rule</td>\n",
       "    </tr>\n",
       "  </tbody>\n",
       "</table>\n",
       "</div>"
      ],
      "text/plain": [
       "                                               Title  \\\n",
       "0                                      Types of sets   \n",
       "1  CBSE Class 2 Maths | CBSE Maths Chapter 5 - Pa...   \n",
       "2  Why Do We Fart? - The Dr. Binocs Show | Best L...   \n",
       "3  Lesson 12. Triangles and Quadrilaterals | Math...   \n",
       "4  Triangular Numbers 1, 3, 6, 10, 15 Non-Linear ...   \n",
       "\n",
       "                        Topic  Title Length  \\\n",
       "0                        Sets            13   \n",
       "1                    Symmetry            96   \n",
       "2  Operations of Whole Number            85   \n",
       "3             Number Patterns            68   \n",
       "4             Number Patterns            59   \n",
       "\n",
       "                                        Title Parsed  \n",
       "0                                           type set  \n",
       "1  cbse class maths cbse maths chapter pattern nc...  \n",
       "2  fart dr binocs show best learn videos kid peek...  \n",
       "3  lesson triangles quadrilaterals maths session ...  \n",
       "4           triangular number nonlinear pattern rule  "
      ]
     },
     "execution_count": 39,
     "metadata": {},
     "output_type": "execute_result"
    }
   ],
   "source": [
    "df_1.head()"
   ]
  },
  {
   "cell_type": "code",
   "execution_count": 40,
   "metadata": {},
   "outputs": [
    {
     "data": {
      "text/html": [
       "<div>\n",
       "<style scoped>\n",
       "    .dataframe tbody tr th:only-of-type {\n",
       "        vertical-align: middle;\n",
       "    }\n",
       "\n",
       "    .dataframe tbody tr th {\n",
       "        vertical-align: top;\n",
       "    }\n",
       "\n",
       "    .dataframe thead th {\n",
       "        text-align: right;\n",
       "    }\n",
       "</style>\n",
       "<table border=\"1\" class=\"dataframe\">\n",
       "  <thead>\n",
       "    <tr style=\"text-align: right;\">\n",
       "      <th></th>\n",
       "      <th>Title</th>\n",
       "      <th>Topic</th>\n",
       "      <th>Title Length</th>\n",
       "      <th>Title Parsed</th>\n",
       "    </tr>\n",
       "  </thead>\n",
       "  <tbody>\n",
       "    <tr>\n",
       "      <th>1100</th>\n",
       "      <td>Introduction to Sets for Roster Method &amp; Set B...</td>\n",
       "      <td>Sets</td>\n",
       "      <td>86</td>\n",
       "      <td>introduction set roster method set builder for...</td>\n",
       "    </tr>\n",
       "    <tr>\n",
       "      <th>1101</th>\n",
       "      <td>Symmetry | Rotational Symmetry | Class 6</td>\n",
       "      <td>Symmetry</td>\n",
       "      <td>40</td>\n",
       "      <td>symmetry rotational symmetry class</td>\n",
       "    </tr>\n",
       "    <tr>\n",
       "      <th>1102</th>\n",
       "      <td>Fractions - Lowest Terms | Mathematics Grade 4...</td>\n",
       "      <td>Angles</td>\n",
       "      <td>59</td>\n",
       "      <td>fraction lowest term mathematics grade periwinkle</td>\n",
       "    </tr>\n",
       "    <tr>\n",
       "      <th>1103</th>\n",
       "      <td>Math Antics - Ratios And Rates</td>\n",
       "      <td>Angles</td>\n",
       "      <td>30</td>\n",
       "      <td>math antic ratios rat</td>\n",
       "    </tr>\n",
       "    <tr>\n",
       "      <th>1104</th>\n",
       "      <td>Lesson 1. Circles | Maths Session for Grade 06</td>\n",
       "      <td>Indices</td>\n",
       "      <td>46</td>\n",
       "      <td>lesson circle maths session grade</td>\n",
       "    </tr>\n",
       "  </tbody>\n",
       "</table>\n",
       "</div>"
      ],
      "text/plain": [
       "                                                  Title     Topic  \\\n",
       "1100  Introduction to Sets for Roster Method & Set B...      Sets   \n",
       "1101           Symmetry | Rotational Symmetry | Class 6  Symmetry   \n",
       "1102  Fractions - Lowest Terms | Mathematics Grade 4...    Angles   \n",
       "1103                     Math Antics - Ratios And Rates    Angles   \n",
       "1104     Lesson 1. Circles | Maths Session for Grade 06   Indices   \n",
       "\n",
       "      Title Length                                       Title Parsed  \n",
       "1100            86  introduction set roster method set builder for...  \n",
       "1101            40                 symmetry rotational symmetry class  \n",
       "1102            59  fraction lowest term mathematics grade periwinkle  \n",
       "1103            30                              math antic ratios rat  \n",
       "1104            46                  lesson circle maths session grade  "
      ]
     },
     "execution_count": 40,
     "metadata": {},
     "output_type": "execute_result"
    }
   ],
   "source": [
    "df_1.tail()"
   ]
  },
  {
   "cell_type": "code",
   "execution_count": 41,
   "metadata": {},
   "outputs": [],
   "source": [
    "# remove all common words\n",
    "for index in range(size):\n",
    "    df_1.loc[index,'Title Parsed'] = \" \".join(list(set(df_1.loc[index]['Title Parsed'].split()).difference(common_words)))"
   ]
  },
  {
   "cell_type": "code",
   "execution_count": 42,
   "metadata": {},
   "outputs": [],
   "source": [
    "df_1['Title Parsed Length'] = df_1['Title Parsed'].str.len()"
   ]
  },
  {
   "cell_type": "code",
   "execution_count": 43,
   "metadata": {},
   "outputs": [
    {
     "data": {
      "text/html": [
       "<div>\n",
       "<style scoped>\n",
       "    .dataframe tbody tr th:only-of-type {\n",
       "        vertical-align: middle;\n",
       "    }\n",
       "\n",
       "    .dataframe tbody tr th {\n",
       "        vertical-align: top;\n",
       "    }\n",
       "\n",
       "    .dataframe thead th {\n",
       "        text-align: right;\n",
       "    }\n",
       "</style>\n",
       "<table border=\"1\" class=\"dataframe\">\n",
       "  <thead>\n",
       "    <tr style=\"text-align: right;\">\n",
       "      <th></th>\n",
       "      <th>Title</th>\n",
       "      <th>Topic</th>\n",
       "      <th>Title Length</th>\n",
       "      <th>Title Parsed</th>\n",
       "      <th>Title Parsed Length</th>\n",
       "    </tr>\n",
       "  </thead>\n",
       "  <tbody>\n",
       "    <tr>\n",
       "      <th>0</th>\n",
       "      <td>Types of sets</td>\n",
       "      <td>Sets</td>\n",
       "      <td>13</td>\n",
       "      <td>set type</td>\n",
       "      <td>8</td>\n",
       "    </tr>\n",
       "    <tr>\n",
       "      <th>1</th>\n",
       "      <td>CBSE Class 2 Maths | CBSE Maths Chapter 5 - Pa...</td>\n",
       "      <td>Symmetry</td>\n",
       "      <td>96</td>\n",
       "      <td>syllabus ncert pattern</td>\n",
       "      <td>22</td>\n",
       "    </tr>\n",
       "    <tr>\n",
       "      <th>2</th>\n",
       "      <td>Why Do We Fart? - The Dr. Binocs Show | Best L...</td>\n",
       "      <td>Operations of Whole Number</td>\n",
       "      <td>85</td>\n",
       "      <td>dr peekaboo kid binocs kidz fart best show videos</td>\n",
       "      <td>49</td>\n",
       "    </tr>\n",
       "    <tr>\n",
       "      <th>3</th>\n",
       "      <td>Lesson 12. Triangles and Quadrilaterals | Math...</td>\n",
       "      <td>Number Patterns</td>\n",
       "      <td>68</td>\n",
       "      <td>triangles quadrilaterals session</td>\n",
       "      <td>32</td>\n",
       "    </tr>\n",
       "    <tr>\n",
       "      <th>4</th>\n",
       "      <td>Triangular Numbers 1, 3, 6, 10, 15 Non-Linear ...</td>\n",
       "      <td>Number Patterns</td>\n",
       "      <td>59</td>\n",
       "      <td>nonlinear pattern triangular rule</td>\n",
       "      <td>33</td>\n",
       "    </tr>\n",
       "  </tbody>\n",
       "</table>\n",
       "</div>"
      ],
      "text/plain": [
       "                                               Title  \\\n",
       "0                                      Types of sets   \n",
       "1  CBSE Class 2 Maths | CBSE Maths Chapter 5 - Pa...   \n",
       "2  Why Do We Fart? - The Dr. Binocs Show | Best L...   \n",
       "3  Lesson 12. Triangles and Quadrilaterals | Math...   \n",
       "4  Triangular Numbers 1, 3, 6, 10, 15 Non-Linear ...   \n",
       "\n",
       "                        Topic  Title Length  \\\n",
       "0                        Sets            13   \n",
       "1                    Symmetry            96   \n",
       "2  Operations of Whole Number            85   \n",
       "3             Number Patterns            68   \n",
       "4             Number Patterns            59   \n",
       "\n",
       "                                        Title Parsed  Title Parsed Length  \n",
       "0                                           set type                    8  \n",
       "1                             syllabus ncert pattern                   22  \n",
       "2  dr peekaboo kid binocs kidz fart best show videos                   49  \n",
       "3                   triangles quadrilaterals session                   32  \n",
       "4                  nonlinear pattern triangular rule                   33  "
      ]
     },
     "execution_count": 43,
     "metadata": {},
     "output_type": "execute_result"
    }
   ],
   "source": [
    "df_1.head()"
   ]
  },
  {
   "cell_type": "code",
   "execution_count": 44,
   "metadata": {},
   "outputs": [
    {
     "data": {
      "text/plain": [
       "Title                  False\n",
       "Topic                  False\n",
       "Title Length           False\n",
       "Title Parsed           False\n",
       "Title Parsed Length    False\n",
       "dtype: bool"
      ]
     },
     "execution_count": 44,
     "metadata": {},
     "output_type": "execute_result"
    }
   ],
   "source": [
    "# check for missing values in any column\n",
    "df_1.isnull().any()"
   ]
  },
  {
   "cell_type": "code",
   "execution_count": 45,
   "metadata": {},
   "outputs": [
    {
     "data": {
      "text/plain": [
       "(1105, 5)"
      ]
     },
     "execution_count": 45,
     "metadata": {},
     "output_type": "execute_result"
    }
   ],
   "source": [
    "df_1.shape"
   ]
  },
  {
   "cell_type": "code",
   "execution_count": 46,
   "metadata": {},
   "outputs": [
    {
     "data": {
      "image/png": "[encoded data removed]",
      "text/plain": [
       "<Figure size 921.6x432 with 1 Axes>"
      ]
     },
     "metadata": {},
     "output_type": "display_data"
    }
   ],
   "source": [
    "plt.figure(figsize=(12.8,6))\n",
    "sns.distplot(df_1['Title Parsed Length']).set_title('Parsed title length distribution');"
   ]
  },
  {
   "cell_type": "markdown",
   "metadata": {},
   "source": [
    "### 1.11 Make Vocabulary with High Frequency Words"
   ]
  },
  {
   "cell_type": "code",
   "execution_count": 47,
   "metadata": {},
   "outputs": [],
   "source": [
    "all_words = list()\n",
    "words_list = df_1['Title Parsed'].str.split().to_list()\n",
    "for words in words_list:\n",
    "    all_words.extend(words)"
   ]
  },
  {
   "cell_type": "code",
   "execution_count": 48,
   "metadata": {},
   "outputs": [
    {
     "name": "stdout",
     "output_type": "stream",
     "text": [
      "Size = 784\n"
     ]
    }
   ],
   "source": [
    "word_freq = dict()\n",
    "\n",
    "for word in all_words:\n",
    "    if word not in word_freq:\n",
    "        word_freq[word] = 0\n",
    "    word_freq[word] += 1\n",
    "    \n",
    "print(f'Size = {len(word_freq)}')"
   ]
  },
  {
   "cell_type": "code",
   "execution_count": 49,
   "metadata": {},
   "outputs": [],
   "source": [
    "sorted_word_freq = dict(sorted(word_freq.items(), key=lambda item: -item[1]))"
   ]
  },
  {
   "cell_type": "code",
   "execution_count": 50,
   "metadata": {},
   "outputs": [
    {
     "name": "stdout",
     "output_type": "stream",
     "text": [
      "Number of words less than threshold 5 = 579\n"
     ]
    }
   ],
   "source": [
    "number_of_words_less_than_threshold_5 = 0\n",
    "less_freq_words = list()\n",
    "vocaubulary = list()\n",
    "for word, freq in sorted_word_freq.items():\n",
    "    if freq < 5:\n",
    "        number_of_words_less_than_threshold_5 += 1\n",
    "        less_freq_words.append(word)\n",
    "    else:\n",
    "        vocaubulary.append(word)\n",
    "        \n",
    "print(f'Number of words less than threshold 5 = {number_of_words_less_than_threshold_5}')"
   ]
  },
  {
   "cell_type": "markdown",
   "metadata": {},
   "source": [
    "<b> take words only more than or equal 2 occurences </b>"
   ]
  },
  {
   "cell_type": "code",
   "execution_count": 51,
   "metadata": {},
   "outputs": [
    {
     "name": "stdout",
     "output_type": "stream",
     "text": [
      "Vocaubulary size = 205\n"
     ]
    }
   ],
   "source": [
    "vocaubulary = set(vocaubulary)\n",
    "print(f'Vocaubulary size = {len(vocaubulary)}')\n",
    "\n",
    "vocaubulary_file = open('vocaubulary - titles.txt','w+')\n",
    "for word in vocaubulary:\n",
    "    vocaubulary_file.write(f'{word}\\n')\n",
    "vocaubulary_file.close()"
   ]
  },
  {
   "cell_type": "code",
   "execution_count": 52,
   "metadata": {},
   "outputs": [],
   "source": [
    "vocaubulary_list = list(vocaubulary)"
   ]
  },
  {
   "cell_type": "code",
   "execution_count": 53,
   "metadata": {},
   "outputs": [],
   "source": [
    "size = len(df_1)"
   ]
  },
  {
   "cell_type": "code",
   "execution_count": 54,
   "metadata": {},
   "outputs": [],
   "source": [
    "# remove all common words\n",
    "for index in range(size):\n",
    "    df_1.loc[index,'Title Parsed'] = \" \".join(list(set(df_1.loc[index]['Title Parsed'].split()).intersection(vocaubulary_list)))"
   ]
  },
  {
   "cell_type": "code",
   "execution_count": 55,
   "metadata": {},
   "outputs": [
    {
     "data": {
      "text/html": [
       "<div>\n",
       "<style scoped>\n",
       "    .dataframe tbody tr th:only-of-type {\n",
       "        vertical-align: middle;\n",
       "    }\n",
       "\n",
       "    .dataframe tbody tr th {\n",
       "        vertical-align: top;\n",
       "    }\n",
       "\n",
       "    .dataframe thead th {\n",
       "        text-align: right;\n",
       "    }\n",
       "</style>\n",
       "<table border=\"1\" class=\"dataframe\">\n",
       "  <thead>\n",
       "    <tr style=\"text-align: right;\">\n",
       "      <th></th>\n",
       "      <th>Title</th>\n",
       "      <th>Topic</th>\n",
       "      <th>Title Length</th>\n",
       "      <th>Title Parsed</th>\n",
       "      <th>Title Parsed Length</th>\n",
       "    </tr>\n",
       "  </thead>\n",
       "  <tbody>\n",
       "    <tr>\n",
       "      <th>0</th>\n",
       "      <td>Types of sets</td>\n",
       "      <td>Sets</td>\n",
       "      <td>13</td>\n",
       "      <td>set type</td>\n",
       "      <td>8</td>\n",
       "    </tr>\n",
       "    <tr>\n",
       "      <th>1</th>\n",
       "      <td>CBSE Class 2 Maths | CBSE Maths Chapter 5 - Pa...</td>\n",
       "      <td>Symmetry</td>\n",
       "      <td>96</td>\n",
       "      <td>syllabus ncert pattern</td>\n",
       "      <td>22</td>\n",
       "    </tr>\n",
       "    <tr>\n",
       "      <th>2</th>\n",
       "      <td>Why Do We Fart? - The Dr. Binocs Show | Best L...</td>\n",
       "      <td>Operations of Whole Number</td>\n",
       "      <td>85</td>\n",
       "      <td>kid videos</td>\n",
       "      <td>49</td>\n",
       "    </tr>\n",
       "    <tr>\n",
       "      <th>3</th>\n",
       "      <td>Lesson 12. Triangles and Quadrilaterals | Math...</td>\n",
       "      <td>Number Patterns</td>\n",
       "      <td>68</td>\n",
       "      <td>triangles session</td>\n",
       "      <td>32</td>\n",
       "    </tr>\n",
       "    <tr>\n",
       "      <th>4</th>\n",
       "      <td>Triangular Numbers 1, 3, 6, 10, 15 Non-Linear ...</td>\n",
       "      <td>Number Patterns</td>\n",
       "      <td>59</td>\n",
       "      <td>pattern rule</td>\n",
       "      <td>33</td>\n",
       "    </tr>\n",
       "  </tbody>\n",
       "</table>\n",
       "</div>"
      ],
      "text/plain": [
       "                                               Title  \\\n",
       "0                                      Types of sets   \n",
       "1  CBSE Class 2 Maths | CBSE Maths Chapter 5 - Pa...   \n",
       "2  Why Do We Fart? - The Dr. Binocs Show | Best L...   \n",
       "3  Lesson 12. Triangles and Quadrilaterals | Math...   \n",
       "4  Triangular Numbers 1, 3, 6, 10, 15 Non-Linear ...   \n",
       "\n",
       "                        Topic  Title Length            Title Parsed  \\\n",
       "0                        Sets            13                set type   \n",
       "1                    Symmetry            96  syllabus ncert pattern   \n",
       "2  Operations of Whole Number            85              kid videos   \n",
       "3             Number Patterns            68       triangles session   \n",
       "4             Number Patterns            59            pattern rule   \n",
       "\n",
       "   Title Parsed Length  \n",
       "0                    8  \n",
       "1                   22  \n",
       "2                   49  \n",
       "3                   32  \n",
       "4                   33  "
      ]
     },
     "execution_count": 55,
     "metadata": {},
     "output_type": "execute_result"
    }
   ],
   "source": [
    "df_1.head()"
   ]
  },
  {
   "cell_type": "code",
   "execution_count": 56,
   "metadata": {},
   "outputs": [],
   "source": [
    "df_1['Title Parsed Length'] = df_1['Title Parsed'].str.len()"
   ]
  },
  {
   "cell_type": "code",
   "execution_count": 57,
   "metadata": {},
   "outputs": [
    {
     "data": {
      "image/png": "[encoded data removed]",
      "text/plain": [
       "<Figure size 921.6x432 with 1 Axes>"
      ]
     },
     "metadata": {},
     "output_type": "display_data"
    }
   ],
   "source": [
    "plt.figure(figsize=(12.8,6))\n",
    "sns.distplot(df_1['Title Parsed Length']).set_title('Parsed title length distribution');"
   ]
  },
  {
   "cell_type": "code",
   "execution_count": 58,
   "metadata": {},
   "outputs": [
    {
     "data": {
      "text/plain": [
       "Title                  False\n",
       "Topic                  False\n",
       "Title Length           False\n",
       "Title Parsed           False\n",
       "Title Parsed Length    False\n",
       "dtype: bool"
      ]
     },
     "execution_count": 58,
     "metadata": {},
     "output_type": "execute_result"
    }
   ],
   "source": [
    "# check for missing values in any column\n",
    "df_1.isnull().any()"
   ]
  },
  {
   "cell_type": "code",
   "execution_count": 59,
   "metadata": {},
   "outputs": [
    {
     "data": {
      "text/html": [
       "<div>\n",
       "<style scoped>\n",
       "    .dataframe tbody tr th:only-of-type {\n",
       "        vertical-align: middle;\n",
       "    }\n",
       "\n",
       "    .dataframe tbody tr th {\n",
       "        vertical-align: top;\n",
       "    }\n",
       "\n",
       "    .dataframe thead th {\n",
       "        text-align: right;\n",
       "    }\n",
       "</style>\n",
       "<table border=\"1\" class=\"dataframe\">\n",
       "  <thead>\n",
       "    <tr style=\"text-align: right;\">\n",
       "      <th></th>\n",
       "      <th>Title</th>\n",
       "      <th>Topic</th>\n",
       "      <th>Title Length</th>\n",
       "      <th>Title Parsed</th>\n",
       "      <th>Title Parsed Length</th>\n",
       "    </tr>\n",
       "  </thead>\n",
       "  <tbody>\n",
       "    <tr>\n",
       "      <th>19</th>\n",
       "      <td>ore and After Numbers | Mathematics Grade 1 | ...</td>\n",
       "      <td>Directed Numbers</td>\n",
       "      <td>56</td>\n",
       "      <td></td>\n",
       "      <td>0</td>\n",
       "    </tr>\n",
       "    <tr>\n",
       "      <th>33</th>\n",
       "      <td>Learning Even And Odd Numbers | Mathematics Gr...</td>\n",
       "      <td>Number Patterns</td>\n",
       "      <td>64</td>\n",
       "      <td></td>\n",
       "      <td>0</td>\n",
       "    </tr>\n",
       "    <tr>\n",
       "      <th>35</th>\n",
       "      <td>Class 5 || Maths || Are</td>\n",
       "      <td>Angles</td>\n",
       "      <td>23</td>\n",
       "      <td></td>\n",
       "      <td>0</td>\n",
       "    </tr>\n",
       "    <tr>\n",
       "      <th>39</th>\n",
       "      <td>Class 5 || CBSE || Maths || Let us start learn...</td>\n",
       "      <td>Symmetry</td>\n",
       "      <td>78</td>\n",
       "      <td></td>\n",
       "      <td>0</td>\n",
       "    </tr>\n",
       "    <tr>\n",
       "      <th>77</th>\n",
       "      <td>10 Fun Kiddy Riddles That Stump Most Adults</td>\n",
       "      <td>Number Patterns</td>\n",
       "      <td>43</td>\n",
       "      <td></td>\n",
       "      <td>0</td>\n",
       "    </tr>\n",
       "    <tr>\n",
       "      <th>85</th>\n",
       "      <td>Roman Numerals | Mathematics Grade 5 | Periwinkle</td>\n",
       "      <td>Operations of Whole Number</td>\n",
       "      <td>49</td>\n",
       "      <td></td>\n",
       "      <td>0</td>\n",
       "    </tr>\n",
       "    <tr>\n",
       "      <th>92</th>\n",
       "      <td>Class 5 || CBSE || Maths || Let us start learn...</td>\n",
       "      <td>Perimeter</td>\n",
       "      <td>78</td>\n",
       "      <td></td>\n",
       "      <td>0</td>\n",
       "    </tr>\n",
       "    <tr>\n",
       "      <th>129</th>\n",
       "      <td>GCF</td>\n",
       "      <td>Factors and Multiplication</td>\n",
       "      <td>3</td>\n",
       "      <td></td>\n",
       "      <td>0</td>\n",
       "    </tr>\n",
       "    <tr>\n",
       "      <th>162</th>\n",
       "      <td>Refraction of Ligh</td>\n",
       "      <td>Angles</td>\n",
       "      <td>18</td>\n",
       "      <td></td>\n",
       "      <td>0</td>\n",
       "    </tr>\n",
       "    <tr>\n",
       "      <th>180</th>\n",
       "      <td>Writing Roman Numerals | Mathematics Grade 3 |...</td>\n",
       "      <td>Directed Numbers</td>\n",
       "      <td>57</td>\n",
       "      <td></td>\n",
       "      <td>0</td>\n",
       "    </tr>\n",
       "    <tr>\n",
       "      <th>185</th>\n",
       "      <td>GCF</td>\n",
       "      <td>Factors and Multiplication</td>\n",
       "      <td>3</td>\n",
       "      <td></td>\n",
       "      <td>0</td>\n",
       "    </tr>\n",
       "    <tr>\n",
       "      <th>204</th>\n",
       "      <td>Profit and Loss | Mathematics Grade 5 | Periwi...</td>\n",
       "      <td>Directed Numbers</td>\n",
       "      <td>50</td>\n",
       "      <td></td>\n",
       "      <td>0</td>\n",
       "    </tr>\n",
       "    <tr>\n",
       "      <th>224</th>\n",
       "      <td>https://i.ytimg.com/vi/_n3KZR1DSEo/maxresdefau...</td>\n",
       "      <td>Angles</td>\n",
       "      <td>52</td>\n",
       "      <td></td>\n",
       "      <td>0</td>\n",
       "    </tr>\n",
       "    <tr>\n",
       "      <th>238</th>\n",
       "      <td>Math Antics - What Are Percentages?</td>\n",
       "      <td>Sets</td>\n",
       "      <td>35</td>\n",
       "      <td></td>\n",
       "      <td>0</td>\n",
       "    </tr>\n",
       "    <tr>\n",
       "      <th>272</th>\n",
       "      <td>Gravity Visualized</td>\n",
       "      <td>Angles</td>\n",
       "      <td>18</td>\n",
       "      <td></td>\n",
       "      <td>0</td>\n",
       "    </tr>\n",
       "    <tr>\n",
       "      <th>308</th>\n",
       "      <td>Vinculum | Subtractions | Speed Maths | Vedic ...</td>\n",
       "      <td>Operations of Whole Number</td>\n",
       "      <td>57</td>\n",
       "      <td></td>\n",
       "      <td>0</td>\n",
       "    </tr>\n",
       "    <tr>\n",
       "      <th>480</th>\n",
       "      <td>ltiples | Mathematics Grade 4 | Periwinkle</td>\n",
       "      <td>Factors and Multiplication</td>\n",
       "      <td>42</td>\n",
       "      <td></td>\n",
       "      <td>0</td>\n",
       "    </tr>\n",
       "    <tr>\n",
       "      <th>594</th>\n",
       "      <td>The World's Fastest Writer @ Spoorthi Pradhata...</td>\n",
       "      <td>Indices</td>\n",
       "      <td>52</td>\n",
       "      <td></td>\n",
       "      <td>0</td>\n",
       "    </tr>\n",
       "    <tr>\n",
       "      <th>606</th>\n",
       "      <td>https://www.youtube.com/embed/CqrYYiffPr0</td>\n",
       "      <td>Factors and Multiplication</td>\n",
       "      <td>41</td>\n",
       "      <td></td>\n",
       "      <td>0</td>\n",
       "    </tr>\n",
       "    <tr>\n",
       "      <th>628</th>\n",
       "      <td>Polygons | Mathematics Grade 5 | Periwinkle</td>\n",
       "      <td>Angles</td>\n",
       "      <td>43</td>\n",
       "      <td></td>\n",
       "      <td>0</td>\n",
       "    </tr>\n",
       "    <tr>\n",
       "      <th>638</th>\n",
       "      <td>Frog Dissection--Sixth Grade</td>\n",
       "      <td>Operations of Whole Number</td>\n",
       "      <td>28</td>\n",
       "      <td></td>\n",
       "      <td>0</td>\n",
       "    </tr>\n",
       "    <tr>\n",
       "      <th>709</th>\n",
       "      <td>Spherical Mirrors</td>\n",
       "      <td>Angles</td>\n",
       "      <td>17</td>\n",
       "      <td></td>\n",
       "      <td>0</td>\n",
       "    </tr>\n",
       "    <tr>\n",
       "      <th>784</th>\n",
       "      <td>Human Body for class 3</td>\n",
       "      <td>Angles</td>\n",
       "      <td>22</td>\n",
       "      <td></td>\n",
       "      <td>0</td>\n",
       "    </tr>\n",
       "    <tr>\n",
       "      <th>792</th>\n",
       "      <td>Writing Roman Numerals | Mathematics Grade 3 |...</td>\n",
       "      <td>Number Patterns</td>\n",
       "      <td>57</td>\n",
       "      <td></td>\n",
       "      <td>0</td>\n",
       "    </tr>\n",
       "    <tr>\n",
       "      <th>852</th>\n",
       "      <td>Number Systems | Mathematics Grade 5 | Periwinkle</td>\n",
       "      <td>Operations of Whole Number</td>\n",
       "      <td>49</td>\n",
       "      <td></td>\n",
       "      <td>0</td>\n",
       "    </tr>\n",
       "    <tr>\n",
       "      <th>860</th>\n",
       "      <td>Math Antics - Mean, Median and Mode</td>\n",
       "      <td>Sets</td>\n",
       "      <td>35</td>\n",
       "      <td></td>\n",
       "      <td>0</td>\n",
       "    </tr>\n",
       "    <tr>\n",
       "      <th>873</th>\n",
       "      <td>Roman Numerals | Mathematics Grade 5 | Periwinkle</td>\n",
       "      <td>Number Patterns</td>\n",
       "      <td>49</td>\n",
       "      <td></td>\n",
       "      <td>0</td>\n",
       "    </tr>\n",
       "    <tr>\n",
       "      <th>944</th>\n",
       "      <td>Quadrilaterals | Mathematics Grade 5 | Periwinkle</td>\n",
       "      <td>Angles</td>\n",
       "      <td>49</td>\n",
       "      <td></td>\n",
       "      <td>0</td>\n",
       "    </tr>\n",
       "    <tr>\n",
       "      <th>956</th>\n",
       "      <td>ograph and Bar Graphs | Mathematics Grade 5 | ...</td>\n",
       "      <td>Factors and Multiplication</td>\n",
       "      <td>56</td>\n",
       "      <td></td>\n",
       "      <td>0</td>\n",
       "    </tr>\n",
       "    <tr>\n",
       "      <th>987</th>\n",
       "      <td>Number Systems | Mathematics Grade 5 | Periwinkle</td>\n",
       "      <td>Sets</td>\n",
       "      <td>49</td>\n",
       "      <td></td>\n",
       "      <td>0</td>\n",
       "    </tr>\n",
       "    <tr>\n",
       "      <th>992</th>\n",
       "      <td>Cubes Of Numbers | Mathematics Grade 5 | Periw...</td>\n",
       "      <td>Sets</td>\n",
       "      <td>51</td>\n",
       "      <td></td>\n",
       "      <td>0</td>\n",
       "    </tr>\n",
       "    <tr>\n",
       "      <th>1007</th>\n",
       "      <td>Introduction to limits | Limits | Differential...</td>\n",
       "      <td>Number Patterns</td>\n",
       "      <td>70</td>\n",
       "      <td></td>\n",
       "      <td>0</td>\n",
       "    </tr>\n",
       "    <tr>\n",
       "      <th>1011</th>\n",
       "      <td>Ratio | Mathematics Grade 5 | Periwinkle</td>\n",
       "      <td>Sets</td>\n",
       "      <td>40</td>\n",
       "      <td></td>\n",
       "      <td>0</td>\n",
       "    </tr>\n",
       "    <tr>\n",
       "      <th>1020</th>\n",
       "      <td>GMSA Weekends : Aug 08, 2021</td>\n",
       "      <td>Indices</td>\n",
       "      <td>28</td>\n",
       "      <td></td>\n",
       "      <td>0</td>\n",
       "    </tr>\n",
       "    <tr>\n",
       "      <th>1071</th>\n",
       "      <td>Math Antics - Polygons</td>\n",
       "      <td>Angles</td>\n",
       "      <td>22</td>\n",
       "      <td></td>\n",
       "      <td>0</td>\n",
       "    </tr>\n",
       "  </tbody>\n",
       "</table>\n",
       "</div>"
      ],
      "text/plain": [
       "                                                  Title  \\\n",
       "19    ore and After Numbers | Mathematics Grade 1 | ...   \n",
       "33    Learning Even And Odd Numbers | Mathematics Gr...   \n",
       "35                              Class 5 || Maths || Are   \n",
       "39    Class 5 || CBSE || Maths || Let us start learn...   \n",
       "77          10 Fun Kiddy Riddles That Stump Most Adults   \n",
       "85    Roman Numerals | Mathematics Grade 5 | Periwinkle   \n",
       "92    Class 5 || CBSE || Maths || Let us start learn...   \n",
       "129                                                 GCF   \n",
       "162                                  Refraction of Ligh   \n",
       "180   Writing Roman Numerals | Mathematics Grade 3 |...   \n",
       "185                                                 GCF   \n",
       "204   Profit and Loss | Mathematics Grade 5 | Periwi...   \n",
       "224   https://i.ytimg.com/vi/_n3KZR1DSEo/maxresdefau...   \n",
       "238                 Math Antics - What Are Percentages?   \n",
       "272                                  Gravity Visualized   \n",
       "308   Vinculum | Subtractions | Speed Maths | Vedic ...   \n",
       "480          ltiples | Mathematics Grade 4 | Periwinkle   \n",
       "594   The World's Fastest Writer @ Spoorthi Pradhata...   \n",
       "606           https://www.youtube.com/embed/CqrYYiffPr0   \n",
       "628         Polygons | Mathematics Grade 5 | Periwinkle   \n",
       "638                        Frog Dissection--Sixth Grade   \n",
       "709                                   Spherical Mirrors   \n",
       "784                              Human Body for class 3   \n",
       "792   Writing Roman Numerals | Mathematics Grade 3 |...   \n",
       "852   Number Systems | Mathematics Grade 5 | Periwinkle   \n",
       "860                 Math Antics - Mean, Median and Mode   \n",
       "873   Roman Numerals | Mathematics Grade 5 | Periwinkle   \n",
       "944   Quadrilaterals | Mathematics Grade 5 | Periwinkle   \n",
       "956   ograph and Bar Graphs | Mathematics Grade 5 | ...   \n",
       "987   Number Systems | Mathematics Grade 5 | Periwinkle   \n",
       "992   Cubes Of Numbers | Mathematics Grade 5 | Periw...   \n",
       "1007  Introduction to limits | Limits | Differential...   \n",
       "1011           Ratio | Mathematics Grade 5 | Periwinkle   \n",
       "1020                       GMSA Weekends : Aug 08, 2021   \n",
       "1071                             Math Antics - Polygons   \n",
       "\n",
       "                           Topic  Title Length Title Parsed  \\\n",
       "19              Directed Numbers            56                \n",
       "33               Number Patterns            64                \n",
       "35                        Angles            23                \n",
       "39                      Symmetry            78                \n",
       "77               Number Patterns            43                \n",
       "85    Operations of Whole Number            49                \n",
       "92                     Perimeter            78                \n",
       "129   Factors and Multiplication             3                \n",
       "162                       Angles            18                \n",
       "180             Directed Numbers            57                \n",
       "185   Factors and Multiplication             3                \n",
       "204             Directed Numbers            50                \n",
       "224                       Angles            52                \n",
       "238                         Sets            35                \n",
       "272                       Angles            18                \n",
       "308   Operations of Whole Number            57                \n",
       "480   Factors and Multiplication            42                \n",
       "594                      Indices            52                \n",
       "606   Factors and Multiplication            41                \n",
       "628                       Angles            43                \n",
       "638   Operations of Whole Number            28                \n",
       "709                       Angles            17                \n",
       "784                       Angles            22                \n",
       "792              Number Patterns            57                \n",
       "852   Operations of Whole Number            49                \n",
       "860                         Sets            35                \n",
       "873              Number Patterns            49                \n",
       "944                       Angles            49                \n",
       "956   Factors and Multiplication            56                \n",
       "987                         Sets            49                \n",
       "992                         Sets            51                \n",
       "1007             Number Patterns            70                \n",
       "1011                        Sets            40                \n",
       "1020                     Indices            28                \n",
       "1071                      Angles            22                \n",
       "\n",
       "      Title Parsed Length  \n",
       "19                      0  \n",
       "33                      0  \n",
       "35                      0  \n",
       "39                      0  \n",
       "77                      0  \n",
       "85                      0  \n",
       "92                      0  \n",
       "129                     0  \n",
       "162                     0  \n",
       "180                     0  \n",
       "185                     0  \n",
       "204                     0  \n",
       "224                     0  \n",
       "238                     0  \n",
       "272                     0  \n",
       "308                     0  \n",
       "480                     0  \n",
       "594                     0  \n",
       "606                     0  \n",
       "628                     0  \n",
       "638                     0  \n",
       "709                     0  \n",
       "784                     0  \n",
       "792                     0  \n",
       "852                     0  \n",
       "860                     0  \n",
       "873                     0  \n",
       "944                     0  \n",
       "956                     0  \n",
       "987                     0  \n",
       "992                     0  \n",
       "1007                    0  \n",
       "1011                    0  \n",
       "1020                    0  \n",
       "1071                    0  "
      ]
     },
     "execution_count": 59,
     "metadata": {},
     "output_type": "execute_result"
    }
   ],
   "source": [
    "# check if any data point contains parsed length as zero\n",
    "df_1[df_1['Title Parsed Length'] == 0]"
   ]
  },
  {
   "cell_type": "code",
   "execution_count": 60,
   "metadata": {},
   "outputs": [
    {
     "data": {
      "text/plain": [
       "(1070, 5)"
      ]
     },
     "execution_count": 60,
     "metadata": {},
     "output_type": "execute_result"
    }
   ],
   "source": [
    "df_1 = df_1[df_1['Title Parsed Length'] != 0]\n",
    "df_1.shape"
   ]
  },
  {
   "cell_type": "markdown",
   "metadata": {},
   "source": [
    "## 2. Label coding"
   ]
  },
  {
   "cell_type": "code",
   "execution_count": 61,
   "metadata": {},
   "outputs": [],
   "source": [
    "topic_codes = dict()\n",
    "index = 0\n",
    "for topic in list(df_1['Topic'].unique()):\n",
    "    topic_codes[topic] = index\n",
    "    index += 1"
   ]
  },
  {
   "cell_type": "code",
   "execution_count": 62,
   "metadata": {},
   "outputs": [
    {
     "data": {
      "text/plain": [
       "{'Sets': 0,\n",
       " 'Symmetry': 1,\n",
       " 'Operations of Whole Number': 2,\n",
       " 'Number Patterns': 3,\n",
       " 'Factors and Multiplication': 4,\n",
       " 'Algebra Expression': 5,\n",
       " 'Directed Numbers': 6,\n",
       " 'Indices': 7,\n",
       " 'Angles': 8,\n",
       " 'Perimeter': 9}"
      ]
     },
     "execution_count": 62,
     "metadata": {},
     "output_type": "execute_result"
    }
   ],
   "source": [
    "topic_codes"
   ]
  },
  {
   "cell_type": "code",
   "execution_count": 63,
   "metadata": {},
   "outputs": [
    {
     "data": {
      "text/html": [
       "<div>\n",
       "<style scoped>\n",
       "    .dataframe tbody tr th:only-of-type {\n",
       "        vertical-align: middle;\n",
       "    }\n",
       "\n",
       "    .dataframe tbody tr th {\n",
       "        vertical-align: top;\n",
       "    }\n",
       "\n",
       "    .dataframe thead th {\n",
       "        text-align: right;\n",
       "    }\n",
       "</style>\n",
       "<table border=\"1\" class=\"dataframe\">\n",
       "  <thead>\n",
       "    <tr style=\"text-align: right;\">\n",
       "      <th></th>\n",
       "      <th>Title</th>\n",
       "      <th>Topic</th>\n",
       "      <th>Title Length</th>\n",
       "      <th>Title Parsed</th>\n",
       "      <th>Title Parsed Length</th>\n",
       "      <th>Topic Codes</th>\n",
       "    </tr>\n",
       "  </thead>\n",
       "  <tbody>\n",
       "    <tr>\n",
       "      <th>0</th>\n",
       "      <td>Types of sets</td>\n",
       "      <td>Sets</td>\n",
       "      <td>13</td>\n",
       "      <td>set type</td>\n",
       "      <td>8</td>\n",
       "      <td>0</td>\n",
       "    </tr>\n",
       "    <tr>\n",
       "      <th>1</th>\n",
       "      <td>CBSE Class 2 Maths | CBSE Maths Chapter 5 - Pa...</td>\n",
       "      <td>Symmetry</td>\n",
       "      <td>96</td>\n",
       "      <td>syllabus ncert pattern</td>\n",
       "      <td>22</td>\n",
       "      <td>1</td>\n",
       "    </tr>\n",
       "    <tr>\n",
       "      <th>2</th>\n",
       "      <td>Why Do We Fart? - The Dr. Binocs Show | Best L...</td>\n",
       "      <td>Operations of Whole Number</td>\n",
       "      <td>85</td>\n",
       "      <td>kid videos</td>\n",
       "      <td>10</td>\n",
       "      <td>2</td>\n",
       "    </tr>\n",
       "    <tr>\n",
       "      <th>3</th>\n",
       "      <td>Lesson 12. Triangles and Quadrilaterals | Math...</td>\n",
       "      <td>Number Patterns</td>\n",
       "      <td>68</td>\n",
       "      <td>triangles session</td>\n",
       "      <td>17</td>\n",
       "      <td>3</td>\n",
       "    </tr>\n",
       "    <tr>\n",
       "      <th>4</th>\n",
       "      <td>Triangular Numbers 1, 3, 6, 10, 15 Non-Linear ...</td>\n",
       "      <td>Number Patterns</td>\n",
       "      <td>59</td>\n",
       "      <td>pattern rule</td>\n",
       "      <td>12</td>\n",
       "      <td>3</td>\n",
       "    </tr>\n",
       "  </tbody>\n",
       "</table>\n",
       "</div>"
      ],
      "text/plain": [
       "                                               Title  \\\n",
       "0                                      Types of sets   \n",
       "1  CBSE Class 2 Maths | CBSE Maths Chapter 5 - Pa...   \n",
       "2  Why Do We Fart? - The Dr. Binocs Show | Best L...   \n",
       "3  Lesson 12. Triangles and Quadrilaterals | Math...   \n",
       "4  Triangular Numbers 1, 3, 6, 10, 15 Non-Linear ...   \n",
       "\n",
       "                        Topic  Title Length            Title Parsed  \\\n",
       "0                        Sets            13                set type   \n",
       "1                    Symmetry            96  syllabus ncert pattern   \n",
       "2  Operations of Whole Number            85              kid videos   \n",
       "3             Number Patterns            68       triangles session   \n",
       "4             Number Patterns            59            pattern rule   \n",
       "\n",
       "   Title Parsed Length  Topic Codes  \n",
       "0                    8            0  \n",
       "1                   22            1  \n",
       "2                   10            2  \n",
       "3                   17            3  \n",
       "4                   12            3  "
      ]
     },
     "execution_count": 63,
     "metadata": {},
     "output_type": "execute_result"
    }
   ],
   "source": [
    "df_1['Topic Codes'] = df_1['Topic']\n",
    "df_1 = df_1.replace({'Topic Codes' : topic_codes})\n",
    "#df_1.drop('index',axis=1,inplace=True)\n",
    "df_1.head()"
   ]
  },
  {
   "cell_type": "code",
   "execution_count": 64,
   "metadata": {},
   "outputs": [],
   "source": [
    "# save pre-processed dataset\n",
    "df_1.to_csv(r'pre-processed video titles dataset.csv', sep=',', encoding='utf-8', header='true')"
   ]
  },
  {
   "cell_type": "code",
   "execution_count": 65,
   "metadata": {},
   "outputs": [
    {
     "data": {
      "text/plain": [
       "Title                  False\n",
       "Topic                  False\n",
       "Title Length           False\n",
       "Title Parsed           False\n",
       "Title Parsed Length    False\n",
       "Topic Codes            False\n",
       "dtype: bool"
      ]
     },
     "execution_count": 65,
     "metadata": {},
     "output_type": "execute_result"
    }
   ],
   "source": [
    "# check for missing values in any column\n",
    "df_1.isnull().any()"
   ]
  },
  {
   "cell_type": "code",
   "execution_count": 66,
   "metadata": {},
   "outputs": [
    {
     "data": {
      "text/html": [
       "<div>\n",
       "<style scoped>\n",
       "    .dataframe tbody tr th:only-of-type {\n",
       "        vertical-align: middle;\n",
       "    }\n",
       "\n",
       "    .dataframe tbody tr th {\n",
       "        vertical-align: top;\n",
       "    }\n",
       "\n",
       "    .dataframe thead th {\n",
       "        text-align: right;\n",
       "    }\n",
       "</style>\n",
       "<table border=\"1\" class=\"dataframe\">\n",
       "  <thead>\n",
       "    <tr style=\"text-align: right;\">\n",
       "      <th></th>\n",
       "      <th>Unnamed: 0</th>\n",
       "      <th>Title</th>\n",
       "      <th>Topic</th>\n",
       "      <th>Title Length</th>\n",
       "      <th>Title Parsed</th>\n",
       "      <th>Title Parsed Length</th>\n",
       "      <th>Topic Codes</th>\n",
       "    </tr>\n",
       "  </thead>\n",
       "  <tbody>\n",
       "    <tr>\n",
       "      <th>0</th>\n",
       "      <td>0</td>\n",
       "      <td>Types of sets</td>\n",
       "      <td>Sets</td>\n",
       "      <td>13</td>\n",
       "      <td>set type</td>\n",
       "      <td>8</td>\n",
       "      <td>0</td>\n",
       "    </tr>\n",
       "    <tr>\n",
       "      <th>1</th>\n",
       "      <td>1</td>\n",
       "      <td>CBSE Class 2 Maths | CBSE Maths Chapter 5 - Pa...</td>\n",
       "      <td>Symmetry</td>\n",
       "      <td>96</td>\n",
       "      <td>syllabus ncert pattern</td>\n",
       "      <td>22</td>\n",
       "      <td>1</td>\n",
       "    </tr>\n",
       "    <tr>\n",
       "      <th>2</th>\n",
       "      <td>2</td>\n",
       "      <td>Why Do We Fart? - The Dr. Binocs Show | Best L...</td>\n",
       "      <td>Operations of Whole Number</td>\n",
       "      <td>85</td>\n",
       "      <td>kid videos</td>\n",
       "      <td>10</td>\n",
       "      <td>2</td>\n",
       "    </tr>\n",
       "    <tr>\n",
       "      <th>3</th>\n",
       "      <td>3</td>\n",
       "      <td>Lesson 12. Triangles and Quadrilaterals | Math...</td>\n",
       "      <td>Number Patterns</td>\n",
       "      <td>68</td>\n",
       "      <td>triangles session</td>\n",
       "      <td>17</td>\n",
       "      <td>3</td>\n",
       "    </tr>\n",
       "    <tr>\n",
       "      <th>4</th>\n",
       "      <td>4</td>\n",
       "      <td>Triangular Numbers 1, 3, 6, 10, 15 Non-Linear ...</td>\n",
       "      <td>Number Patterns</td>\n",
       "      <td>59</td>\n",
       "      <td>pattern rule</td>\n",
       "      <td>12</td>\n",
       "      <td>3</td>\n",
       "    </tr>\n",
       "  </tbody>\n",
       "</table>\n",
       "</div>"
      ],
      "text/plain": [
       "   Unnamed: 0                                              Title  \\\n",
       "0           0                                      Types of sets   \n",
       "1           1  CBSE Class 2 Maths | CBSE Maths Chapter 5 - Pa...   \n",
       "2           2  Why Do We Fart? - The Dr. Binocs Show | Best L...   \n",
       "3           3  Lesson 12. Triangles and Quadrilaterals | Math...   \n",
       "4           4  Triangular Numbers 1, 3, 6, 10, 15 Non-Linear ...   \n",
       "\n",
       "                        Topic  Title Length            Title Parsed  \\\n",
       "0                        Sets            13                set type   \n",
       "1                    Symmetry            96  syllabus ncert pattern   \n",
       "2  Operations of Whole Number            85              kid videos   \n",
       "3             Number Patterns            68       triangles session   \n",
       "4             Number Patterns            59            pattern rule   \n",
       "\n",
       "   Title Parsed Length  Topic Codes  \n",
       "0                    8            0  \n",
       "1                   22            1  \n",
       "2                   10            2  \n",
       "3                   17            3  \n",
       "4                   12            3  "
      ]
     },
     "execution_count": 66,
     "metadata": {},
     "output_type": "execute_result"
    }
   ],
   "source": [
    "# load pre-processed dataset\n",
    "df_2 = pd.read_csv('pre-processed video titles dataset.csv')\n",
    "df_2.head()"
   ]
  },
  {
   "cell_type": "code",
   "execution_count": 67,
   "metadata": {},
   "outputs": [
    {
     "data": {
      "text/plain": [
       "Unnamed: 0             False\n",
       "Title                  False\n",
       "Topic                  False\n",
       "Title Length           False\n",
       "Title Parsed           False\n",
       "Title Parsed Length    False\n",
       "Topic Codes            False\n",
       "dtype: bool"
      ]
     },
     "execution_count": 67,
     "metadata": {},
     "output_type": "execute_result"
    }
   ],
   "source": [
    "# check for missing values in any column\n",
    "df_2.isnull().any()"
   ]
  },
  {
   "cell_type": "code",
   "execution_count": 68,
   "metadata": {},
   "outputs": [
    {
     "data": {
      "text/html": [
       "<div>\n",
       "<style scoped>\n",
       "    .dataframe tbody tr th:only-of-type {\n",
       "        vertical-align: middle;\n",
       "    }\n",
       "\n",
       "    .dataframe tbody tr th {\n",
       "        vertical-align: top;\n",
       "    }\n",
       "\n",
       "    .dataframe thead th {\n",
       "        text-align: right;\n",
       "    }\n",
       "</style>\n",
       "<table border=\"1\" class=\"dataframe\">\n",
       "  <thead>\n",
       "    <tr style=\"text-align: right;\">\n",
       "      <th></th>\n",
       "      <th>Title</th>\n",
       "      <th>Topic</th>\n",
       "      <th>Title Length</th>\n",
       "      <th>Title Parsed</th>\n",
       "      <th>Title Parsed Length</th>\n",
       "      <th>Topic Codes</th>\n",
       "    </tr>\n",
       "  </thead>\n",
       "  <tbody>\n",
       "    <tr>\n",
       "      <th>0</th>\n",
       "      <td>Types of sets</td>\n",
       "      <td>Sets</td>\n",
       "      <td>13</td>\n",
       "      <td>set type</td>\n",
       "      <td>8</td>\n",
       "      <td>0</td>\n",
       "    </tr>\n",
       "    <tr>\n",
       "      <th>1</th>\n",
       "      <td>CBSE Class 2 Maths | CBSE Maths Chapter 5 - Pa...</td>\n",
       "      <td>Symmetry</td>\n",
       "      <td>96</td>\n",
       "      <td>syllabus ncert pattern</td>\n",
       "      <td>22</td>\n",
       "      <td>1</td>\n",
       "    </tr>\n",
       "    <tr>\n",
       "      <th>2</th>\n",
       "      <td>Why Do We Fart? - The Dr. Binocs Show | Best L...</td>\n",
       "      <td>Operations of Whole Number</td>\n",
       "      <td>85</td>\n",
       "      <td>kid videos</td>\n",
       "      <td>10</td>\n",
       "      <td>2</td>\n",
       "    </tr>\n",
       "    <tr>\n",
       "      <th>3</th>\n",
       "      <td>Lesson 12. Triangles and Quadrilaterals | Math...</td>\n",
       "      <td>Number Patterns</td>\n",
       "      <td>68</td>\n",
       "      <td>triangles session</td>\n",
       "      <td>17</td>\n",
       "      <td>3</td>\n",
       "    </tr>\n",
       "    <tr>\n",
       "      <th>4</th>\n",
       "      <td>Triangular Numbers 1, 3, 6, 10, 15 Non-Linear ...</td>\n",
       "      <td>Number Patterns</td>\n",
       "      <td>59</td>\n",
       "      <td>pattern rule</td>\n",
       "      <td>12</td>\n",
       "      <td>3</td>\n",
       "    </tr>\n",
       "  </tbody>\n",
       "</table>\n",
       "</div>"
      ],
      "text/plain": [
       "                                               Title  \\\n",
       "0                                      Types of sets   \n",
       "1  CBSE Class 2 Maths | CBSE Maths Chapter 5 - Pa...   \n",
       "2  Why Do We Fart? - The Dr. Binocs Show | Best L...   \n",
       "3  Lesson 12. Triangles and Quadrilaterals | Math...   \n",
       "4  Triangular Numbers 1, 3, 6, 10, 15 Non-Linear ...   \n",
       "\n",
       "                        Topic  Title Length            Title Parsed  \\\n",
       "0                        Sets            13                set type   \n",
       "1                    Symmetry            96  syllabus ncert pattern   \n",
       "2  Operations of Whole Number            85              kid videos   \n",
       "3             Number Patterns            68       triangles session   \n",
       "4             Number Patterns            59            pattern rule   \n",
       "\n",
       "   Title Parsed Length  Topic Codes  \n",
       "0                    8            0  \n",
       "1                   22            1  \n",
       "2                   10            2  \n",
       "3                   17            3  \n",
       "4                   12            3  "
      ]
     },
     "execution_count": 68,
     "metadata": {},
     "output_type": "execute_result"
    }
   ],
   "source": [
    "# Drop null values\n",
    "df_2.dropna(inplace=True)\n",
    "df_2.drop('Unnamed: 0',axis=1,inplace=True)\n",
    "df_2.head()"
   ]
  },
  {
   "cell_type": "code",
   "execution_count": 69,
   "metadata": {},
   "outputs": [
    {
     "data": {
      "text/plain": [
       "Title                  False\n",
       "Topic                  False\n",
       "Title Length           False\n",
       "Title Parsed           False\n",
       "Title Parsed Length    False\n",
       "Topic Codes            False\n",
       "dtype: bool"
      ]
     },
     "execution_count": 69,
     "metadata": {},
     "output_type": "execute_result"
    }
   ],
   "source": [
    "# check for missing values in any column\n",
    "df_2.isnull().any()"
   ]
  },
  {
   "cell_type": "code",
   "execution_count": 70,
   "metadata": {},
   "outputs": [
    {
     "data": {
      "text/plain": [
       "(1070, 6)"
      ]
     },
     "execution_count": 70,
     "metadata": {},
     "output_type": "execute_result"
    }
   ],
   "source": [
    "df_2.shape"
   ]
  },
  {
   "cell_type": "markdown",
   "metadata": {},
   "source": [
    "## 3. Train - test split"
   ]
  },
  {
   "cell_type": "code",
   "execution_count": 71,
   "metadata": {},
   "outputs": [],
   "source": [
    "X_train, X_test, y_train, y_test = train_test_split(df_2['Title Parsed'], \n",
    "                                                    df_2['Topic Codes'], \n",
    "                                                    test_size = 0.15, \n",
    "                                                    random_state = 8)"
   ]
  },
  {
   "cell_type": "code",
   "execution_count": 72,
   "metadata": {},
   "outputs": [
    {
     "name": "stdout",
     "output_type": "stream",
     "text": [
      "X_train shape = (909,), X_test shape = (161,), y_train shape = (909,), y_test shape = (161,)\n"
     ]
    }
   ],
   "source": [
    "print(f'X_train shape = {X_train.shape}, X_test shape = {X_test.shape}, y_train shape = {y_train.shape}, y_test shape = {y_test.shape}')"
   ]
  },
  {
   "cell_type": "code",
   "execution_count": 73,
   "metadata": {},
   "outputs": [
    {
     "data": {
      "text/plain": [
       "18     subtract simple integers add use\n",
       "540      whole dont memorise properties\n",
       "682      positive negative add integers\n",
       "629                        study series\n",
       "64                           ncert data\n",
       "Name: Title Parsed, dtype: object"
      ]
     },
     "execution_count": 73,
     "metadata": {},
     "output_type": "execute_result"
    }
   ],
   "source": [
    "X_train.head()"
   ]
  },
  {
   "cell_type": "code",
   "execution_count": 74,
   "metadata": {},
   "outputs": [
    {
     "data": {
      "text/plain": [
       "18     6\n",
       "540    2\n",
       "682    6\n",
       "629    7\n",
       "64     8\n",
       "Name: Topic Codes, dtype: int64"
      ]
     },
     "execution_count": 74,
     "metadata": {},
     "output_type": "execute_result"
    }
   ],
   "source": [
    "y_train.head()"
   ]
  },
  {
   "cell_type": "code",
   "execution_count": 75,
   "metadata": {},
   "outputs": [
    {
     "data": {
      "text/plain": [
       "False"
      ]
     },
     "execution_count": 75,
     "metadata": {},
     "output_type": "execute_result"
    }
   ],
   "source": [
    "# check for missing values in any column\n",
    "X_train.isnull().any()"
   ]
  },
  {
   "cell_type": "code",
   "execution_count": 76,
   "metadata": {},
   "outputs": [
    {
     "data": {
      "text/plain": [
       "(909,)"
      ]
     },
     "execution_count": 76,
     "metadata": {},
     "output_type": "execute_result"
    }
   ],
   "source": [
    "y_train.shape"
   ]
  },
  {
   "cell_type": "code",
   "execution_count": 77,
   "metadata": {},
   "outputs": [
    {
     "data": {
      "text/plain": [
       "(909,)"
      ]
     },
     "execution_count": 77,
     "metadata": {},
     "output_type": "execute_result"
    }
   ],
   "source": [
    "X_train.shape"
   ]
  },
  {
   "cell_type": "code",
   "execution_count": 78,
   "metadata": {},
   "outputs": [
    {
     "data": {
      "text/plain": [
       "(161,)"
      ]
     },
     "execution_count": 78,
     "metadata": {},
     "output_type": "execute_result"
    }
   ],
   "source": [
    "X_test.shape"
   ]
  },
  {
   "cell_type": "code",
   "execution_count": 79,
   "metadata": {},
   "outputs": [
    {
     "data": {
      "text/plain": [
       "(161,)"
      ]
     },
     "execution_count": 79,
     "metadata": {},
     "output_type": "execute_result"
    }
   ],
   "source": [
    "y_test.shape"
   ]
  },
  {
   "cell_type": "markdown",
   "metadata": {},
   "source": [
    "## 4. Text representation"
   ]
  },
  {
   "cell_type": "markdown",
   "metadata": {},
   "source": [
    "We have various options:\n",
    "\n",
    "* Count Vectors as features\n",
    "* TF-IDF Vectors as features\n",
    "* Word Embeddings as features\n",
    "* Text / NLP based features\n",
    "* Topic Models as features\n",
    "\n",
    "We'll use **Count Vectors** as features."
   ]
  },
  {
   "cell_type": "code",
   "execution_count": 80,
   "metadata": {},
   "outputs": [
    {
     "name": "stdout",
     "output_type": "stream",
     "text": [
      "(909, 203)\n",
      "(161, 203)\n"
     ]
    }
   ],
   "source": [
    "from sklearn.feature_extraction.text import CountVectorizer\n",
    "\n",
    "vectorizer = CountVectorizer()\n",
    "features_train = vectorizer.fit_transform(X_train)\n",
    "labels_train = y_train\n",
    "print(features_train.shape)\n",
    "\n",
    "features_test = vectorizer.transform(X_test).toarray()\n",
    "labels_test = y_test\n",
    "print(features_test.shape)"
   ]
  },
  {
   "cell_type": "code",
   "execution_count": 81,
   "metadata": {},
   "outputs": [],
   "source": [
    "# X_train\n",
    "with open('Pickles - Title/X_train.pickle', 'wb') as output:\n",
    "    pickle.dump(X_train, output)\n",
    "    \n",
    "# X_test    \n",
    "with open('Pickles - Title/X_test.pickle', 'wb') as output:\n",
    "    pickle.dump(X_test, output)\n",
    "    \n",
    "# y_train\n",
    "with open('Pickles - Title/y_train.pickle', 'wb') as output:\n",
    "    pickle.dump(y_train, output)\n",
    "    \n",
    "# y_test\n",
    "with open('Pickles - Title/y_test.pickle', 'wb') as output:\n",
    "    pickle.dump(y_test, output)\n",
    "    \n",
    "# df\n",
    "with open('Pickles - Title/df_2.pickle', 'wb') as output:\n",
    "    pickle.dump(df_2, output)\n",
    "    \n",
    "# features_train\n",
    "with open('Pickles - Title/features_train.pickle', 'wb') as output:\n",
    "    pickle.dump(features_train, output)\n",
    "\n",
    "# labels_train\n",
    "with open('Pickles - Title/labels_train.pickle', 'wb') as output:\n",
    "    pickle.dump(labels_train, output)\n",
    "\n",
    "# features_test\n",
    "with open('Pickles - Title/features_test.pickle', 'wb') as output:\n",
    "    pickle.dump(features_test, output)\n",
    "\n",
    "# labels_test\n",
    "with open('Pickles - Title/labels_test.pickle', 'wb') as output:\n",
    "    pickle.dump(labels_test, output)\n",
    "    \n",
    "# Count Vectorizer object\n",
    "with open('Pickles - Title/vectorizer.pickle', 'wb') as output:\n",
    "    pickle.dump(vectorizer, output)"
   ]
  },
  {
   "cell_type": "code",
   "execution_count": null,
   "metadata": {},
   "outputs": [],
   "source": []
  },
  {
   "cell_type": "code",
   "execution_count": null,
   "metadata": {},
   "outputs": [],
   "source": []
  },
  {
   "cell_type": "code",
   "execution_count": null,
   "metadata": {},
   "outputs": [],
   "source": []
  }
 ],
 "metadata": {
  "kernelspec": {
   "display_name": "Python 3",
   "language": "python",
   "name": "python3"
  },
  "language_info": {
   "codemirror_mode": {
    "name": "ipython",
    "version": 3
   },
   "file_extension": ".py",
   "mimetype": "text/x-python",
   "name": "python",
   "nbconvert_exporter": "python",
   "pygments_lexer": "ipython3",
   "version": "3.8.5"
  }
 },
 "nbformat": 4,
 "nbformat_minor": 4
}
